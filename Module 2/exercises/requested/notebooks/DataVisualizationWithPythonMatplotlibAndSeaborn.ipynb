{
 "cells": [
  {
   "cell_type": "markdown",
   "metadata": {
    "id": "SFN66X63c2RL"
   },
   "source": [
    "# Plot basic line"
   ]
  },
  {
   "cell_type": "markdown",
   "metadata": {},
   "source": [
    "Setting the style of the notebook to be monokai theme, this line of code is important to ensure that we are able to see the x and y axes clearly. If you don't run this code line, you will notice that the xlabel and ylabel on any plot is black on black and it will be hard to see them. \n"
   ]
  },
  {
   "cell_type": "code",
   "execution_count": null,
   "metadata": {},
   "outputs": [],
   "source": [
    "from jupyterthemes import jtplot\n",
    "jtplot.style(theme = 'monokai', context = 'notebook', ticks = True, grid = False) "
   ]
  },
  {
   "cell_type": "code",
   "execution_count": null,
   "metadata": {
    "id": "C7C1-cY2FCWh"
   },
   "outputs": [],
   "source": [
    "import numpy as np\n",
    "import matplotlib.pyplot as plt\n",
    "import pandas as pd"
   ]
  },
  {
   "cell_type": "markdown",
   "metadata": {},
   "source": [
    "## Make EDA (Univariate, Bivariate, Multivariate), data clean, missing values management, correlation analysis"
   ]
  },
  {
   "cell_type": "code",
   "execution_count": null,
   "metadata": {
    "colab": {
     "base_uri": "https://localhost:8080/",
     "height": 415
    },
    "id": "FvlrxCdTc55r",
    "outputId": "dcfd2bf6-b96c-4f64-f88e-369c4ef82454",
    "scrolled": true
   },
   "outputs": [],
   "source": [
    "# Read the stock prices data using pandas\n"
   ]
  },
  {
   "cell_type": "code",
   "execution_count": null,
   "metadata": {
    "colab": {
     "base_uri": "https://localhost:8080/",
     "height": 295
    },
    "id": "faUG290aLAcq",
    "outputId": "d81afd42-11ca-4847-9737-3384e63baf5d"
   },
   "outputs": [],
   "source": [
    "\n"
   ]
  },
  {
   "cell_type": "markdown",
   "metadata": {},
   "source": [
    "## Using Matplotlib, plor linet plot for Netflix Stocl (Ticker Symbol: NFLX)\n",
    "Change the line color to red and increase the line width to 7"
   ]
  },
  {
   "cell_type": "code",
   "execution_count": null,
   "metadata": {},
   "outputs": [],
   "source": []
  },
  {
   "cell_type": "markdown",
   "metadata": {
    "id": "Zt75d5cadpZI"
   },
   "source": [
    "# Plot Scatterplot"
   ]
  },
  {
   "cell_type": "code",
   "execution_count": null,
   "metadata": {
    "colab": {
     "base_uri": "https://localhost:8080/",
     "height": 415
    },
    "id": "zW1BYqO9nQ2r",
    "outputId": "48437136-6ede-4648-94e8-cd73c379e381"
   },
   "outputs": [],
   "source": [
    "# Read daily return data using pandas\n",
    "\n"
   ]
  },
  {
   "cell_type": "code",
   "execution_count": null,
   "metadata": {
    "colab": {
     "base_uri": "https://localhost:8080/",
     "height": 265
    },
    "id": "mynyAlrOdMb3",
    "outputId": "ad817ac2-a9ba-4821-b99e-fbd1cdb71961"
   },
   "outputs": [],
   "source": []
  },
  {
   "cell_type": "code",
   "execution_count": null,
   "metadata": {},
   "outputs": [],
   "source": []
  },
  {
   "cell_type": "markdown",
   "metadata": {
    "id": "b-NkBddLe3IK"
   },
   "source": [
    "# Plot Pie Chart"
   ]
  },
  {
   "cell_type": "code",
   "execution_count": null,
   "metadata": {
    "colab": {
     "base_uri": "https://localhost:8080/",
     "height": 427
    },
    "id": "Hj7erO-_e2ph",
    "outputId": "9d2e5d6b-86e5-45ba-ab0b-1d0d80661747"
   },
   "outputs": [],
   "source": [
    "values  = [20, 55, 5, 17, 3]\n",
    "colors  = ['g', 'r', 'y', 'b', 'm']\n",
    "explode = [0, 0.2, 0, 0, 0.2]\n",
    "labels  = ['AAPL', 'GOOG', 'T', 'TSLA', 'AMZN']\n",
    "\n",
    "# Use matplotlib to plot a pie chart \n"
   ]
  },
  {
   "cell_type": "markdown",
   "metadata": {},
   "source": [
    "# Using Matplotlib, plot a pie chart for the following stocks: APPL, AMZN, TSLA, T, and GOOG. Assume equal allocation"
   ]
  },
  {
   "cell_type": "code",
   "execution_count": null,
   "metadata": {},
   "outputs": [],
   "source": []
  },
  {
   "cell_type": "markdown",
   "metadata": {
    "id": "wmjT_xMffg-X"
   },
   "source": [
    "# Plot Histograms"
   ]
  },
  {
   "cell_type": "code",
   "execution_count": null,
   "metadata": {
    "colab": {
     "base_uri": "https://localhost:8080/",
     "height": 336
    },
    "id": "NH2akC9gfkXZ",
    "outputId": "60fa3099-677b-474c-b6de-6a6ab218714c"
   },
   "outputs": [],
   "source": [
    "# A histogram represents data using bars of various heights. \n",
    "# Each bar groups numbers into specific ranges. \n",
    "# Taller bars show that more data falls within that specific range.\n",
    "\n",
    "mu = daily_return_df['FB'].mean() # mean of distribution\n",
    "sigma = daily_return_df['FB'].std() # standard deviation of distribution\n",
    " \n"
   ]
  },
  {
   "cell_type": "code",
   "execution_count": null,
   "metadata": {
    "id": "Q5ZC0deKyAHy"
   },
   "outputs": [],
   "source": []
  },
  {
   "cell_type": "markdown",
   "metadata": {
    "id": "BTQLC7N3hXFP"
   },
   "source": [
    "# Plot Multiples Plots"
   ]
  },
  {
   "cell_type": "code",
   "execution_count": null,
   "metadata": {},
   "outputs": [],
   "source": []
  },
  {
   "cell_type": "code",
   "execution_count": null,
   "metadata": {
    "colab": {
     "base_uri": "https://localhost:8080/",
     "height": 295
    },
    "id": "GCnCE99wNCQ4",
    "outputId": "4e07b329-30f9-4c6a-b293-e29387c62683"
   },
   "outputs": [],
   "source": []
  },
  {
   "cell_type": "markdown",
   "metadata": {},
   "source": [
    "# Using Matplotlib, plot multile line plots containing prices of Netflix, Twitter, and Facebbok\n",
    "- Add legend indicating all the stocks\n",
    "- Plce the legend in the \"upper center\" location"
   ]
  },
  {
   "cell_type": "markdown",
   "metadata": {
    "id": "LMec3MtVhj7U"
   },
   "source": [
    "# Plot Subplots"
   ]
  },
  {
   "cell_type": "code",
   "execution_count": null,
   "metadata": {
    "colab": {
     "base_uri": "https://localhost:8080/",
     "height": 320
    },
    "id": "x54BNHlshgp8",
    "outputId": "aafa8f78-3844-4118-c1bf-90d8fe455154"
   },
   "outputs": [],
   "source": []
  },
  {
   "cell_type": "code",
   "execution_count": null,
   "metadata": {
    "colab": {
     "base_uri": "https://localhost:8080/",
     "height": 483
    },
    "id": "Iz3yKDybhoXV",
    "outputId": "ec06be08-19a5-48b3-9c21-4170f9d0d5e5"
   },
   "outputs": [],
   "source": []
  },
  {
   "cell_type": "code",
   "execution_count": null,
   "metadata": {
    "id": "0_NHeonay6Jr"
   },
   "outputs": [],
   "source": []
  },
  {
   "cell_type": "markdown",
   "metadata": {
    "id": "0DkuOB6jje-T"
   },
   "source": [
    "# Plot 3D Plots"
   ]
  },
  {
   "cell_type": "code",
   "execution_count": null,
   "metadata": {
    "colab": {
     "base_uri": "https://localhost:8080/",
     "height": 375
    },
    "id": "uk9JlBKYhvOG",
    "outputId": "2f936367-9bf6-4143-b59c-beb600090d80"
   },
   "outputs": [],
   "source": [
    "# Toolkits are collections of application-specific functions that extend Matplotlib.\n",
    "# mpl_toolkits.mplot3d provides tools for basic 3D plotting.\n",
    "# https://matplotlib.org/mpl_toolkits/index.html\n",
    "\n",
    "from mpl_toolkits.mplot3d import Axes3D\n",
    "\n",
    "fig = plt.figure(figsize = (15, 15))\n",
    "ax = fig.add_subplot(111, projection = '3d')\n",
    "\n",
    "x = [1, 2, 3, 4, 5, 6, 7, 8, 9, 10]\n",
    "y = [5, 6, 2, 3, 13, 4, 1, 2, 4, 8]\n",
    "z = [2, 3, 3, 3, 5, 7, 9, 11, 9, 10]\n",
    "\n",
    "\n"
   ]
  },
  {
   "cell_type": "markdown",
   "metadata": {},
   "source": [
    "# Create a 3D plot that shows the daily returns of Twitter, Facebook, and Netflix\n",
    "- Use the color of dataping in \"red\""
   ]
  },
  {
   "cell_type": "code",
   "execution_count": null,
   "metadata": {
    "id": "v-pZxhASz1w1"
   },
   "outputs": [],
   "source": []
  },
  {
   "cell_type": "markdown",
   "metadata": {
    "id": "kxw_XWTcWk88"
   },
   "source": [
    "# Use seaborn to plot a scatterplot & a countplot"
   ]
  },
  {
   "cell_type": "code",
   "execution_count": null,
   "metadata": {},
   "outputs": [],
   "source": [
    "# Seaborn is a visualization library that sits on top of matplotlib\n",
    "# Seaborn offers enhanced features compared to matplotlib\n",
    "# https://seaborn.pydata.org/examples/index.html\n",
    "\n",
    "# import libraries \n",
    "import seaborn as sns # Statistical data visualization\n"
   ]
  },
  {
   "cell_type": "code",
   "execution_count": null,
   "metadata": {},
   "outputs": [],
   "source": [
    "# Import Cancer data drom the Sklearn library\n",
    "from sklearn.datasets import load_breast_cancer\n",
    "cancer = load_breast_cancer()\n",
    "cancer\n"
   ]
  },
  {
   "cell_type": "code",
   "execution_count": null,
   "metadata": {},
   "outputs": [],
   "source": [
    "# Create a dataFrame named df_cancer with input/output data\n",
    "df_cancer = pd.DataFrame(np.c_[cancer['data'], cancer['target']], columns = np.append(cancer['feature_names'], ['target']))"
   ]
  },
  {
   "cell_type": "code",
   "execution_count": null,
   "metadata": {},
   "outputs": [],
   "source": [
    "# Check out the head of the dataframe\n",
    "df_cancer.head()"
   ]
  },
  {
   "cell_type": "code",
   "execution_count": null,
   "metadata": {},
   "outputs": [],
   "source": [
    "# Check out the tail of the dataframe\n",
    "df_cancer.tail()"
   ]
  },
  {
   "cell_type": "code",
   "execution_count": null,
   "metadata": {},
   "outputs": [],
   "source": [
    "# Plot scatter plot between mean area and mean smoothness\n"
   ]
  },
  {
   "cell_type": "code",
   "execution_count": null,
   "metadata": {},
   "outputs": [],
   "source": [
    "# Let's print out countplot to know how many samples belong to class #0 and #1\n"
   ]
  },
  {
   "cell_type": "markdown",
   "metadata": {},
   "source": [
    "# Using seaborn, plot a scatterplot between the mean readius and mean area\n",
    "Plese comment the plot analysis"
   ]
  },
  {
   "cell_type": "code",
   "execution_count": null,
   "metadata": {},
   "outputs": [],
   "source": []
  },
  {
   "cell_type": "markdown",
   "metadata": {},
   "source": [
    "# Using seaborn, plot a pairpplot, displot, and a heatmaps/correlations\n"
   ]
  },
  {
   "cell_type": "code",
   "execution_count": null,
   "metadata": {},
   "outputs": [],
   "source": [
    "# Plot the pairplot\n"
   ]
  },
  {
   "cell_type": "code",
   "execution_count": null,
   "metadata": {},
   "outputs": [],
   "source": [
    "# Strong correlation between the mean radius and mean perimeter, mean area and mean primeter\n"
   ]
  },
  {
   "cell_type": "code",
   "execution_count": null,
   "metadata": {},
   "outputs": [],
   "source": [
    "# plot the distplot \n",
    "# Displot combines matplotlib histogram function with kdeplot() (Kernel density estimate)\n",
    "# KDE is used to plot the Probability Density of a continuous variable. \n",
    "\n",
    "\n"
   ]
  },
  {
   "cell_type": "markdown",
   "metadata": {},
   "source": [
    "# Coursework Task Instructions\n",
    "\n",
    "* In this project, we will analyze cryptocurrency prices such as Bitcoin (BTC), Ethereum (ETH), Litecoin (LTC), Cardano (ADA) and Ripple (XRP).\n",
    "* Cryptocurrency is a decentralized digital currency that uses cryptography to secure transactions and do not have a centralized issuing authority (Government or banks).\n",
    "* Using the “crypto_daily_prices.csv” and “crypto_daily_returns.csv” datasets provided in the course package, perform the following:\n",
    "\n",
    "  1. Import both datasets using Pandas.\n",
    "  2. Using Matplotlib, plot lineplots that display crypto daily prices on one single figure.\n",
    "  3. Using Matplotlib, plot crypto daily prices on multiple subplots.\n",
    "  4. Using Matplotlib, plot the scatterplot between Bitcoin and Ethereum daily returns.\n",
    "  5. Using Seaborn, plot similar scatterplot between Bitcoin and Ethereum daily returns.\n",
    "  6. Assume that you became bullish on XRP and decided to allocate 60% of your assets in it. You also decided to equally divide the rest of your assets in other coins (BTC, LTC, ADA, and ETH). Using Matplotlib, plot a pie chart that shows these allocations. Use ‘explode’ attribute to increase the separation between BTC and the rest of the portfolio.\n",
    "  7. Using Matplotlib, plot the histogram for ETH returns using 30 bins with red color.\n",
    "  8. Using Seaborn, plot a heatmap that shows the correlations between crypto daily returns."
   ]
  },
  {
   "cell_type": "code",
   "execution_count": null,
   "metadata": {},
   "outputs": [],
   "source": []
  },
  {
   "cell_type": "code",
   "execution_count": null,
   "metadata": {},
   "outputs": [],
   "source": []
  },
  {
   "cell_type": "code",
   "execution_count": null,
   "metadata": {},
   "outputs": [],
   "source": []
  },
  {
   "cell_type": "code",
   "execution_count": null,
   "metadata": {},
   "outputs": [],
   "source": []
  }
 ],
 "metadata": {
  "colab": {
   "collapsed_sections": [],
   "name": "9. Python 101 - Data Visualization with matplotlib - Solution.ipynb",
   "provenance": []
  },
  "kernelspec": {
   "display_name": "tssdev (3.12.7)",
   "language": "python",
   "name": "python3"
  },
  "language_info": {
   "codemirror_mode": {
    "name": "ipython",
    "version": 3
   },
   "file_extension": ".py",
   "mimetype": "text/x-python",
   "name": "python",
   "nbconvert_exporter": "python",
   "pygments_lexer": "ipython3",
   "version": "3.12.7"
  }
 },
 "nbformat": 4,
 "nbformat_minor": 1
}
