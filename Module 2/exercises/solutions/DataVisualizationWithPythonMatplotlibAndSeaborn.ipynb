{
 "cells": [
  {
   "cell_type": "markdown",
   "metadata": {
    "id": "SFN66X63c2RL"
   },
   "source": [
    "# Plot basic line"
   ]
  },
  {
   "cell_type": "markdown",
   "metadata": {},
   "source": [
    "Setting the style of the notebook to be monokai theme, this line of code is important to ensure that we are able to see the x and y axes clearly. If you don't run this code line, you will notice that the xlabel and ylabel on any plot is black on black and it will be hard to see them. \n"
   ]
  },
  {
   "cell_type": "code",
   "execution_count": 8,
   "metadata": {},
   "outputs": [],
   "source": [
    "from jupyterthemes import jtplot\n",
    "jtplot.style(theme = 'monokai', context = 'notebook', ticks = True, grid = False) "
   ]
  },
  {
   "cell_type": "code",
   "execution_count": null,
   "metadata": {
    "id": "C7C1-cY2FCWh"
   },
   "outputs": [],
   "source": [
    "import numpy as np\n",
    "import matplotlib.pyplot as plt\n",
    "import pandas as pd"
   ]
  },
  {
   "cell_type": "markdown",
   "metadata": {},
   "source": [
    "## Make EDA (Univariate, Bivariate, Multivariate), data clean, missing values management, correlation analysis"
   ]
  },
  {
   "cell_type": "code",
   "execution_count": 11,
   "metadata": {
    "colab": {
     "base_uri": "https://localhost:8080/",
     "height": 415
    },
    "id": "FvlrxCdTc55r",
    "outputId": "dcfd2bf6-b96c-4f64-f88e-369c4ef82454",
    "scrolled": true
   },
   "outputs": [
    {
     "data": {
      "text/html": [
       "<div>\n",
       "<style scoped>\n",
       "    .dataframe tbody tr th:only-of-type {\n",
       "        vertical-align: middle;\n",
       "    }\n",
       "\n",
       "    .dataframe tbody tr th {\n",
       "        vertical-align: top;\n",
       "    }\n",
       "\n",
       "    .dataframe thead th {\n",
       "        text-align: right;\n",
       "    }\n",
       "</style>\n",
       "<table border=\"1\" class=\"dataframe\">\n",
       "  <thead>\n",
       "    <tr style=\"text-align: right;\">\n",
       "      <th></th>\n",
       "      <th>Date</th>\n",
       "      <th>FB</th>\n",
       "      <th>TWTR</th>\n",
       "      <th>NFLX</th>\n",
       "    </tr>\n",
       "  </thead>\n",
       "  <tbody>\n",
       "    <tr>\n",
       "      <th>0</th>\n",
       "      <td>2013-11-07</td>\n",
       "      <td>47.560001</td>\n",
       "      <td>44.900002</td>\n",
       "      <td>46.694286</td>\n",
       "    </tr>\n",
       "    <tr>\n",
       "      <th>1</th>\n",
       "      <td>2013-11-08</td>\n",
       "      <td>47.529999</td>\n",
       "      <td>41.650002</td>\n",
       "      <td>47.842857</td>\n",
       "    </tr>\n",
       "    <tr>\n",
       "      <th>2</th>\n",
       "      <td>2013-11-11</td>\n",
       "      <td>46.200001</td>\n",
       "      <td>42.900002</td>\n",
       "      <td>48.272858</td>\n",
       "    </tr>\n",
       "    <tr>\n",
       "      <th>3</th>\n",
       "      <td>2013-11-12</td>\n",
       "      <td>46.610001</td>\n",
       "      <td>41.900002</td>\n",
       "      <td>47.675713</td>\n",
       "    </tr>\n",
       "    <tr>\n",
       "      <th>4</th>\n",
       "      <td>2013-11-13</td>\n",
       "      <td>48.709999</td>\n",
       "      <td>42.599998</td>\n",
       "      <td>47.897144</td>\n",
       "    </tr>\n",
       "    <tr>\n",
       "      <th>...</th>\n",
       "      <td>...</td>\n",
       "      <td>...</td>\n",
       "      <td>...</td>\n",
       "      <td>...</td>\n",
       "    </tr>\n",
       "    <tr>\n",
       "      <th>1707</th>\n",
       "      <td>2020-08-20</td>\n",
       "      <td>269.010010</td>\n",
       "      <td>38.959999</td>\n",
       "      <td>497.899994</td>\n",
       "    </tr>\n",
       "    <tr>\n",
       "      <th>1708</th>\n",
       "      <td>2020-08-21</td>\n",
       "      <td>267.010010</td>\n",
       "      <td>39.259998</td>\n",
       "      <td>492.309998</td>\n",
       "    </tr>\n",
       "    <tr>\n",
       "      <th>1709</th>\n",
       "      <td>2020-08-24</td>\n",
       "      <td>271.390015</td>\n",
       "      <td>40.490002</td>\n",
       "      <td>488.809998</td>\n",
       "    </tr>\n",
       "    <tr>\n",
       "      <th>1710</th>\n",
       "      <td>2020-08-25</td>\n",
       "      <td>280.820007</td>\n",
       "      <td>40.549999</td>\n",
       "      <td>490.579987</td>\n",
       "    </tr>\n",
       "    <tr>\n",
       "      <th>1711</th>\n",
       "      <td>2020-08-26</td>\n",
       "      <td>303.910004</td>\n",
       "      <td>41.080002</td>\n",
       "      <td>547.530029</td>\n",
       "    </tr>\n",
       "  </tbody>\n",
       "</table>\n",
       "<p>1712 rows × 4 columns</p>\n",
       "</div>"
      ],
      "text/plain": [
       "            Date          FB       TWTR        NFLX\n",
       "0     2013-11-07   47.560001  44.900002   46.694286\n",
       "1     2013-11-08   47.529999  41.650002   47.842857\n",
       "2     2013-11-11   46.200001  42.900002   48.272858\n",
       "3     2013-11-12   46.610001  41.900002   47.675713\n",
       "4     2013-11-13   48.709999  42.599998   47.897144\n",
       "...          ...         ...        ...         ...\n",
       "1707  2020-08-20  269.010010  38.959999  497.899994\n",
       "1708  2020-08-21  267.010010  39.259998  492.309998\n",
       "1709  2020-08-24  271.390015  40.490002  488.809998\n",
       "1710  2020-08-25  280.820007  40.549999  490.579987\n",
       "1711  2020-08-26  303.910004  41.080002  547.530029\n",
       "\n",
       "[1712 rows x 4 columns]"
      ]
     },
     "execution_count": 11,
     "metadata": {},
     "output_type": "execute_result"
    }
   ],
   "source": [
    "# Read the stock prices data using pandas\n",
    "stock_df = pd.read_csv('../requested/data/stock_data.csv')\n",
    "stock_df"
   ]
  },
  {
   "cell_type": "code",
   "execution_count": null,
   "metadata": {
    "colab": {
     "base_uri": "https://localhost:8080/",
     "height": 295
    },
    "id": "faUG290aLAcq",
    "outputId": "d81afd42-11ca-4847-9737-3384e63baf5d"
   },
   "outputs": [],
   "source": [
    "\n"
   ]
  },
  {
   "cell_type": "markdown",
   "metadata": {},
   "source": [
    "# Using Matplotlib, plor linet plot for Netflix Stocl (Ticker Symbol: NFLX) - Important\n",
    "Change the line color to red and increase the line width to 7"
   ]
  },
  {
   "cell_type": "code",
   "execution_count": null,
   "metadata": {},
   "outputs": [],
   "source": []
  },
  {
   "cell_type": "markdown",
   "metadata": {
    "id": "Zt75d5cadpZI"
   },
   "source": [
    "# Plot Scatterplot"
   ]
  },
  {
   "cell_type": "code",
   "execution_count": null,
   "metadata": {
    "colab": {
     "base_uri": "https://localhost:8080/",
     "height": 415
    },
    "id": "zW1BYqO9nQ2r",
    "outputId": "48437136-6ede-4648-94e8-cd73c379e381"
   },
   "outputs": [],
   "source": [
    "# Read daily return data using pandas\n",
    "\n"
   ]
  },
  {
   "cell_type": "code",
   "execution_count": null,
   "metadata": {
    "colab": {
     "base_uri": "https://localhost:8080/",
     "height": 265
    },
    "id": "mynyAlrOdMb3",
    "outputId": "ad817ac2-a9ba-4821-b99e-fbd1cdb71961"
   },
   "outputs": [],
   "source": []
  },
  {
   "cell_type": "code",
   "execution_count": null,
   "metadata": {},
   "outputs": [],
   "source": []
  },
  {
   "cell_type": "markdown",
   "metadata": {
    "id": "b-NkBddLe3IK"
   },
   "source": [
    "# Plot Pie Chart"
   ]
  },
  {
   "cell_type": "code",
   "execution_count": null,
   "metadata": {
    "colab": {
     "base_uri": "https://localhost:8080/",
     "height": 427
    },
    "id": "Hj7erO-_e2ph",
    "outputId": "9d2e5d6b-86e5-45ba-ab0b-1d0d80661747"
   },
   "outputs": [],
   "source": [
    "values  = [20, 55, 5, 17, 3]\n",
    "colors  = ['g', 'r', 'y', 'b', 'm']\n",
    "explode = [0, 0.2, 0, 0, 0.2]\n",
    "labels  = ['AAPL', 'GOOG', 'T', 'TSLA', 'AMZN']\n",
    "\n",
    "# Use matplotlib to plot a pie chart \n"
   ]
  },
  {
   "cell_type": "markdown",
   "metadata": {},
   "source": [
    "# Using Matplotlib, plot a pie chart for the following stocks: APPL, AMZN, TSLA, T, and GOOG. - Important\n",
    "Assume equal allocation"
   ]
  },
  {
   "cell_type": "code",
   "execution_count": null,
   "metadata": {},
   "outputs": [],
   "source": []
  },
  {
   "cell_type": "markdown",
   "metadata": {
    "id": "wmjT_xMffg-X"
   },
   "source": [
    "# Plot Histograms"
   ]
  },
  {
   "cell_type": "code",
   "execution_count": null,
   "metadata": {
    "colab": {
     "base_uri": "https://localhost:8080/",
     "height": 336
    },
    "id": "NH2akC9gfkXZ",
    "outputId": "60fa3099-677b-474c-b6de-6a6ab218714c"
   },
   "outputs": [],
   "source": [
    "# A histogram represents data using bars of various heights. \n",
    "# Each bar groups numbers into specific ranges. \n",
    "# Taller bars show that more data falls within that specific range.\n",
    "\n",
    "mu = daily_return_df['FB'].mean() # mean of distribution\n",
    "sigma = daily_return_df['FB'].std() # standard deviation of distribution\n",
    " \n"
   ]
  },
  {
   "cell_type": "code",
   "execution_count": null,
   "metadata": {
    "id": "Q5ZC0deKyAHy"
   },
   "outputs": [],
   "source": []
  },
  {
   "cell_type": "markdown",
   "metadata": {
    "id": "BTQLC7N3hXFP"
   },
   "source": [
    "# Plot Multiples Plots"
   ]
  },
  {
   "cell_type": "code",
   "execution_count": null,
   "metadata": {},
   "outputs": [],
   "source": []
  },
  {
   "cell_type": "code",
   "execution_count": null,
   "metadata": {
    "colab": {
     "base_uri": "https://localhost:8080/",
     "height": 295
    },
    "id": "GCnCE99wNCQ4",
    "outputId": "4e07b329-30f9-4c6a-b293-e29387c62683"
   },
   "outputs": [],
   "source": []
  },
  {
   "cell_type": "markdown",
   "metadata": {},
   "source": [
    "# Using Matplotlib, plot multile line plots containing prices of Netflix, Twitter, and Facebbok - Important\n",
    "- Add legend indicating all the stocks\n",
    "- Plce the legend in the \"upper center\" location"
   ]
  },
  {
   "cell_type": "markdown",
   "metadata": {
    "id": "LMec3MtVhj7U"
   },
   "source": [
    "# Plot Subplots"
   ]
  },
  {
   "cell_type": "code",
   "execution_count": null,
   "metadata": {
    "colab": {
     "base_uri": "https://localhost:8080/",
     "height": 320
    },
    "id": "x54BNHlshgp8",
    "outputId": "aafa8f78-3844-4118-c1bf-90d8fe455154"
   },
   "outputs": [],
   "source": []
  },
  {
   "cell_type": "code",
   "execution_count": null,
   "metadata": {
    "colab": {
     "base_uri": "https://localhost:8080/",
     "height": 483
    },
    "id": "Iz3yKDybhoXV",
    "outputId": "ec06be08-19a5-48b3-9c21-4170f9d0d5e5"
   },
   "outputs": [],
   "source": []
  },
  {
   "cell_type": "code",
   "execution_count": null,
   "metadata": {
    "id": "0_NHeonay6Jr"
   },
   "outputs": [],
   "source": []
  },
  {
   "cell_type": "markdown",
   "metadata": {
    "id": "0DkuOB6jje-T"
   },
   "source": [
    "# Plot 3D Plots"
   ]
  },
  {
   "cell_type": "code",
   "execution_count": null,
   "metadata": {
    "colab": {
     "base_uri": "https://localhost:8080/",
     "height": 375
    },
    "id": "uk9JlBKYhvOG",
    "outputId": "2f936367-9bf6-4143-b59c-beb600090d80"
   },
   "outputs": [],
   "source": [
    "# Toolkits are collections of application-specific functions that extend Matplotlib.\n",
    "# mpl_toolkits.mplot3d provides tools for basic 3D plotting.\n",
    "# https://matplotlib.org/mpl_toolkits/index.html\n",
    "\n",
    "from mpl_toolkits.mplot3d import Axes3D\n",
    "\n",
    "fig = plt.figure(figsize = (15, 15))\n",
    "ax = fig.add_subplot(111, projection = '3d')\n",
    "\n",
    "x = [1, 2, 3, 4, 5, 6, 7, 8, 9, 10]\n",
    "y = [5, 6, 2, 3, 13, 4, 1, 2, 4, 8]\n",
    "z = [2, 3, 3, 3, 5, 7, 9, 11, 9, 10]\n",
    "\n",
    "\n"
   ]
  },
  {
   "cell_type": "markdown",
   "metadata": {},
   "source": [
    "# Create a 3D plot that shows the daily returns of Twitter, Facebook, and Netflix - Important\n",
    "- Use the color of dataping in \"red\""
   ]
  },
  {
   "cell_type": "code",
   "execution_count": null,
   "metadata": {
    "id": "v-pZxhASz1w1"
   },
   "outputs": [],
   "source": []
  },
  {
   "cell_type": "markdown",
   "metadata": {
    "id": "kxw_XWTcWk88"
   },
   "source": [
    "# Use seaborn to plot a scatterplot & a countplot"
   ]
  },
  {
   "cell_type": "code",
   "execution_count": null,
   "metadata": {},
   "outputs": [],
   "source": [
    "# Seaborn is a visualization library that sits on top of matplotlib\n",
    "# Seaborn offers enhanced features compared to matplotlib\n",
    "# https://seaborn.pydata.org/examples/index.html\n",
    "\n",
    "# import libraries \n",
    "import seaborn as sns # Statistical data visualization\n"
   ]
  },
  {
   "cell_type": "code",
   "execution_count": null,
   "metadata": {},
   "outputs": [],
   "source": [
    "# Import Cancer data drom the Sklearn library\n",
    "from sklearn.datasets import load_breast_cancer\n",
    "cancer = load_breast_cancer()\n",
    "cancer\n"
   ]
  },
  {
   "cell_type": "code",
   "execution_count": null,
   "metadata": {},
   "outputs": [],
   "source": [
    "# Create a dataFrame named df_cancer with input/output data\n",
    "df_cancer = pd.DataFrame(np.c_[cancer['data'], cancer['target']], columns = np.append(cancer['feature_names'], ['target']))"
   ]
  },
  {
   "cell_type": "code",
   "execution_count": null,
   "metadata": {},
   "outputs": [],
   "source": [
    "# Check out the head of the dataframe\n",
    "df_cancer.head()"
   ]
  },
  {
   "cell_type": "code",
   "execution_count": null,
   "metadata": {},
   "outputs": [],
   "source": [
    "# Check out the tail of the dataframe\n",
    "df_cancer.tail()"
   ]
  },
  {
   "cell_type": "code",
   "execution_count": null,
   "metadata": {},
   "outputs": [],
   "source": [
    "# Plot scatter plot between mean area and mean smoothness\n"
   ]
  },
  {
   "cell_type": "code",
   "execution_count": null,
   "metadata": {},
   "outputs": [],
   "source": [
    "# Let's print out countplot to know how many samples belong to class #0 and #1\n"
   ]
  },
  {
   "cell_type": "markdown",
   "metadata": {},
   "source": [
    "# Using seaborn, plot a scatterplot between the mean readius and mean area - Important\n",
    "Plese comment the plot analysis"
   ]
  },
  {
   "cell_type": "code",
   "execution_count": null,
   "metadata": {},
   "outputs": [],
   "source": []
  },
  {
   "cell_type": "markdown",
   "metadata": {},
   "source": [
    "# Using seaborn, plot a pairpplot, displot, and a heatmaps/correlations\n"
   ]
  },
  {
   "cell_type": "code",
   "execution_count": null,
   "metadata": {},
   "outputs": [],
   "source": [
    "# Plot the pairplot\n"
   ]
  },
  {
   "cell_type": "code",
   "execution_count": null,
   "metadata": {},
   "outputs": [],
   "source": [
    "# Strong correlation between the mean radius and mean perimeter, mean area and mean primeter\n"
   ]
  },
  {
   "cell_type": "code",
   "execution_count": null,
   "metadata": {},
   "outputs": [],
   "source": [
    "# plot the distplot \n",
    "# Displot combines matplotlib histogram function with kdeplot() (Kernel density estimate)\n",
    "# KDE is used to plot the Probability Density of a continuous variable. \n",
    "\n",
    "\n"
   ]
  },
  {
   "cell_type": "markdown",
   "metadata": {},
   "source": [
    "# Coursework Task Instructions\n",
    "\n",
    "* In this project, we will analyze cryptocurrency prices such as Bitcoin (BTC), Ethereum (ETH), Litecoin (LTC), Cardano (ADA) and Ripple (XRP).\n",
    "* Cryptocurrency is a decentralized digital currency that uses cryptography to secure transactions and do not have a centralized issuing authority (Government or banks).\n",
    "* Using the “crypto_daily_prices.csv” and “crypto_daily_returns.csv” datasets provided in the course package, perform the following:\n",
    "\n",
    "  1. Import both datasets using Pandas.\n",
    "  2. Using Matplotlib, plot lineplots that display crypto daily prices on one single figure.\n",
    "  3. Using Matplotlib, plot crypto daily prices on multiple subplots.\n",
    "  4. Using Matplotlib, plot the scatterplot between Bitcoin and Ethereum daily returns.\n",
    "  5. Using Seaborn, plot similar scatterplot between Bitcoin and Ethereum daily returns.\n",
    "  6. Assume that you became bullish on XRP and decided to allocate 60% of your assets in it. You also decided to equally divide the rest of your assets in other coins (BTC, LTC, ADA, and ETH). Using Matplotlib, plot a pie chart that shows these allocations. Use ‘explode’ attribute to increase the separation between BTC and the rest of the portfolio.\n",
    "  7. Using Matplotlib, plot the histogram for ETH returns using 30 bins with red color.\n",
    "  8. Using Seaborn, plot a heatmap that shows the correlations between crypto daily returns."
   ]
  },
  {
   "cell_type": "code",
   "execution_count": null,
   "metadata": {},
   "outputs": [],
   "source": [
    "import pandas as pd\n",
    "import numpy as np\n",
    "import matplotlib.pyplot as plt\n",
    "\n",
    "# Use Pandas read_csv to read crypto daily prices (BTC, ETH, and LTC)\n",
    "investments_df = pd.read_csv('../data/crypto_daily_prices.csv')\n",
    "investments_df"
   ]
  },
  {
   "cell_type": "code",
   "execution_count": null,
   "metadata": {},
   "outputs": [],
   "source": [
    "# Use matplotlib on the Pandas DataFrame to plot the data\n",
    "investments_df.plot(x = 'Date', y = ['BTC-USD Price', 'ETH-USD Price', 'LTC-USD Price'], label = ['Bitcoin Price', 'Ethereum Price', 'LiteCoin Price'],  linewidth = 3, figsize = (14, 6));\n",
    "plt.ylabel('Price [$]')\n",
    "plt.title('My Crypto Prices!')\n",
    "plt.legend(loc = \"upper right\")\n",
    "plt.grid()\n"
   ]
  },
  {
   "cell_type": "code",
   "execution_count": null,
   "metadata": {},
   "outputs": [],
   "source": [
    "investments_df.plot(x = 'Date', title = 'Crypto Prices', subplots = True, grid = True, figsize = (15, 25));"
   ]
  },
  {
   "cell_type": "code",
   "execution_count": null,
   "metadata": {},
   "outputs": [],
   "source": [
    "# Read daily return data using pandas\n",
    "daily_return_df = pd.read_csv('../requested/data/crypto_daily_returns.csv')\n",
    "daily_return_df\n",
    "\n",
    "# Plot Daily returns of BTC vs. ETH\n",
    "daily_return_df.plot.scatter('BTC', 'ETH', color = 'r', figsize = (12, 7));"
   ]
  },
  {
   "cell_type": "code",
   "execution_count": null,
   "metadata": {},
   "outputs": [],
   "source": [
    "# Plot Daily returns of BTC vs. ETH\n",
    "import seaborn as sns\n",
    "plt.figure(figsize = (20, 10))\n",
    "sns.scatterplot(daily_return_df['BTC'], daily_return_df['ETH']);"
   ]
  },
  {
   "cell_type": "code",
   "execution_count": null,
   "metadata": {},
   "outputs": [],
   "source": [
    "# Define a dictionary with all crypto allocation in a portfolio\n",
    "# Note that total summation = 100% \n",
    "my_dict =  {'allocation %': [10, 10, 10, 60, 10]}\n",
    "explode = (0, 0, 0, 0.2, 0)  \n",
    "\n",
    "\n",
    "crypto_df = pd.DataFrame(data = my_dict, index = ['BTC', 'ETH', 'LTC', 'XRP', 'ADA'])\n",
    "crypto_df.plot.pie(y = 'allocation %', explode = explode, figsize = (8, 8))\n",
    "\n",
    "plt.title('CRYPTO PORTFOLIO PIE CHART')\n"
   ]
  },
  {
   "cell_type": "code",
   "execution_count": null,
   "metadata": {},
   "outputs": [],
   "source": [
    "mu = daily_return_df['ETH'].mean() # mean of distribution\n",
    "sigma = daily_return_df['ETH'].std() # standard deviation of distribution\n",
    " \n",
    "num_bins = 40\n",
    "\n",
    "# Plot the histogram of the returns\n",
    "plt.figure(figsize = (20, 15)) \n",
    "\n",
    "daily_return_df['ETH'].plot.hist(bins = 30, alpha = 0.5, facecolor = 'r', figsize = (12, 6))\n",
    "\n",
    "plt.grid()\n",
    "plt.ylabel('Probability')\n",
    "plt.title('Histogram: mu=' + str(mu) + ', sigma=' +str(sigma));"
   ]
  },
  {
   "cell_type": "code",
   "execution_count": null,
   "metadata": {},
   "outputs": [],
   "source": [
    "plt.figure(figsize = (12, 10))\n",
    "cm = daily_return_df.corr()\n",
    "sns.heatmap(cm, annot = True)"
   ]
  },
  {
   "cell_type": "code",
   "execution_count": null,
   "metadata": {},
   "outputs": [],
   "source": []
  },
  {
   "cell_type": "markdown",
   "metadata": {},
   "source": [
    "# Using Matplotlib, plor linet plot for Netflix Stocl (Ticker Symbol: NFLX) - Important"
   ]
  },
  {
   "cell_type": "code",
   "execution_count": null,
   "metadata": {},
   "outputs": [],
   "source": [
    "stock_df.plot(x = 'Date', y = 'NFLX', label = 'Netflix Stock Price', figsize = (15, 10), linewidth = 7, color = 'r');\n",
    "plt.ylabel('Price')\n",
    "plt.title('My first plotting exercise!')\n",
    "plt.legend(loc = \"upper left\")\n",
    "plt.grid()"
   ]
  },
  {
   "cell_type": "markdown",
   "metadata": {},
   "source": [
    "# Using Matplotlib, plot a pie chart for the following stocks: APPL, AMZN, TSLA, T, and GOOG. - Important\n",
    "Assume equal allocation"
   ]
  },
  {
   "cell_type": "code",
   "execution_count": null,
   "metadata": {},
   "outputs": [],
   "source": [
    "values = [20, 20, 20, 20, 20]\n",
    "colors = ['g', 'r', 'y', 'b', 'm']\n",
    "explode = [0, 0.2, 0, 0, 0.2]\n",
    "labels = ['AAPL', 'GOOG', 'T', 'TSLA  ', 'AMZN']\n",
    "plt.figure(figsize = (10, 10))\n",
    "plt.pie(values, colors = colors, labels = labels, explode = explode)\n",
    "plt.title('STOCK PORTFOLIO')\n",
    "plt.show()"
   ]
  },
  {
   "cell_type": "markdown",
   "metadata": {},
   "source": [
    "# Using Matplotlib, plot multile line plots containing prices of Netflix, Twitter, and Facebbok - Important\n",
    "- Add legend indicating all the stocks\n",
    "- Plce the legend in the \"upper center\" location"
   ]
  },
  {
   "cell_type": "code",
   "execution_count": null,
   "metadata": {},
   "outputs": [],
   "source": [
    "stock_df.plot(x = 'Date', y = ['FB', 'TWTR', 'NFLX'], figsize = (20, 10), linewidth = 3)\n",
    "plt.ylabel('Price')\n",
    "plt.title('Stock Prices')\n",
    "plt.legend(loc=\"upper center\")\n",
    "plt.grid()"
   ]
  },
  {
   "cell_type": "markdown",
   "metadata": {},
   "source": [
    "# Create a 3D plot that shows the daily returns of Twitter, Facebook, and Netflix - Important\n",
    "- Use the color of dataping in \"red\""
   ]
  },
  {
   "cell_type": "code",
   "execution_count": null,
   "metadata": {},
   "outputs": [],
   "source": [
    "daily_return_df = pd.read_csv('../requested/data/stocks_daily_returns.csv')\n",
    "daily_return_df\n"
   ]
  },
  {
   "cell_type": "code",
   "execution_count": null,
   "metadata": {},
   "outputs": [],
   "source": [
    "fig = plt.figure(figsize=(20, 20))\n",
    "ax = fig.add_subplot(111, projection = '3d')\n",
    "\n",
    "x = daily_return_df['FB'].tolist()\n",
    "y = daily_return_df['TWTR'].tolist()\n",
    "z = daily_return_df['NFLX'].tolist()\n",
    "\n",
    "ax.scatter(x, y, z, c = 'r', marker = 'o', s = 1000)\n",
    "\n",
    "ax.set_xlabel('X Label')\n",
    "ax.set_ylabel('Y Label')\n",
    "ax.set_zlabel('Z Label')"
   ]
  },
  {
   "cell_type": "markdown",
   "metadata": {},
   "source": [
    "# Using seaborn, plot a scatterplot between the mean readius and mean area - Important"
   ]
  },
  {
   "cell_type": "code",
   "execution_count": null,
   "metadata": {},
   "outputs": [],
   "source": [
    "sns.scatterplot(x = 'mean radius', y = 'mean area', hue = 'target', data = df_cancer);\n",
    "# As mean radius increases, mean area increases \n",
    "# class #0 generally has larger mean radius and mean area compared to class #1"
   ]
  }
 ],
 "metadata": {
  "colab": {
   "collapsed_sections": [],
   "name": "9. Python 101 - Data Visualization with matplotlib - Solution.ipynb",
   "provenance": []
  },
  "kernelspec": {
   "display_name": "tssdev (3.12.7)",
   "language": "python",
   "name": "python3"
  },
  "language_info": {
   "codemirror_mode": {
    "name": "ipython",
    "version": 3
   },
   "file_extension": ".py",
   "mimetype": "text/x-python",
   "name": "python",
   "nbconvert_exporter": "python",
   "pygments_lexer": "ipython3",
   "version": "3.12.7"
  }
 },
 "nbformat": 4,
 "nbformat_minor": 1
}
