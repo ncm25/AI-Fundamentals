{
 "cells": [
  {
   "cell_type": "markdown",
   "metadata": {},
   "source": [
    "# <center>AI FUNDAMENTALS BOOTCAMP - MODULE II</center>\n",
    "## <center>ML TEMPLATE</center>\n",
    "\n",
    "\n",
    "### Project Description\n",
    "A description of the project that you would like to give\n",
    "\n",
    "### Project Objective\n",
    "In your own words\n",
    "\n",
    "### Data Source Description\n",
    "Decribe the datasource(s) used in this template\n",
    "\n",
    "\n",
    "## **<center>Scoring Guidelines - Module II</center>**\n",
    "\n",
    "### **Phase 1. Data Summary: 10% - 1 point** <br>\n",
    "- In this phase, you must import all the necessary libraries for working with data (e.g., pandas, numpy, nltk, etc.) and load the Titanic dataset into a pandas DataFrame. Ensure the data loads correctly and perform an initial visualization (e.g., display the first rows using head() or verify the dimensions).<br>\n",
    "\n",
    "### **Phase 2. EDA (Univariate and Multivariate Analysis) and Understanding Columns Data Processing: 30% - 3 points** <br>\n",
    "- Explore the dataset to understand its structure and content. Analyze the distributions of the dataset variables. This phase helps you understand the data and prepare a strategy to process and use it in predictive analysis. <br>\n",
    "\n",
    "### **Phase 3. Data Preprocessing: 40% - 4 points** <br>\n",
    "- Clean and transform the selected text columns. This step transforms the text data into useful information that machine learning algorithms can process. <br>\n",
    "\n",
    "### **Phase 4. Conclusion: 10% - 1 points**<br>\n",
    "- Summary of the understanding of the application of various preprocessing, vectorization, and model performance on the dataset. This conclusion should contain key points from the data scientist's perspective to the user/client who needs to make a decision based on the analysis being performed. <br>\n",
    "\n",
    "### **Phase 5. Notebook Presentation: 10% - 10 points** <br>\n",
    "- Notebook structure and flow\n",
    "- Well-commented code\n",
    "\n",
    "### Each phase should contain its respective observations, as these will be part of the evaluation."
   ]
  },
  {
   "cell_type": "markdown",
   "metadata": {},
   "source": [
    "# **Phase 1. Data Summary: 10% - 1 point**"
   ]
  },
  {
   "cell_type": "markdown",
   "metadata": {},
   "source": [
    "## Import the libraries needed to develop the Notebook"
   ]
  },
  {
   "cell_type": "code",
   "execution_count": 1,
   "metadata": {},
   "outputs": [],
   "source": [
    "# Tratamiento de datos\n",
    "#######################################\n",
    "import numpy as np\n",
    "import pandas as pd\n",
    "\n",
    "# Graficos\n",
    "#######################################\n",
    "import seaborn as sns\n",
    "import matplotlib.pyplot as plt\n",
    "from matplotlib import style\n",
    "\n",
    "# Configuracion matplotlib\n",
    "#######################################\n",
    "plt.rcParams['image.cmap'] = \"bwr\"\n",
    "plt.rcParams['savefig.bbox'] = \"tight\"\n",
    "style.use('ggplot') or plt.style.use('ggplot')\n",
    "\n",
    "# to display values upto 2 decimal places\n",
    "pd.set_option(\"display.float_format\", lambda x: \"%.2f\" % x)\n",
    "# Removes the limit for the number of displayed columns\n",
    "pd.set_option(\"display.max_columns\", None)\n",
    "# Sets the limit for the number of displayed rows\n",
    "pd.set_option(\"display.max_rows\", 200)\n",
    "\n",
    "# Instruction from https://seaborn.pydata.org/generated/seaborn.countplot.html\n",
    "sns.set_theme(style=\"darkgrid\")"
   ]
  },
  {
   "cell_type": "markdown",
   "metadata": {},
   "source": [
    "## Data loading and descriptive analysis."
   ]
  },
  {
   "cell_type": "code",
   "execution_count": 2,
   "metadata": {},
   "outputs": [],
   "source": [
    "titanic_df = pd.read_csv(\"../data/2.Titanic-Dataset.csv\")"
   ]
  },
  {
   "cell_type": "code",
   "execution_count": 3,
   "metadata": {},
   "outputs": [
    {
     "data": {
      "application/vnd.microsoft.datawrangler.viewer.v0+json": {
       "columns": [
        {
         "name": "index",
         "rawType": "int64",
         "type": "integer"
        },
        {
         "name": "PassengerId",
         "rawType": "int64",
         "type": "integer"
        },
        {
         "name": "Survived",
         "rawType": "int64",
         "type": "integer"
        },
        {
         "name": "Pclass",
         "rawType": "int64",
         "type": "integer"
        },
        {
         "name": "Name",
         "rawType": "object",
         "type": "string"
        },
        {
         "name": "Sex",
         "rawType": "object",
         "type": "string"
        },
        {
         "name": "Age",
         "rawType": "float64",
         "type": "float"
        },
        {
         "name": "SibSp",
         "rawType": "int64",
         "type": "integer"
        },
        {
         "name": "Parch",
         "rawType": "int64",
         "type": "integer"
        },
        {
         "name": "Ticket",
         "rawType": "object",
         "type": "string"
        },
        {
         "name": "Fare",
         "rawType": "float64",
         "type": "float"
        },
        {
         "name": "Cabin",
         "rawType": "object",
         "type": "unknown"
        },
        {
         "name": "Embarked",
         "rawType": "object",
         "type": "string"
        }
       ],
       "ref": "0f8e0147-d713-47c0-b8a7-4f3a8d0a5d89",
       "rows": [
        [
         "0",
         "1",
         "0",
         "3",
         "Braund, Mr. Owen Harris",
         "male",
         "22.0",
         "1",
         "0",
         "A/5 21171",
         "7.25",
         null,
         "S"
        ],
        [
         "1",
         "2",
         "1",
         "1",
         "Cumings, Mrs. John Bradley (Florence Briggs Thayer)",
         "female",
         "38.0",
         "1",
         "0",
         "PC 17599",
         "71.2833",
         "C85",
         "C"
        ],
        [
         "2",
         "3",
         "1",
         "3",
         "Heikkinen, Miss. Laina",
         "female",
         "26.0",
         "0",
         "0",
         "STON/O2. 3101282",
         "7.925",
         null,
         "S"
        ],
        [
         "3",
         "4",
         "1",
         "1",
         "Futrelle, Mrs. Jacques Heath (Lily May Peel)",
         "female",
         "35.0",
         "1",
         "0",
         "113803",
         "53.1",
         "C123",
         "S"
        ],
        [
         "4",
         "5",
         "0",
         "3",
         "Allen, Mr. William Henry",
         "male",
         "35.0",
         "0",
         "0",
         "373450",
         "8.05",
         null,
         "S"
        ]
       ],
       "shape": {
        "columns": 12,
        "rows": 5
       }
      },
      "text/html": [
       "<div>\n",
       "<style scoped>\n",
       "    .dataframe tbody tr th:only-of-type {\n",
       "        vertical-align: middle;\n",
       "    }\n",
       "\n",
       "    .dataframe tbody tr th {\n",
       "        vertical-align: top;\n",
       "    }\n",
       "\n",
       "    .dataframe thead th {\n",
       "        text-align: right;\n",
       "    }\n",
       "</style>\n",
       "<table border=\"1\" class=\"dataframe\">\n",
       "  <thead>\n",
       "    <tr style=\"text-align: right;\">\n",
       "      <th></th>\n",
       "      <th>PassengerId</th>\n",
       "      <th>Survived</th>\n",
       "      <th>Pclass</th>\n",
       "      <th>Name</th>\n",
       "      <th>Sex</th>\n",
       "      <th>Age</th>\n",
       "      <th>SibSp</th>\n",
       "      <th>Parch</th>\n",
       "      <th>Ticket</th>\n",
       "      <th>Fare</th>\n",
       "      <th>Cabin</th>\n",
       "      <th>Embarked</th>\n",
       "    </tr>\n",
       "  </thead>\n",
       "  <tbody>\n",
       "    <tr>\n",
       "      <th>0</th>\n",
       "      <td>1</td>\n",
       "      <td>0</td>\n",
       "      <td>3</td>\n",
       "      <td>Braund, Mr. Owen Harris</td>\n",
       "      <td>male</td>\n",
       "      <td>22.00</td>\n",
       "      <td>1</td>\n",
       "      <td>0</td>\n",
       "      <td>A/5 21171</td>\n",
       "      <td>7.25</td>\n",
       "      <td>NaN</td>\n",
       "      <td>S</td>\n",
       "    </tr>\n",
       "    <tr>\n",
       "      <th>1</th>\n",
       "      <td>2</td>\n",
       "      <td>1</td>\n",
       "      <td>1</td>\n",
       "      <td>Cumings, Mrs. John Bradley (Florence Briggs Th...</td>\n",
       "      <td>female</td>\n",
       "      <td>38.00</td>\n",
       "      <td>1</td>\n",
       "      <td>0</td>\n",
       "      <td>PC 17599</td>\n",
       "      <td>71.28</td>\n",
       "      <td>C85</td>\n",
       "      <td>C</td>\n",
       "    </tr>\n",
       "    <tr>\n",
       "      <th>2</th>\n",
       "      <td>3</td>\n",
       "      <td>1</td>\n",
       "      <td>3</td>\n",
       "      <td>Heikkinen, Miss. Laina</td>\n",
       "      <td>female</td>\n",
       "      <td>26.00</td>\n",
       "      <td>0</td>\n",
       "      <td>0</td>\n",
       "      <td>STON/O2. 3101282</td>\n",
       "      <td>7.92</td>\n",
       "      <td>NaN</td>\n",
       "      <td>S</td>\n",
       "    </tr>\n",
       "    <tr>\n",
       "      <th>3</th>\n",
       "      <td>4</td>\n",
       "      <td>1</td>\n",
       "      <td>1</td>\n",
       "      <td>Futrelle, Mrs. Jacques Heath (Lily May Peel)</td>\n",
       "      <td>female</td>\n",
       "      <td>35.00</td>\n",
       "      <td>1</td>\n",
       "      <td>0</td>\n",
       "      <td>113803</td>\n",
       "      <td>53.10</td>\n",
       "      <td>C123</td>\n",
       "      <td>S</td>\n",
       "    </tr>\n",
       "    <tr>\n",
       "      <th>4</th>\n",
       "      <td>5</td>\n",
       "      <td>0</td>\n",
       "      <td>3</td>\n",
       "      <td>Allen, Mr. William Henry</td>\n",
       "      <td>male</td>\n",
       "      <td>35.00</td>\n",
       "      <td>0</td>\n",
       "      <td>0</td>\n",
       "      <td>373450</td>\n",
       "      <td>8.05</td>\n",
       "      <td>NaN</td>\n",
       "      <td>S</td>\n",
       "    </tr>\n",
       "  </tbody>\n",
       "</table>\n",
       "</div>"
      ],
      "text/plain": [
       "   PassengerId  Survived  Pclass  \\\n",
       "0            1         0       3   \n",
       "1            2         1       1   \n",
       "2            3         1       3   \n",
       "3            4         1       1   \n",
       "4            5         0       3   \n",
       "\n",
       "                                                Name     Sex   Age  SibSp  \\\n",
       "0                            Braund, Mr. Owen Harris    male 22.00      1   \n",
       "1  Cumings, Mrs. John Bradley (Florence Briggs Th...  female 38.00      1   \n",
       "2                             Heikkinen, Miss. Laina  female 26.00      0   \n",
       "3       Futrelle, Mrs. Jacques Heath (Lily May Peel)  female 35.00      1   \n",
       "4                           Allen, Mr. William Henry    male 35.00      0   \n",
       "\n",
       "   Parch            Ticket  Fare Cabin Embarked  \n",
       "0      0         A/5 21171  7.25   NaN        S  \n",
       "1      0          PC 17599 71.28   C85        C  \n",
       "2      0  STON/O2. 3101282  7.92   NaN        S  \n",
       "3      0            113803 53.10  C123        S  \n",
       "4      0            373450  8.05   NaN        S  "
      ]
     },
     "execution_count": 3,
     "metadata": {},
     "output_type": "execute_result"
    }
   ],
   "source": [
    "titanic_df.head()"
   ]
  },
  {
   "cell_type": "code",
   "execution_count": 4,
   "metadata": {},
   "outputs": [
    {
     "data": {
      "application/vnd.microsoft.datawrangler.viewer.v0+json": {
       "columns": [
        {
         "name": "index",
         "rawType": "int64",
         "type": "integer"
        },
        {
         "name": "PassengerId",
         "rawType": "int64",
         "type": "integer"
        },
        {
         "name": "Survived",
         "rawType": "int64",
         "type": "integer"
        },
        {
         "name": "Pclass",
         "rawType": "int64",
         "type": "integer"
        },
        {
         "name": "Name",
         "rawType": "object",
         "type": "string"
        },
        {
         "name": "Sex",
         "rawType": "object",
         "type": "string"
        },
        {
         "name": "Age",
         "rawType": "float64",
         "type": "float"
        },
        {
         "name": "SibSp",
         "rawType": "int64",
         "type": "integer"
        },
        {
         "name": "Parch",
         "rawType": "int64",
         "type": "integer"
        },
        {
         "name": "Ticket",
         "rawType": "object",
         "type": "string"
        },
        {
         "name": "Fare",
         "rawType": "float64",
         "type": "float"
        },
        {
         "name": "Cabin",
         "rawType": "object",
         "type": "unknown"
        },
        {
         "name": "Embarked",
         "rawType": "object",
         "type": "string"
        }
       ],
       "ref": "34a913cc-a601-4665-bfcc-db58ae1db952",
       "rows": [
        [
         "886",
         "887",
         "0",
         "2",
         "Montvila, Rev. Juozas",
         "male",
         "27.0",
         "0",
         "0",
         "211536",
         "13.0",
         null,
         "S"
        ],
        [
         "887",
         "888",
         "1",
         "1",
         "Graham, Miss. Margaret Edith",
         "female",
         "19.0",
         "0",
         "0",
         "112053",
         "30.0",
         "B42",
         "S"
        ],
        [
         "888",
         "889",
         "0",
         "3",
         "Johnston, Miss. Catherine Helen \"Carrie\"",
         "female",
         null,
         "1",
         "2",
         "W./C. 6607",
         "23.45",
         null,
         "S"
        ],
        [
         "889",
         "890",
         "1",
         "1",
         "Behr, Mr. Karl Howell",
         "male",
         "26.0",
         "0",
         "0",
         "111369",
         "30.0",
         "C148",
         "C"
        ],
        [
         "890",
         "891",
         "0",
         "3",
         "Dooley, Mr. Patrick",
         "male",
         "32.0",
         "0",
         "0",
         "370376",
         "7.75",
         null,
         "Q"
        ]
       ],
       "shape": {
        "columns": 12,
        "rows": 5
       }
      },
      "text/html": [
       "<div>\n",
       "<style scoped>\n",
       "    .dataframe tbody tr th:only-of-type {\n",
       "        vertical-align: middle;\n",
       "    }\n",
       "\n",
       "    .dataframe tbody tr th {\n",
       "        vertical-align: top;\n",
       "    }\n",
       "\n",
       "    .dataframe thead th {\n",
       "        text-align: right;\n",
       "    }\n",
       "</style>\n",
       "<table border=\"1\" class=\"dataframe\">\n",
       "  <thead>\n",
       "    <tr style=\"text-align: right;\">\n",
       "      <th></th>\n",
       "      <th>PassengerId</th>\n",
       "      <th>Survived</th>\n",
       "      <th>Pclass</th>\n",
       "      <th>Name</th>\n",
       "      <th>Sex</th>\n",
       "      <th>Age</th>\n",
       "      <th>SibSp</th>\n",
       "      <th>Parch</th>\n",
       "      <th>Ticket</th>\n",
       "      <th>Fare</th>\n",
       "      <th>Cabin</th>\n",
       "      <th>Embarked</th>\n",
       "    </tr>\n",
       "  </thead>\n",
       "  <tbody>\n",
       "    <tr>\n",
       "      <th>886</th>\n",
       "      <td>887</td>\n",
       "      <td>0</td>\n",
       "      <td>2</td>\n",
       "      <td>Montvila, Rev. Juozas</td>\n",
       "      <td>male</td>\n",
       "      <td>27.00</td>\n",
       "      <td>0</td>\n",
       "      <td>0</td>\n",
       "      <td>211536</td>\n",
       "      <td>13.00</td>\n",
       "      <td>NaN</td>\n",
       "      <td>S</td>\n",
       "    </tr>\n",
       "    <tr>\n",
       "      <th>887</th>\n",
       "      <td>888</td>\n",
       "      <td>1</td>\n",
       "      <td>1</td>\n",
       "      <td>Graham, Miss. Margaret Edith</td>\n",
       "      <td>female</td>\n",
       "      <td>19.00</td>\n",
       "      <td>0</td>\n",
       "      <td>0</td>\n",
       "      <td>112053</td>\n",
       "      <td>30.00</td>\n",
       "      <td>B42</td>\n",
       "      <td>S</td>\n",
       "    </tr>\n",
       "    <tr>\n",
       "      <th>888</th>\n",
       "      <td>889</td>\n",
       "      <td>0</td>\n",
       "      <td>3</td>\n",
       "      <td>Johnston, Miss. Catherine Helen \"Carrie\"</td>\n",
       "      <td>female</td>\n",
       "      <td>NaN</td>\n",
       "      <td>1</td>\n",
       "      <td>2</td>\n",
       "      <td>W./C. 6607</td>\n",
       "      <td>23.45</td>\n",
       "      <td>NaN</td>\n",
       "      <td>S</td>\n",
       "    </tr>\n",
       "    <tr>\n",
       "      <th>889</th>\n",
       "      <td>890</td>\n",
       "      <td>1</td>\n",
       "      <td>1</td>\n",
       "      <td>Behr, Mr. Karl Howell</td>\n",
       "      <td>male</td>\n",
       "      <td>26.00</td>\n",
       "      <td>0</td>\n",
       "      <td>0</td>\n",
       "      <td>111369</td>\n",
       "      <td>30.00</td>\n",
       "      <td>C148</td>\n",
       "      <td>C</td>\n",
       "    </tr>\n",
       "    <tr>\n",
       "      <th>890</th>\n",
       "      <td>891</td>\n",
       "      <td>0</td>\n",
       "      <td>3</td>\n",
       "      <td>Dooley, Mr. Patrick</td>\n",
       "      <td>male</td>\n",
       "      <td>32.00</td>\n",
       "      <td>0</td>\n",
       "      <td>0</td>\n",
       "      <td>370376</td>\n",
       "      <td>7.75</td>\n",
       "      <td>NaN</td>\n",
       "      <td>Q</td>\n",
       "    </tr>\n",
       "  </tbody>\n",
       "</table>\n",
       "</div>"
      ],
      "text/plain": [
       "     PassengerId  Survived  Pclass                                      Name  \\\n",
       "886          887         0       2                     Montvila, Rev. Juozas   \n",
       "887          888         1       1              Graham, Miss. Margaret Edith   \n",
       "888          889         0       3  Johnston, Miss. Catherine Helen \"Carrie\"   \n",
       "889          890         1       1                     Behr, Mr. Karl Howell   \n",
       "890          891         0       3                       Dooley, Mr. Patrick   \n",
       "\n",
       "        Sex   Age  SibSp  Parch      Ticket  Fare Cabin Embarked  \n",
       "886    male 27.00      0      0      211536 13.00   NaN        S  \n",
       "887  female 19.00      0      0      112053 30.00   B42        S  \n",
       "888  female   NaN      1      2  W./C. 6607 23.45   NaN        S  \n",
       "889    male 26.00      0      0      111369 30.00  C148        C  \n",
       "890    male 32.00      0      0      370376  7.75   NaN        Q  "
      ]
     },
     "execution_count": 4,
     "metadata": {},
     "output_type": "execute_result"
    }
   ],
   "source": [
    "titanic_df.tail()"
   ]
  },
  {
   "cell_type": "code",
   "execution_count": 5,
   "metadata": {},
   "outputs": [
    {
     "data": {
      "text/plain": [
       "(891, 12)"
      ]
     },
     "execution_count": 5,
     "metadata": {},
     "output_type": "execute_result"
    }
   ],
   "source": [
    "titanic_df.shape"
   ]
  },
  {
   "cell_type": "code",
   "execution_count": 6,
   "metadata": {},
   "outputs": [
    {
     "name": "stdout",
     "output_type": "stream",
     "text": [
      "<class 'pandas.core.frame.DataFrame'>\n",
      "RangeIndex: 891 entries, 0 to 890\n",
      "Data columns (total 12 columns):\n",
      " #   Column       Non-Null Count  Dtype  \n",
      "---  ------       --------------  -----  \n",
      " 0   PassengerId  891 non-null    int64  \n",
      " 1   Survived     891 non-null    int64  \n",
      " 2   Pclass       891 non-null    int64  \n",
      " 3   Name         891 non-null    object \n",
      " 4   Sex          891 non-null    object \n",
      " 5   Age          714 non-null    float64\n",
      " 6   SibSp        891 non-null    int64  \n",
      " 7   Parch        891 non-null    int64  \n",
      " 8   Ticket       891 non-null    object \n",
      " 9   Fare         891 non-null    float64\n",
      " 10  Cabin        204 non-null    object \n",
      " 11  Embarked     889 non-null    object \n",
      "dtypes: float64(2), int64(5), object(5)\n",
      "memory usage: 83.7+ KB\n"
     ]
    }
   ],
   "source": [
    "titanic_df.info()"
   ]
  },
  {
   "cell_type": "markdown",
   "metadata": {},
   "source": [
    "## Dataset summary"
   ]
  },
  {
   "cell_type": "code",
   "execution_count": 7,
   "metadata": {},
   "outputs": [
    {
     "data": {
      "application/vnd.microsoft.datawrangler.viewer.v0+json": {
       "columns": [
        {
         "name": "index",
         "rawType": "object",
         "type": "string"
        },
        {
         "name": "count",
         "rawType": "float64",
         "type": "float"
        },
        {
         "name": "mean",
         "rawType": "float64",
         "type": "float"
        },
        {
         "name": "std",
         "rawType": "float64",
         "type": "float"
        },
        {
         "name": "min",
         "rawType": "float64",
         "type": "float"
        },
        {
         "name": "25%",
         "rawType": "float64",
         "type": "float"
        },
        {
         "name": "50%",
         "rawType": "float64",
         "type": "float"
        },
        {
         "name": "75%",
         "rawType": "float64",
         "type": "float"
        },
        {
         "name": "max",
         "rawType": "float64",
         "type": "float"
        }
       ],
       "ref": "4f9e8f4d-d3b0-4566-bb73-f7513c5dc0e2",
       "rows": [
        [
         "PassengerId",
         "891.0",
         "446.0",
         "257.3538420152301",
         "1.0",
         "223.5",
         "446.0",
         "668.5",
         "891.0"
        ],
        [
         "Survived",
         "891.0",
         "0.3838383838383838",
         "0.4865924542648575",
         "0.0",
         "0.0",
         "0.0",
         "1.0",
         "1.0"
        ],
        [
         "Pclass",
         "891.0",
         "2.308641975308642",
         "0.836071240977049",
         "1.0",
         "2.0",
         "3.0",
         "3.0",
         "3.0"
        ],
        [
         "Age",
         "714.0",
         "29.69911764705882",
         "14.526497332334042",
         "0.42",
         "20.125",
         "28.0",
         "38.0",
         "80.0"
        ],
        [
         "SibSp",
         "891.0",
         "0.5230078563411896",
         "1.1027434322934317",
         "0.0",
         "0.0",
         "0.0",
         "1.0",
         "8.0"
        ],
        [
         "Parch",
         "891.0",
         "0.38159371492704824",
         "0.8060572211299483",
         "0.0",
         "0.0",
         "0.0",
         "0.0",
         "6.0"
        ],
        [
         "Fare",
         "891.0",
         "32.204207968574636",
         "49.6934285971809",
         "0.0",
         "7.9104",
         "14.4542",
         "31.0",
         "512.3292"
        ]
       ],
       "shape": {
        "columns": 8,
        "rows": 7
       }
      },
      "text/html": [
       "<div>\n",
       "<style scoped>\n",
       "    .dataframe tbody tr th:only-of-type {\n",
       "        vertical-align: middle;\n",
       "    }\n",
       "\n",
       "    .dataframe tbody tr th {\n",
       "        vertical-align: top;\n",
       "    }\n",
       "\n",
       "    .dataframe thead th {\n",
       "        text-align: right;\n",
       "    }\n",
       "</style>\n",
       "<table border=\"1\" class=\"dataframe\">\n",
       "  <thead>\n",
       "    <tr style=\"text-align: right;\">\n",
       "      <th></th>\n",
       "      <th>count</th>\n",
       "      <th>mean</th>\n",
       "      <th>std</th>\n",
       "      <th>min</th>\n",
       "      <th>25%</th>\n",
       "      <th>50%</th>\n",
       "      <th>75%</th>\n",
       "      <th>max</th>\n",
       "    </tr>\n",
       "  </thead>\n",
       "  <tbody>\n",
       "    <tr>\n",
       "      <th>PassengerId</th>\n",
       "      <td>891.00</td>\n",
       "      <td>446.00</td>\n",
       "      <td>257.35</td>\n",
       "      <td>1.00</td>\n",
       "      <td>223.50</td>\n",
       "      <td>446.00</td>\n",
       "      <td>668.50</td>\n",
       "      <td>891.00</td>\n",
       "    </tr>\n",
       "    <tr>\n",
       "      <th>Survived</th>\n",
       "      <td>891.00</td>\n",
       "      <td>0.38</td>\n",
       "      <td>0.49</td>\n",
       "      <td>0.00</td>\n",
       "      <td>0.00</td>\n",
       "      <td>0.00</td>\n",
       "      <td>1.00</td>\n",
       "      <td>1.00</td>\n",
       "    </tr>\n",
       "    <tr>\n",
       "      <th>Pclass</th>\n",
       "      <td>891.00</td>\n",
       "      <td>2.31</td>\n",
       "      <td>0.84</td>\n",
       "      <td>1.00</td>\n",
       "      <td>2.00</td>\n",
       "      <td>3.00</td>\n",
       "      <td>3.00</td>\n",
       "      <td>3.00</td>\n",
       "    </tr>\n",
       "    <tr>\n",
       "      <th>Age</th>\n",
       "      <td>714.00</td>\n",
       "      <td>29.70</td>\n",
       "      <td>14.53</td>\n",
       "      <td>0.42</td>\n",
       "      <td>20.12</td>\n",
       "      <td>28.00</td>\n",
       "      <td>38.00</td>\n",
       "      <td>80.00</td>\n",
       "    </tr>\n",
       "    <tr>\n",
       "      <th>SibSp</th>\n",
       "      <td>891.00</td>\n",
       "      <td>0.52</td>\n",
       "      <td>1.10</td>\n",
       "      <td>0.00</td>\n",
       "      <td>0.00</td>\n",
       "      <td>0.00</td>\n",
       "      <td>1.00</td>\n",
       "      <td>8.00</td>\n",
       "    </tr>\n",
       "    <tr>\n",
       "      <th>Parch</th>\n",
       "      <td>891.00</td>\n",
       "      <td>0.38</td>\n",
       "      <td>0.81</td>\n",
       "      <td>0.00</td>\n",
       "      <td>0.00</td>\n",
       "      <td>0.00</td>\n",
       "      <td>0.00</td>\n",
       "      <td>6.00</td>\n",
       "    </tr>\n",
       "    <tr>\n",
       "      <th>Fare</th>\n",
       "      <td>891.00</td>\n",
       "      <td>32.20</td>\n",
       "      <td>49.69</td>\n",
       "      <td>0.00</td>\n",
       "      <td>7.91</td>\n",
       "      <td>14.45</td>\n",
       "      <td>31.00</td>\n",
       "      <td>512.33</td>\n",
       "    </tr>\n",
       "  </tbody>\n",
       "</table>\n",
       "</div>"
      ],
      "text/plain": [
       "             count   mean    std  min    25%    50%    75%    max\n",
       "PassengerId 891.00 446.00 257.35 1.00 223.50 446.00 668.50 891.00\n",
       "Survived    891.00   0.38   0.49 0.00   0.00   0.00   1.00   1.00\n",
       "Pclass      891.00   2.31   0.84 1.00   2.00   3.00   3.00   3.00\n",
       "Age         714.00  29.70  14.53 0.42  20.12  28.00  38.00  80.00\n",
       "SibSp       891.00   0.52   1.10 0.00   0.00   0.00   1.00   8.00\n",
       "Parch       891.00   0.38   0.81 0.00   0.00   0.00   0.00   6.00\n",
       "Fare        891.00  32.20  49.69 0.00   7.91  14.45  31.00 512.33"
      ]
     },
     "execution_count": 7,
     "metadata": {},
     "output_type": "execute_result"
    }
   ],
   "source": [
    "# Description of numeric columns\n",
    "titanic_df.describe().T"
   ]
  },
  {
   "cell_type": "code",
   "execution_count": 8,
   "metadata": {},
   "outputs": [
    {
     "data": {
      "application/vnd.microsoft.datawrangler.viewer.v0+json": {
       "columns": [
        {
         "name": "index",
         "rawType": "object",
         "type": "string"
        },
        {
         "name": "count",
         "rawType": "object",
         "type": "unknown"
        },
        {
         "name": "unique",
         "rawType": "object",
         "type": "unknown"
        },
        {
         "name": "top",
         "rawType": "object",
         "type": "unknown"
        },
        {
         "name": "freq",
         "rawType": "object",
         "type": "unknown"
        },
        {
         "name": "mean",
         "rawType": "object",
         "type": "unknown"
        },
        {
         "name": "std",
         "rawType": "object",
         "type": "unknown"
        },
        {
         "name": "min",
         "rawType": "object",
         "type": "unknown"
        },
        {
         "name": "25%",
         "rawType": "object",
         "type": "unknown"
        },
        {
         "name": "50%",
         "rawType": "object",
         "type": "unknown"
        },
        {
         "name": "75%",
         "rawType": "object",
         "type": "unknown"
        },
        {
         "name": "max",
         "rawType": "object",
         "type": "unknown"
        }
       ],
       "ref": "1884c11e-0f50-4d7a-988a-a6d96070e56e",
       "rows": [
        [
         "PassengerId",
         "891.0",
         null,
         null,
         null,
         "446.0",
         "257.3538420152301",
         "1.0",
         "223.5",
         "446.0",
         "668.5",
         "891.0"
        ],
        [
         "Survived",
         "891.0",
         null,
         null,
         null,
         "0.3838383838383838",
         "0.4865924542648575",
         "0.0",
         "0.0",
         "0.0",
         "1.0",
         "1.0"
        ],
        [
         "Pclass",
         "891.0",
         null,
         null,
         null,
         "2.308641975308642",
         "0.836071240977049",
         "1.0",
         "2.0",
         "3.0",
         "3.0",
         "3.0"
        ],
        [
         "Name",
         "891",
         "891",
         "Dooley, Mr. Patrick",
         "1",
         null,
         null,
         null,
         null,
         null,
         null,
         null
        ],
        [
         "Sex",
         "891",
         "2",
         "male",
         "577",
         null,
         null,
         null,
         null,
         null,
         null,
         null
        ],
        [
         "Age",
         "714.0",
         null,
         null,
         null,
         "29.69911764705882",
         "14.526497332334042",
         "0.42",
         "20.125",
         "28.0",
         "38.0",
         "80.0"
        ],
        [
         "SibSp",
         "891.0",
         null,
         null,
         null,
         "0.5230078563411896",
         "1.1027434322934317",
         "0.0",
         "0.0",
         "0.0",
         "1.0",
         "8.0"
        ],
        [
         "Parch",
         "891.0",
         null,
         null,
         null,
         "0.38159371492704824",
         "0.8060572211299483",
         "0.0",
         "0.0",
         "0.0",
         "0.0",
         "6.0"
        ],
        [
         "Ticket",
         "891",
         "681",
         "347082",
         "7",
         null,
         null,
         null,
         null,
         null,
         null,
         null
        ],
        [
         "Fare",
         "891.0",
         null,
         null,
         null,
         "32.204207968574636",
         "49.6934285971809",
         "0.0",
         "7.9104",
         "14.4542",
         "31.0",
         "512.3292"
        ],
        [
         "Cabin",
         "204",
         "147",
         "G6",
         "4",
         null,
         null,
         null,
         null,
         null,
         null,
         null
        ],
        [
         "Embarked",
         "889",
         "3",
         "S",
         "644",
         null,
         null,
         null,
         null,
         null,
         null,
         null
        ]
       ],
       "shape": {
        "columns": 11,
        "rows": 12
       }
      },
      "text/html": [
       "<div>\n",
       "<style scoped>\n",
       "    .dataframe tbody tr th:only-of-type {\n",
       "        vertical-align: middle;\n",
       "    }\n",
       "\n",
       "    .dataframe tbody tr th {\n",
       "        vertical-align: top;\n",
       "    }\n",
       "\n",
       "    .dataframe thead th {\n",
       "        text-align: right;\n",
       "    }\n",
       "</style>\n",
       "<table border=\"1\" class=\"dataframe\">\n",
       "  <thead>\n",
       "    <tr style=\"text-align: right;\">\n",
       "      <th></th>\n",
       "      <th>count</th>\n",
       "      <th>unique</th>\n",
       "      <th>top</th>\n",
       "      <th>freq</th>\n",
       "      <th>mean</th>\n",
       "      <th>std</th>\n",
       "      <th>min</th>\n",
       "      <th>25%</th>\n",
       "      <th>50%</th>\n",
       "      <th>75%</th>\n",
       "      <th>max</th>\n",
       "    </tr>\n",
       "  </thead>\n",
       "  <tbody>\n",
       "    <tr>\n",
       "      <th>PassengerId</th>\n",
       "      <td>891.00</td>\n",
       "      <td>NaN</td>\n",
       "      <td>NaN</td>\n",
       "      <td>NaN</td>\n",
       "      <td>446.00</td>\n",
       "      <td>257.35</td>\n",
       "      <td>1.00</td>\n",
       "      <td>223.50</td>\n",
       "      <td>446.00</td>\n",
       "      <td>668.50</td>\n",
       "      <td>891.00</td>\n",
       "    </tr>\n",
       "    <tr>\n",
       "      <th>Survived</th>\n",
       "      <td>891.00</td>\n",
       "      <td>NaN</td>\n",
       "      <td>NaN</td>\n",
       "      <td>NaN</td>\n",
       "      <td>0.38</td>\n",
       "      <td>0.49</td>\n",
       "      <td>0.00</td>\n",
       "      <td>0.00</td>\n",
       "      <td>0.00</td>\n",
       "      <td>1.00</td>\n",
       "      <td>1.00</td>\n",
       "    </tr>\n",
       "    <tr>\n",
       "      <th>Pclass</th>\n",
       "      <td>891.00</td>\n",
       "      <td>NaN</td>\n",
       "      <td>NaN</td>\n",
       "      <td>NaN</td>\n",
       "      <td>2.31</td>\n",
       "      <td>0.84</td>\n",
       "      <td>1.00</td>\n",
       "      <td>2.00</td>\n",
       "      <td>3.00</td>\n",
       "      <td>3.00</td>\n",
       "      <td>3.00</td>\n",
       "    </tr>\n",
       "    <tr>\n",
       "      <th>Name</th>\n",
       "      <td>891</td>\n",
       "      <td>891</td>\n",
       "      <td>Dooley, Mr. Patrick</td>\n",
       "      <td>1</td>\n",
       "      <td>NaN</td>\n",
       "      <td>NaN</td>\n",
       "      <td>NaN</td>\n",
       "      <td>NaN</td>\n",
       "      <td>NaN</td>\n",
       "      <td>NaN</td>\n",
       "      <td>NaN</td>\n",
       "    </tr>\n",
       "    <tr>\n",
       "      <th>Sex</th>\n",
       "      <td>891</td>\n",
       "      <td>2</td>\n",
       "      <td>male</td>\n",
       "      <td>577</td>\n",
       "      <td>NaN</td>\n",
       "      <td>NaN</td>\n",
       "      <td>NaN</td>\n",
       "      <td>NaN</td>\n",
       "      <td>NaN</td>\n",
       "      <td>NaN</td>\n",
       "      <td>NaN</td>\n",
       "    </tr>\n",
       "    <tr>\n",
       "      <th>Age</th>\n",
       "      <td>714.00</td>\n",
       "      <td>NaN</td>\n",
       "      <td>NaN</td>\n",
       "      <td>NaN</td>\n",
       "      <td>29.70</td>\n",
       "      <td>14.53</td>\n",
       "      <td>0.42</td>\n",
       "      <td>20.12</td>\n",
       "      <td>28.00</td>\n",
       "      <td>38.00</td>\n",
       "      <td>80.00</td>\n",
       "    </tr>\n",
       "    <tr>\n",
       "      <th>SibSp</th>\n",
       "      <td>891.00</td>\n",
       "      <td>NaN</td>\n",
       "      <td>NaN</td>\n",
       "      <td>NaN</td>\n",
       "      <td>0.52</td>\n",
       "      <td>1.10</td>\n",
       "      <td>0.00</td>\n",
       "      <td>0.00</td>\n",
       "      <td>0.00</td>\n",
       "      <td>1.00</td>\n",
       "      <td>8.00</td>\n",
       "    </tr>\n",
       "    <tr>\n",
       "      <th>Parch</th>\n",
       "      <td>891.00</td>\n",
       "      <td>NaN</td>\n",
       "      <td>NaN</td>\n",
       "      <td>NaN</td>\n",
       "      <td>0.38</td>\n",
       "      <td>0.81</td>\n",
       "      <td>0.00</td>\n",
       "      <td>0.00</td>\n",
       "      <td>0.00</td>\n",
       "      <td>0.00</td>\n",
       "      <td>6.00</td>\n",
       "    </tr>\n",
       "    <tr>\n",
       "      <th>Ticket</th>\n",
       "      <td>891</td>\n",
       "      <td>681</td>\n",
       "      <td>347082</td>\n",
       "      <td>7</td>\n",
       "      <td>NaN</td>\n",
       "      <td>NaN</td>\n",
       "      <td>NaN</td>\n",
       "      <td>NaN</td>\n",
       "      <td>NaN</td>\n",
       "      <td>NaN</td>\n",
       "      <td>NaN</td>\n",
       "    </tr>\n",
       "    <tr>\n",
       "      <th>Fare</th>\n",
       "      <td>891.00</td>\n",
       "      <td>NaN</td>\n",
       "      <td>NaN</td>\n",
       "      <td>NaN</td>\n",
       "      <td>32.20</td>\n",
       "      <td>49.69</td>\n",
       "      <td>0.00</td>\n",
       "      <td>7.91</td>\n",
       "      <td>14.45</td>\n",
       "      <td>31.00</td>\n",
       "      <td>512.33</td>\n",
       "    </tr>\n",
       "    <tr>\n",
       "      <th>Cabin</th>\n",
       "      <td>204</td>\n",
       "      <td>147</td>\n",
       "      <td>G6</td>\n",
       "      <td>4</td>\n",
       "      <td>NaN</td>\n",
       "      <td>NaN</td>\n",
       "      <td>NaN</td>\n",
       "      <td>NaN</td>\n",
       "      <td>NaN</td>\n",
       "      <td>NaN</td>\n",
       "      <td>NaN</td>\n",
       "    </tr>\n",
       "    <tr>\n",
       "      <th>Embarked</th>\n",
       "      <td>889</td>\n",
       "      <td>3</td>\n",
       "      <td>S</td>\n",
       "      <td>644</td>\n",
       "      <td>NaN</td>\n",
       "      <td>NaN</td>\n",
       "      <td>NaN</td>\n",
       "      <td>NaN</td>\n",
       "      <td>NaN</td>\n",
       "      <td>NaN</td>\n",
       "      <td>NaN</td>\n",
       "    </tr>\n",
       "  </tbody>\n",
       "</table>\n",
       "</div>"
      ],
      "text/plain": [
       "             count unique                  top freq   mean    std  min    25%  \\\n",
       "PassengerId 891.00    NaN                  NaN  NaN 446.00 257.35 1.00 223.50   \n",
       "Survived    891.00    NaN                  NaN  NaN   0.38   0.49 0.00   0.00   \n",
       "Pclass      891.00    NaN                  NaN  NaN   2.31   0.84 1.00   2.00   \n",
       "Name           891    891  Dooley, Mr. Patrick    1    NaN    NaN  NaN    NaN   \n",
       "Sex            891      2                 male  577    NaN    NaN  NaN    NaN   \n",
       "Age         714.00    NaN                  NaN  NaN  29.70  14.53 0.42  20.12   \n",
       "SibSp       891.00    NaN                  NaN  NaN   0.52   1.10 0.00   0.00   \n",
       "Parch       891.00    NaN                  NaN  NaN   0.38   0.81 0.00   0.00   \n",
       "Ticket         891    681               347082    7    NaN    NaN  NaN    NaN   \n",
       "Fare        891.00    NaN                  NaN  NaN  32.20  49.69 0.00   7.91   \n",
       "Cabin          204    147                   G6    4    NaN    NaN  NaN    NaN   \n",
       "Embarked       889      3                    S  644    NaN    NaN  NaN    NaN   \n",
       "\n",
       "               50%    75%    max  \n",
       "PassengerId 446.00 668.50 891.00  \n",
       "Survived      0.00   1.00   1.00  \n",
       "Pclass        3.00   3.00   3.00  \n",
       "Name           NaN    NaN    NaN  \n",
       "Sex            NaN    NaN    NaN  \n",
       "Age          28.00  38.00  80.00  \n",
       "SibSp         0.00   1.00   8.00  \n",
       "Parch         0.00   0.00   6.00  \n",
       "Ticket         NaN    NaN    NaN  \n",
       "Fare         14.45  31.00 512.33  \n",
       "Cabin          NaN    NaN    NaN  \n",
       "Embarked       NaN    NaN    NaN  "
      ]
     },
     "execution_count": 8,
     "metadata": {},
     "output_type": "execute_result"
    }
   ],
   "source": [
    "# Descriptive analysis of all columns in the dataset\n",
    "titanic_df.describe(include='all').T"
   ]
  },
  {
   "cell_type": "markdown",
   "metadata": {},
   "source": [
    "## Searching for unique values for all variables"
   ]
  },
  {
   "cell_type": "code",
   "execution_count": 9,
   "metadata": {},
   "outputs": [
    {
     "data": {
      "application/vnd.microsoft.datawrangler.viewer.v0+json": {
       "columns": [
        {
         "name": "index",
         "rawType": "object",
         "type": "string"
        },
        {
         "name": "nunique",
         "rawType": "int64",
         "type": "integer"
        }
       ],
       "ref": "7a0c2da5-65f8-428d-87a2-cb7295ab449c",
       "rows": [
        [
         "PassengerId",
         "891"
        ],
        [
         "Survived",
         "2"
        ],
        [
         "Pclass",
         "3"
        ],
        [
         "Name",
         "891"
        ],
        [
         "Sex",
         "2"
        ],
        [
         "Age",
         "88"
        ],
        [
         "SibSp",
         "7"
        ],
        [
         "Parch",
         "7"
        ],
        [
         "Ticket",
         "681"
        ],
        [
         "Fare",
         "248"
        ],
        [
         "Cabin",
         "147"
        ],
        [
         "Embarked",
         "3"
        ]
       ],
       "shape": {
        "columns": 1,
        "rows": 12
       }
      },
      "text/html": [
       "<div>\n",
       "<style scoped>\n",
       "    .dataframe tbody tr th:only-of-type {\n",
       "        vertical-align: middle;\n",
       "    }\n",
       "\n",
       "    .dataframe tbody tr th {\n",
       "        vertical-align: top;\n",
       "    }\n",
       "\n",
       "    .dataframe thead th {\n",
       "        text-align: right;\n",
       "    }\n",
       "</style>\n",
       "<table border=\"1\" class=\"dataframe\">\n",
       "  <thead>\n",
       "    <tr style=\"text-align: right;\">\n",
       "      <th></th>\n",
       "      <th>nunique</th>\n",
       "    </tr>\n",
       "  </thead>\n",
       "  <tbody>\n",
       "    <tr>\n",
       "      <th>PassengerId</th>\n",
       "      <td>891</td>\n",
       "    </tr>\n",
       "    <tr>\n",
       "      <th>Survived</th>\n",
       "      <td>2</td>\n",
       "    </tr>\n",
       "    <tr>\n",
       "      <th>Pclass</th>\n",
       "      <td>3</td>\n",
       "    </tr>\n",
       "    <tr>\n",
       "      <th>Name</th>\n",
       "      <td>891</td>\n",
       "    </tr>\n",
       "    <tr>\n",
       "      <th>Sex</th>\n",
       "      <td>2</td>\n",
       "    </tr>\n",
       "    <tr>\n",
       "      <th>Age</th>\n",
       "      <td>88</td>\n",
       "    </tr>\n",
       "    <tr>\n",
       "      <th>SibSp</th>\n",
       "      <td>7</td>\n",
       "    </tr>\n",
       "    <tr>\n",
       "      <th>Parch</th>\n",
       "      <td>7</td>\n",
       "    </tr>\n",
       "    <tr>\n",
       "      <th>Ticket</th>\n",
       "      <td>681</td>\n",
       "    </tr>\n",
       "    <tr>\n",
       "      <th>Fare</th>\n",
       "      <td>248</td>\n",
       "    </tr>\n",
       "    <tr>\n",
       "      <th>Cabin</th>\n",
       "      <td>147</td>\n",
       "    </tr>\n",
       "    <tr>\n",
       "      <th>Embarked</th>\n",
       "      <td>3</td>\n",
       "    </tr>\n",
       "  </tbody>\n",
       "</table>\n",
       "</div>"
      ],
      "text/plain": [
       "             nunique\n",
       "PassengerId      891\n",
       "Survived           2\n",
       "Pclass             3\n",
       "Name             891\n",
       "Sex                2\n",
       "Age               88\n",
       "SibSp              7\n",
       "Parch              7\n",
       "Ticket           681\n",
       "Fare             248\n",
       "Cabin            147\n",
       "Embarked           3"
      ]
     },
     "execution_count": 9,
     "metadata": {},
     "output_type": "execute_result"
    }
   ],
   "source": [
    "titanic_df.agg(['nunique']).T"
   ]
  },
  {
   "cell_type": "markdown",
   "metadata": {},
   "source": [
    "## Checking how many NaN or null values are present in each variable."
   ]
  },
  {
   "cell_type": "code",
   "execution_count": 10,
   "metadata": {},
   "outputs": [
    {
     "data": {
      "application/vnd.microsoft.datawrangler.viewer.v0+json": {
       "columns": [
        {
         "name": "index",
         "rawType": "object",
         "type": "string"
        },
        {
         "name": "0",
         "rawType": "int64",
         "type": "integer"
        }
       ],
       "ref": "638ae87d-7161-4454-8a83-0b1fd8112d03",
       "rows": [
        [
         "PassengerId",
         "0"
        ],
        [
         "Survived",
         "0"
        ],
        [
         "Pclass",
         "0"
        ],
        [
         "Name",
         "0"
        ],
        [
         "Sex",
         "0"
        ],
        [
         "Age",
         "177"
        ],
        [
         "SibSp",
         "0"
        ],
        [
         "Parch",
         "0"
        ],
        [
         "Ticket",
         "0"
        ],
        [
         "Fare",
         "0"
        ],
        [
         "Cabin",
         "687"
        ],
        [
         "Embarked",
         "2"
        ]
       ],
       "shape": {
        "columns": 1,
        "rows": 12
       }
      },
      "text/plain": [
       "PassengerId      0\n",
       "Survived         0\n",
       "Pclass           0\n",
       "Name             0\n",
       "Sex              0\n",
       "Age            177\n",
       "SibSp            0\n",
       "Parch            0\n",
       "Ticket           0\n",
       "Fare             0\n",
       "Cabin          687\n",
       "Embarked         2\n",
       "dtype: int64"
      ]
     },
     "execution_count": 10,
     "metadata": {},
     "output_type": "execute_result"
    }
   ],
   "source": [
    "titanic_df.isnull().sum()"
   ]
  },
  {
   "cell_type": "code",
   "execution_count": 11,
   "metadata": {},
   "outputs": [
    {
     "data": {
      "application/vnd.microsoft.datawrangler.viewer.v0+json": {
       "columns": [
        {
         "name": "Cabin",
         "rawType": "object",
         "type": "string"
        },
        {
         "name": "count",
         "rawType": "int64",
         "type": "integer"
        }
       ],
       "ref": "02b74012-a6a4-4655-b3ee-68d896059f86",
       "rows": [
        [
         "G6",
         "4"
        ],
        [
         "C23 C25 C27",
         "4"
        ],
        [
         "B96 B98",
         "4"
        ],
        [
         "F2",
         "3"
        ],
        [
         "D",
         "3"
        ],
        [
         "E101",
         "3"
        ],
        [
         "C22 C26",
         "3"
        ],
        [
         "F33",
         "3"
        ],
        [
         "C83",
         "2"
        ],
        [
         "C123",
         "2"
        ],
        [
         "B28",
         "2"
        ],
        [
         "D26",
         "2"
        ],
        [
         "B58 B60",
         "2"
        ],
        [
         "E33",
         "2"
        ],
        [
         "D33",
         "2"
        ],
        [
         "C52",
         "2"
        ],
        [
         "F G73",
         "2"
        ],
        [
         "B77",
         "2"
        ],
        [
         "C93",
         "2"
        ],
        [
         "B5",
         "2"
        ],
        [
         "D17",
         "2"
        ],
        [
         "E24",
         "2"
        ],
        [
         "E8",
         "2"
        ],
        [
         "E121",
         "2"
        ],
        [
         "B35",
         "2"
        ],
        [
         "E44",
         "2"
        ],
        [
         "C92",
         "2"
        ],
        [
         "C78",
         "2"
        ],
        [
         "B20",
         "2"
        ],
        [
         "C125",
         "2"
        ],
        [
         "E67",
         "2"
        ],
        [
         "D35",
         "2"
        ],
        [
         "F4",
         "2"
        ],
        [
         "C2",
         "2"
        ],
        [
         "D36",
         "2"
        ],
        [
         "C65",
         "2"
        ],
        [
         "C124",
         "2"
        ],
        [
         "B18",
         "2"
        ],
        [
         "B57 B59 B63 B66",
         "2"
        ],
        [
         "B49",
         "2"
        ],
        [
         "B22",
         "2"
        ],
        [
         "E25",
         "2"
        ],
        [
         "D20",
         "2"
        ],
        [
         "C68",
         "2"
        ],
        [
         "B51 B53 B55",
         "2"
        ],
        [
         "C126",
         "2"
        ],
        [
         "E46",
         "1"
        ],
        [
         "C85",
         "1"
        ],
        [
         "D56",
         "1"
        ],
        [
         "B78",
         "1"
        ]
       ],
       "shape": {
        "columns": 1,
        "rows": 147
       }
      },
      "text/plain": [
       "Cabin\n",
       "G6                 4\n",
       "C23 C25 C27        4\n",
       "B96 B98            4\n",
       "F2                 3\n",
       "D                  3\n",
       "E101               3\n",
       "C22 C26            3\n",
       "F33                3\n",
       "C83                2\n",
       "C123               2\n",
       "B28                2\n",
       "D26                2\n",
       "B58 B60            2\n",
       "E33                2\n",
       "D33                2\n",
       "C52                2\n",
       "F G73              2\n",
       "B77                2\n",
       "C93                2\n",
       "B5                 2\n",
       "D17                2\n",
       "E24                2\n",
       "E8                 2\n",
       "E121               2\n",
       "B35                2\n",
       "E44                2\n",
       "C92                2\n",
       "C78                2\n",
       "B20                2\n",
       "C125               2\n",
       "E67                2\n",
       "D35                2\n",
       "F4                 2\n",
       "C2                 2\n",
       "D36                2\n",
       "C65                2\n",
       "C124               2\n",
       "B18                2\n",
       "B57 B59 B63 B66    2\n",
       "B49                2\n",
       "B22                2\n",
       "E25                2\n",
       "D20                2\n",
       "C68                2\n",
       "B51 B53 B55        2\n",
       "C126               2\n",
       "E46                1\n",
       "C85                1\n",
       "D56                1\n",
       "B78                1\n",
       "B30                1\n",
       "D10 D12            1\n",
       "A5                 1\n",
       "E31                1\n",
       "C103               1\n",
       "A6                 1\n",
       "D7                 1\n",
       "C118               1\n",
       "C99                1\n",
       "A19                1\n",
       "D47                1\n",
       "F E69              1\n",
       "C7                 1\n",
       "C54                1\n",
       "E36                1\n",
       "E34                1\n",
       "C106               1\n",
       "T                  1\n",
       "E40                1\n",
       "C91                1\n",
       "C32                1\n",
       "B94                1\n",
       "A31                1\n",
       "B80                1\n",
       "C87                1\n",
       "D15                1\n",
       "B4                 1\n",
       "C49                1\n",
       "A7                 1\n",
       "B19                1\n",
       "A32                1\n",
       "B86                1\n",
       "C110               1\n",
       "E63                1\n",
       "E12                1\n",
       "D21                1\n",
       "E38                1\n",
       "C111               1\n",
       "C104               1\n",
       "A34                1\n",
       "E10                1\n",
       "C128               1\n",
       "C82                1\n",
       "D37                1\n",
       "E50                1\n",
       "B73                1\n",
       "C95                1\n",
       "C30                1\n",
       "B37                1\n",
       "C101               1\n",
       "A16                1\n",
       "C70                1\n",
       "A10                1\n",
       "A20                1\n",
       "D19                1\n",
       "E68                1\n",
       "B41                1\n",
       "D9                 1\n",
       "D50                1\n",
       "B38                1\n",
       "B39                1\n",
       "C86                1\n",
       "B79                1\n",
       "D46                1\n",
       "A14                1\n",
       "B71                1\n",
       "E58                1\n",
       "A26                1\n",
       "D48                1\n",
       "B50                1\n",
       "A23                1\n",
       "F G63              1\n",
       "C62 C64            1\n",
       "C45                1\n",
       "C90                1\n",
       "D45                1\n",
       "B101               1\n",
       "C46                1\n",
       "D30                1\n",
       "D11                1\n",
       "D49                1\n",
       "E77                1\n",
       "F38                1\n",
       "D6                 1\n",
       "B3                 1\n",
       "B82 B84            1\n",
       "A36                1\n",
       "B102               1\n",
       "B69                1\n",
       "E49                1\n",
       "C47                1\n",
       "D28                1\n",
       "E17                1\n",
       "A24                1\n",
       "C50                1\n",
       "B42                1\n",
       "C148               1\n",
       "Name: count, dtype: int64"
      ]
     },
     "execution_count": 11,
     "metadata": {},
     "output_type": "execute_result"
    }
   ],
   "source": [
    "titanic_df.Cabin.value_counts()"
   ]
  },
  {
   "cell_type": "code",
   "execution_count": 12,
   "metadata": {},
   "outputs": [
    {
     "data": {
      "application/vnd.microsoft.datawrangler.viewer.v0+json": {
       "columns": [
        {
         "name": "Embarked",
         "rawType": "object",
         "type": "string"
        },
        {
         "name": "count",
         "rawType": "int64",
         "type": "integer"
        }
       ],
       "ref": "97415ed1-5c45-493a-a945-a74fa400d0ea",
       "rows": [
        [
         "S",
         "644"
        ],
        [
         "C",
         "168"
        ],
        [
         "Q",
         "77"
        ]
       ],
       "shape": {
        "columns": 1,
        "rows": 3
       }
      },
      "text/plain": [
       "Embarked\n",
       "S    644\n",
       "C    168\n",
       "Q     77\n",
       "Name: count, dtype: int64"
      ]
     },
     "execution_count": 12,
     "metadata": {},
     "output_type": "execute_result"
    }
   ],
   "source": [
    "titanic_df.Embarked.value_counts()"
   ]
  },
  {
   "cell_type": "code",
   "execution_count": 13,
   "metadata": {},
   "outputs": [],
   "source": [
    "# parsing all columns of all data types\n",
    "columnas = [col for col in titanic_df.columns]"
   ]
  },
  {
   "cell_type": "code",
   "execution_count": 14,
   "metadata": {},
   "outputs": [
    {
     "name": "stdout",
     "output_type": "stream",
     "text": [
      "\n",
      " PassengerId\n",
      "891    1\n",
      "1      1\n",
      "2      1\n",
      "3      1\n",
      "4      1\n",
      "      ..\n",
      "16     1\n",
      "15     1\n",
      "14     1\n",
      "13     1\n",
      "12     1\n",
      "Name: count, Length: 891, dtype: int64 \n",
      "\n",
      "\n",
      " Survived\n",
      "0    549\n",
      "1    342\n",
      "Name: count, dtype: int64 \n",
      "\n",
      "\n",
      " Pclass\n",
      "3    491\n",
      "1    216\n",
      "2    184\n",
      "Name: count, dtype: int64 \n",
      "\n",
      "\n",
      " Name\n",
      "Dooley, Mr. Patrick                                    1\n",
      "Braund, Mr. Owen Harris                                1\n",
      "Cumings, Mrs. John Bradley (Florence Briggs Thayer)    1\n",
      "Heikkinen, Miss. Laina                                 1\n",
      "Futrelle, Mrs. Jacques Heath (Lily May Peel)           1\n",
      "                                                      ..\n",
      "Hewlett, Mrs. (Mary D Kingcome)                        1\n",
      "Vestrom, Miss. Hulda Amanda Adolfina                   1\n",
      "Andersson, Mr. Anders Johan                            1\n",
      "Saundercock, Mr. William Henry                         1\n",
      "Bonnell, Miss. Elizabeth                               1\n",
      "Name: count, Length: 891, dtype: int64 \n",
      "\n",
      "\n",
      " Sex\n",
      "male      577\n",
      "female    314\n",
      "Name: count, dtype: int64 \n",
      "\n",
      "\n",
      " Age\n",
      "24.00    30\n",
      "22.00    27\n",
      "18.00    26\n",
      "28.00    25\n",
      "30.00    25\n",
      "19.00    25\n",
      "21.00    24\n",
      "25.00    23\n",
      "36.00    22\n",
      "29.00    20\n",
      "32.00    18\n",
      "26.00    18\n",
      "35.00    18\n",
      "27.00    18\n",
      "31.00    17\n",
      "16.00    17\n",
      "23.00    15\n",
      "20.00    15\n",
      "34.00    15\n",
      "33.00    15\n",
      "39.00    14\n",
      "42.00    13\n",
      "17.00    13\n",
      "40.00    13\n",
      "45.00    12\n",
      "38.00    11\n",
      "2.00     10\n",
      "50.00    10\n",
      "4.00     10\n",
      "48.00     9\n",
      "47.00     9\n",
      "44.00     9\n",
      "54.00     8\n",
      "9.00      8\n",
      "51.00     7\n",
      "1.00      7\n",
      "37.00     6\n",
      "14.00     6\n",
      "52.00     6\n",
      "41.00     6\n",
      "49.00     6\n",
      "3.00      6\n",
      "58.00     5\n",
      "15.00     5\n",
      "43.00     5\n",
      "5.00      4\n",
      "8.00      4\n",
      "11.00     4\n",
      "56.00     4\n",
      "60.00     4\n",
      "62.00     4\n",
      "61.00     3\n",
      "6.00      3\n",
      "46.00     3\n",
      "65.00     3\n",
      "7.00      3\n",
      "13.00     2\n",
      "55.00     2\n",
      "70.00     2\n",
      "57.00     2\n",
      "30.50     2\n",
      "32.50     2\n",
      "71.00     2\n",
      "40.50     2\n",
      "59.00     2\n",
      "0.83      2\n",
      "28.50     2\n",
      "10.00     2\n",
      "0.75      2\n",
      "64.00     2\n",
      "63.00     2\n",
      "45.50     2\n",
      "66.00     1\n",
      "55.50     1\n",
      "70.50     1\n",
      "12.00     1\n",
      "14.50     1\n",
      "36.50     1\n",
      "20.50     1\n",
      "0.92      1\n",
      "23.50     1\n",
      "53.00     1\n",
      "80.00     1\n",
      "24.50     1\n",
      "0.67      1\n",
      "0.42      1\n",
      "34.50     1\n",
      "74.00     1\n",
      "Name: count, dtype: int64 \n",
      "\n",
      "\n",
      " SibSp\n",
      "0    608\n",
      "1    209\n",
      "2     28\n",
      "4     18\n",
      "3     16\n",
      "8      7\n",
      "5      5\n",
      "Name: count, dtype: int64 \n",
      "\n",
      "\n",
      " Parch\n",
      "0    678\n",
      "1    118\n",
      "2     80\n",
      "5      5\n",
      "3      5\n",
      "4      4\n",
      "6      1\n",
      "Name: count, dtype: int64 \n",
      "\n",
      "\n",
      " Ticket\n",
      "347082              7\n",
      "1601                7\n",
      "CA. 2343            7\n",
      "3101295             6\n",
      "CA 2144             6\n",
      "                   ..\n",
      "PC 17590            1\n",
      "17463               1\n",
      "330877              1\n",
      "373450              1\n",
      "STON/O2. 3101282    1\n",
      "Name: count, Length: 681, dtype: int64 \n",
      "\n",
      "\n",
      " Fare\n",
      "8.05     43\n",
      "13.00    42\n",
      "7.90     38\n",
      "7.75     34\n",
      "26.00    31\n",
      "         ..\n",
      "13.86     1\n",
      "50.50     1\n",
      "5.00      1\n",
      "9.85      1\n",
      "10.52     1\n",
      "Name: count, Length: 248, dtype: int64 \n",
      "\n",
      "\n",
      " Cabin\n",
      "G6                 4\n",
      "C23 C25 C27        4\n",
      "B96 B98            4\n",
      "F2                 3\n",
      "D                  3\n",
      "E101               3\n",
      "C22 C26            3\n",
      "F33                3\n",
      "C83                2\n",
      "C123               2\n",
      "B28                2\n",
      "D26                2\n",
      "B58 B60            2\n",
      "E33                2\n",
      "D33                2\n",
      "C52                2\n",
      "F G73              2\n",
      "B77                2\n",
      "C93                2\n",
      "B5                 2\n",
      "D17                2\n",
      "E24                2\n",
      "E8                 2\n",
      "E121               2\n",
      "B35                2\n",
      "E44                2\n",
      "C92                2\n",
      "C78                2\n",
      "B20                2\n",
      "C125               2\n",
      "E67                2\n",
      "D35                2\n",
      "F4                 2\n",
      "C2                 2\n",
      "D36                2\n",
      "C65                2\n",
      "C124               2\n",
      "B18                2\n",
      "B57 B59 B63 B66    2\n",
      "B49                2\n",
      "B22                2\n",
      "E25                2\n",
      "D20                2\n",
      "C68                2\n",
      "B51 B53 B55        2\n",
      "C126               2\n",
      "E46                1\n",
      "C85                1\n",
      "D56                1\n",
      "B78                1\n",
      "B30                1\n",
      "D10 D12            1\n",
      "A5                 1\n",
      "E31                1\n",
      "C103               1\n",
      "A6                 1\n",
      "D7                 1\n",
      "C118               1\n",
      "C99                1\n",
      "A19                1\n",
      "D47                1\n",
      "F E69              1\n",
      "C7                 1\n",
      "C54                1\n",
      "E36                1\n",
      "E34                1\n",
      "C106               1\n",
      "T                  1\n",
      "E40                1\n",
      "C91                1\n",
      "C32                1\n",
      "B94                1\n",
      "A31                1\n",
      "B80                1\n",
      "C87                1\n",
      "D15                1\n",
      "B4                 1\n",
      "C49                1\n",
      "A7                 1\n",
      "B19                1\n",
      "A32                1\n",
      "B86                1\n",
      "C110               1\n",
      "E63                1\n",
      "E12                1\n",
      "D21                1\n",
      "E38                1\n",
      "C111               1\n",
      "C104               1\n",
      "A34                1\n",
      "E10                1\n",
      "C128               1\n",
      "C82                1\n",
      "D37                1\n",
      "E50                1\n",
      "B73                1\n",
      "C95                1\n",
      "C30                1\n",
      "B37                1\n",
      "C101               1\n",
      "A16                1\n",
      "C70                1\n",
      "A10                1\n",
      "A20                1\n",
      "D19                1\n",
      "E68                1\n",
      "B41                1\n",
      "D9                 1\n",
      "D50                1\n",
      "B38                1\n",
      "B39                1\n",
      "C86                1\n",
      "B79                1\n",
      "D46                1\n",
      "A14                1\n",
      "B71                1\n",
      "E58                1\n",
      "A26                1\n",
      "D48                1\n",
      "B50                1\n",
      "A23                1\n",
      "F G63              1\n",
      "C62 C64            1\n",
      "C45                1\n",
      "C90                1\n",
      "D45                1\n",
      "B101               1\n",
      "C46                1\n",
      "D30                1\n",
      "D11                1\n",
      "D49                1\n",
      "E77                1\n",
      "F38                1\n",
      "D6                 1\n",
      "B3                 1\n",
      "B82 B84            1\n",
      "A36                1\n",
      "B102               1\n",
      "B69                1\n",
      "E49                1\n",
      "C47                1\n",
      "D28                1\n",
      "E17                1\n",
      "A24                1\n",
      "C50                1\n",
      "B42                1\n",
      "C148               1\n",
      "Name: count, dtype: int64 \n",
      "\n",
      "\n",
      " Embarked\n",
      "S    644\n",
      "C    168\n",
      "Q     77\n",
      "Name: count, dtype: int64 \n",
      "\n"
     ]
    }
   ],
   "source": [
    "for col in columnas:\n",
    "    print(\"\\n\", titanic_df[col].value_counts(),\"\\n\")"
   ]
  },
  {
   "cell_type": "code",
   "execution_count": 15,
   "metadata": {},
   "outputs": [],
   "source": [
    "# parsing columns of data type 'object'\n",
    "columnas_object = [col for col in titanic_df.columns if titanic_df[col].dtype == 'object']"
   ]
  },
  {
   "cell_type": "code",
   "execution_count": 16,
   "metadata": {},
   "outputs": [
    {
     "name": "stdout",
     "output_type": "stream",
     "text": [
      "\n",
      " Name\n",
      "Dooley, Mr. Patrick                                    1\n",
      "Braund, Mr. Owen Harris                                1\n",
      "Cumings, Mrs. John Bradley (Florence Briggs Thayer)    1\n",
      "Heikkinen, Miss. Laina                                 1\n",
      "Futrelle, Mrs. Jacques Heath (Lily May Peel)           1\n",
      "                                                      ..\n",
      "Hewlett, Mrs. (Mary D Kingcome)                        1\n",
      "Vestrom, Miss. Hulda Amanda Adolfina                   1\n",
      "Andersson, Mr. Anders Johan                            1\n",
      "Saundercock, Mr. William Henry                         1\n",
      "Bonnell, Miss. Elizabeth                               1\n",
      "Name: count, Length: 891, dtype: int64 \n",
      "\n",
      "\n",
      " Sex\n",
      "male      577\n",
      "female    314\n",
      "Name: count, dtype: int64 \n",
      "\n",
      "\n",
      " Ticket\n",
      "347082              7\n",
      "1601                7\n",
      "CA. 2343            7\n",
      "3101295             6\n",
      "CA 2144             6\n",
      "                   ..\n",
      "PC 17590            1\n",
      "17463               1\n",
      "330877              1\n",
      "373450              1\n",
      "STON/O2. 3101282    1\n",
      "Name: count, Length: 681, dtype: int64 \n",
      "\n",
      "\n",
      " Cabin\n",
      "G6                 4\n",
      "C23 C25 C27        4\n",
      "B96 B98            4\n",
      "F2                 3\n",
      "D                  3\n",
      "E101               3\n",
      "C22 C26            3\n",
      "F33                3\n",
      "C83                2\n",
      "C123               2\n",
      "B28                2\n",
      "D26                2\n",
      "B58 B60            2\n",
      "E33                2\n",
      "D33                2\n",
      "C52                2\n",
      "F G73              2\n",
      "B77                2\n",
      "C93                2\n",
      "B5                 2\n",
      "D17                2\n",
      "E24                2\n",
      "E8                 2\n",
      "E121               2\n",
      "B35                2\n",
      "E44                2\n",
      "C92                2\n",
      "C78                2\n",
      "B20                2\n",
      "C125               2\n",
      "E67                2\n",
      "D35                2\n",
      "F4                 2\n",
      "C2                 2\n",
      "D36                2\n",
      "C65                2\n",
      "C124               2\n",
      "B18                2\n",
      "B57 B59 B63 B66    2\n",
      "B49                2\n",
      "B22                2\n",
      "E25                2\n",
      "D20                2\n",
      "C68                2\n",
      "B51 B53 B55        2\n",
      "C126               2\n",
      "E46                1\n",
      "C85                1\n",
      "D56                1\n",
      "B78                1\n",
      "B30                1\n",
      "D10 D12            1\n",
      "A5                 1\n",
      "E31                1\n",
      "C103               1\n",
      "A6                 1\n",
      "D7                 1\n",
      "C118               1\n",
      "C99                1\n",
      "A19                1\n",
      "D47                1\n",
      "F E69              1\n",
      "C7                 1\n",
      "C54                1\n",
      "E36                1\n",
      "E34                1\n",
      "C106               1\n",
      "T                  1\n",
      "E40                1\n",
      "C91                1\n",
      "C32                1\n",
      "B94                1\n",
      "A31                1\n",
      "B80                1\n",
      "C87                1\n",
      "D15                1\n",
      "B4                 1\n",
      "C49                1\n",
      "A7                 1\n",
      "B19                1\n",
      "A32                1\n",
      "B86                1\n",
      "C110               1\n",
      "E63                1\n",
      "E12                1\n",
      "D21                1\n",
      "E38                1\n",
      "C111               1\n",
      "C104               1\n",
      "A34                1\n",
      "E10                1\n",
      "C128               1\n",
      "C82                1\n",
      "D37                1\n",
      "E50                1\n",
      "B73                1\n",
      "C95                1\n",
      "C30                1\n",
      "B37                1\n",
      "C101               1\n",
      "A16                1\n",
      "C70                1\n",
      "A10                1\n",
      "A20                1\n",
      "D19                1\n",
      "E68                1\n",
      "B41                1\n",
      "D9                 1\n",
      "D50                1\n",
      "B38                1\n",
      "B39                1\n",
      "C86                1\n",
      "B79                1\n",
      "D46                1\n",
      "A14                1\n",
      "B71                1\n",
      "E58                1\n",
      "A26                1\n",
      "D48                1\n",
      "B50                1\n",
      "A23                1\n",
      "F G63              1\n",
      "C62 C64            1\n",
      "C45                1\n",
      "C90                1\n",
      "D45                1\n",
      "B101               1\n",
      "C46                1\n",
      "D30                1\n",
      "D11                1\n",
      "D49                1\n",
      "E77                1\n",
      "F38                1\n",
      "D6                 1\n",
      "B3                 1\n",
      "B82 B84            1\n",
      "A36                1\n",
      "B102               1\n",
      "B69                1\n",
      "E49                1\n",
      "C47                1\n",
      "D28                1\n",
      "E17                1\n",
      "A24                1\n",
      "C50                1\n",
      "B42                1\n",
      "C148               1\n",
      "Name: count, dtype: int64 \n",
      "\n",
      "\n",
      " Embarked\n",
      "S    644\n",
      "C    168\n",
      "Q     77\n",
      "Name: count, dtype: int64 \n",
      "\n"
     ]
    }
   ],
   "source": [
    "for col in columnas_object:\n",
    "    print(\"\\n\", titanic_df[col].value_counts(),\"\\n\")"
   ]
  },
  {
   "cell_type": "markdown",
   "metadata": {},
   "source": [
    "## Determining if there are duplicate records"
   ]
  },
  {
   "cell_type": "code",
   "execution_count": 17,
   "metadata": {},
   "outputs": [
    {
     "data": {
      "text/plain": [
       "np.int64(0)"
      ]
     },
     "execution_count": 17,
     "metadata": {},
     "output_type": "execute_result"
    }
   ],
   "source": [
    "titanic_df.duplicated().sum()"
   ]
  },
  {
   "cell_type": "markdown",
   "metadata": {},
   "source": [
    "## Determining the standard deviation of columns in the dataset"
   ]
  },
  {
   "cell_type": "code",
   "execution_count": 18,
   "metadata": {},
   "outputs": [],
   "source": [
    "# parsing columns of data type 'object'\n",
    "columnas_numericos = [col for col in titanic_df.columns if titanic_df[col].dtype != 'object']"
   ]
  },
  {
   "cell_type": "code",
   "execution_count": 19,
   "metadata": {},
   "outputs": [
    {
     "name": "stdout",
     "output_type": "stream",
     "text": [
      "\n",
      " PassengerId :  0.0 \n",
      "\n",
      "\n",
      " Survived :  0.4785234382949897 \n",
      "\n",
      "\n",
      " Pclass :  -0.6305479068752845 \n",
      "\n",
      "\n",
      " Age :  0.38910778230082704 \n",
      "\n",
      "\n",
      " SibSp :  3.6953517271630565 \n",
      "\n",
      "\n",
      " Parch :  2.7491170471010933 \n",
      "\n",
      "\n",
      " Fare :  4.787316519674893 \n",
      "\n"
     ]
    }
   ],
   "source": [
    "for col in columnas_numericos:\n",
    "    print(\"\\n\",col,\": \",titanic_df[col].skew().sum(),\"\\n\")"
   ]
  },
  {
   "cell_type": "markdown",
   "metadata": {},
   "source": [
    "## Information counting if you do not want to do it completely for all columns"
   ]
  },
  {
   "cell_type": "code",
   "execution_count": 20,
   "metadata": {},
   "outputs": [
    {
     "data": {
      "application/vnd.microsoft.datawrangler.viewer.v0+json": {
       "columns": [
        {
         "name": "Sex",
         "rawType": "object",
         "type": "string"
        },
        {
         "name": "proportion",
         "rawType": "float64",
         "type": "float"
        }
       ],
       "ref": "5234cdb0-3d81-4b84-ae3f-a0a18c12b487",
       "rows": [
        [
         "male",
         "0.6475869809203143"
        ],
        [
         "female",
         "0.35241301907968575"
        ]
       ],
       "shape": {
        "columns": 1,
        "rows": 2
       }
      },
      "text/plain": [
       "Sex\n",
       "male     0.65\n",
       "female   0.35\n",
       "Name: proportion, dtype: float64"
      ]
     },
     "execution_count": 20,
     "metadata": {},
     "output_type": "execute_result"
    }
   ],
   "source": [
    "titanic_df.Sex.value_counts(normalize=True)"
   ]
  },
  {
   "cell_type": "code",
   "execution_count": 21,
   "metadata": {},
   "outputs": [],
   "source": [
    "col_sex_conteo = titanic_df.Sex.value_counts(normalize=True)"
   ]
  },
  {
   "cell_type": "code",
   "execution_count": 22,
   "metadata": {},
   "outputs": [],
   "source": [
    "col_sex_conteo *= 100"
   ]
  },
  {
   "cell_type": "code",
   "execution_count": 23,
   "metadata": {},
   "outputs": [
    {
     "name": "stderr",
     "output_type": "stream",
     "text": [
      "C:\\Users\\NICOSCORMI\\AppData\\Local\\Temp\\ipykernel_1484\\1906183660.py:2: FutureWarning: \n",
      "\n",
      "Passing `palette` without assigning `hue` is deprecated and will be removed in v0.14.0. Assign the `x` variable to `hue` and set `legend=False` for the same effect.\n",
      "\n",
      "  sns.barplot(x=col_sex_conteo.index,y=col_sex_conteo.values,palette='viridis')\n"
     ]
    },
    {
     "data": {
      "image/png": "[encoded data removed]",
      "text/plain": [
       "<Figure size 640x480 with 1 Axes>"
      ]
     },
     "metadata": {},
     "output_type": "display_data"
    }
   ],
   "source": [
    "plt.Figure(figsize=(12,8))\n",
    "sns.barplot(x=col_sex_conteo.index,y=col_sex_conteo.values,palette='viridis')\n",
    "plt.title('Contedo de la columna SEX')\n",
    "plt.xlabel('Genero')\n",
    "plt.ylabel('Procentaje')\n",
    "plt.show()"
   ]
  },
  {
   "cell_type": "code",
   "execution_count": 24,
   "metadata": {},
   "outputs": [
    {
     "data": {
      "application/vnd.microsoft.datawrangler.viewer.v0+json": {
       "columns": [
        {
         "name": "Survived",
         "rawType": "int64",
         "type": "integer"
        },
        {
         "name": "proportion",
         "rawType": "float64",
         "type": "float"
        }
       ],
       "ref": "8ff198ec-fffe-4abd-913b-59812c4da481",
       "rows": [
        [
         "0",
         "0.6161616161616161"
        ],
        [
         "1",
         "0.3838383838383838"
        ]
       ],
       "shape": {
        "columns": 1,
        "rows": 2
       }
      },
      "text/plain": [
       "Survived\n",
       "0   0.62\n",
       "1   0.38\n",
       "Name: proportion, dtype: float64"
      ]
     },
     "execution_count": 24,
     "metadata": {},
     "output_type": "execute_result"
    }
   ],
   "source": [
    "titanic_df.Survived.value_counts(normalize=True)"
   ]
  },
  {
   "cell_type": "code",
   "execution_count": 25,
   "metadata": {},
   "outputs": [],
   "source": [
    "col_sobreviviente_conteo_sin_normalizar = titanic_df.Survived.value_counts()\n",
    "col_sobreviviente_conteo_normalizado = titanic_df.Survived.value_counts(normalize=True)"
   ]
  },
  {
   "cell_type": "code",
   "execution_count": 26,
   "metadata": {},
   "outputs": [],
   "source": [
    "col_sobreviviente_conteo_normalizado *= 100"
   ]
  },
  {
   "cell_type": "code",
   "execution_count": 27,
   "metadata": {},
   "outputs": [
    {
     "name": "stderr",
     "output_type": "stream",
     "text": [
      "C:\\Users\\NICOSCORMI\\AppData\\Local\\Temp\\ipykernel_1484\\1791658803.py:2: FutureWarning: \n",
      "\n",
      "Passing `palette` without assigning `hue` is deprecated and will be removed in v0.14.0. Assign the `x` variable to `hue` and set `legend=False` for the same effect.\n",
      "\n",
      "  sns.barplot(x=col_sobreviviente_conteo_sin_normalizar.index,y=col_sobreviviente_conteo_sin_normalizar.values,palette='viridis')\n"
     ]
    },
    {
     "data": {
      "image/png": "[encoded data removed]",
      "text/plain": [
       "<Figure size 640x480 with 1 Axes>"
      ]
     },
     "metadata": {},
     "output_type": "display_data"
    }
   ],
   "source": [
    "plt.Figure(figsize=(12,8))\n",
    "sns.barplot(x=col_sobreviviente_conteo_sin_normalizar.index,y=col_sobreviviente_conteo_sin_normalizar.values,palette='viridis')\n",
    "plt.title('Conteo de la columna Survived')\n",
    "plt.xlabel('Genero')\n",
    "plt.ylabel('Total')\n",
    "plt.show()"
   ]
  },
  {
   "cell_type": "code",
   "execution_count": 28,
   "metadata": {},
   "outputs": [
    {
     "name": "stderr",
     "output_type": "stream",
     "text": [
      "C:\\Users\\NICOSCORMI\\AppData\\Local\\Temp\\ipykernel_1484\\63355784.py:2: FutureWarning: \n",
      "\n",
      "Passing `palette` without assigning `hue` is deprecated and will be removed in v0.14.0. Assign the `x` variable to `hue` and set `legend=False` for the same effect.\n",
      "\n",
      "  sns.barplot(x=col_sobreviviente_conteo_normalizado.index,y=col_sobreviviente_conteo_normalizado.values,palette='viridis')\n"
     ]
    },
    {
     "data": {
      "image/png": "[encoded data removed]",
      "text/plain": [
       "<Figure size 640x480 with 1 Axes>"
      ]
     },
     "metadata": {},
     "output_type": "display_data"
    }
   ],
   "source": [
    "plt.Figure(figsize=(12,8))\n",
    "sns.barplot(x=col_sobreviviente_conteo_normalizado.index,y=col_sobreviviente_conteo_normalizado.values,palette='viridis')\n",
    "plt.title('Datos normalizados de la columna Survived')\n",
    "plt.xlabel('Genero')\n",
    "plt.ylabel('Porcentaje')\n",
    "plt.show()"
   ]
  },
  {
   "cell_type": "markdown",
   "metadata": {},
   "source": [
    "# **Phase 2. EDA (Univariate and Multivariate Analysis) and Understanding Columns Data Processing: 30% - 3 points**"
   ]
  },
  {
   "cell_type": "markdown",
   "metadata": {},
   "source": [
    "*Calculating the interquartile range (Q3 (75%) - Q1 (25%))*\n",
    "\n",
    "IQR = Q3 - Q1\n",
    "\n",
    "The line called the median allows me to have equal shares of the data in the dataset.\n",
    "\n",
    "Calculating the lower and upper limits of the boxplot graph\n",
    "- Lower limit = Q1 - 1.5 x IQR\n",
    "- Upper limit = Q3 + 1.5 x IQR"
   ]
  },
  {
   "cell_type": "code",
   "execution_count": 29,
   "metadata": {},
   "outputs": [],
   "source": [
    "def histogram_boxplot(data, feature, figsize=(12, 7), kde=False, bins=None):\n",
    "    \"\"\"\n",
    "    Boxplot and histogram combined\n",
    "\n",
    "    data: dataframe\n",
    "    feature: dataframe column\n",
    "    figsize: size of figure (default (12,7))\n",
    "    kde: whether to show the density curve (default False)\n",
    "    bins: number of bins for histogram (default None)\n",
    "    \"\"\"\n",
    "    f2, (ax_box2, ax_hist2) = plt.subplots(\n",
    "        nrows=2,  # Number of rows of the subplot grid= 2\n",
    "        sharex=True,  # x-axis will be shared among all subplots\n",
    "        gridspec_kw={\"height_ratios\": (0.25, 0.75)},\n",
    "        figsize=figsize,\n",
    "    )  # creating the 2 subplots\n",
    "\n",
    "    sns.boxplot(\n",
    "        data=data, x=feature, ax=ax_box2, showmeans=True, color=\"mediumturquoise\"\n",
    "    )  # boxplot will be created and a star will indicate the mean value of the column\n",
    "\n",
    "    if bins:\n",
    "        sns.histplot(\n",
    "            data=data, x=feature, kde=kde, ax=ax_hist2, bins=bins, color=\"mediumpurple\"\n",
    "        )\n",
    "    else:\n",
    "        sns.histplot(\n",
    "            data=data, x=feature, kde=kde, ax=ax_hist2, color=\"mediumpurple\"\n",
    "        )  # For histogram\n",
    "\n",
    "    ax_hist2.axvline(\n",
    "        data[feature].mean(), color=\"green\", linestyle=\"--\"\n",
    "    )  # Add mean to the histogram\n",
    "\n",
    "    ax_hist2.axvline(\n",
    "        data[feature].median(), color=\"black\", linestyle=\"-\"\n",
    "    )  # Add median to the histogram"
   ]
  },
  {
   "cell_type": "markdown",
   "metadata": {},
   "source": [
    "## Analyzing the Fare Column"
   ]
  },
  {
   "cell_type": "code",
   "execution_count": 30,
   "metadata": {},
   "outputs": [
    {
     "data": {
      "image/png": "[encoded data removed]",
      "text/plain": [
       "<Figure size 1200x700 with 2 Axes>"
      ]
     },
     "metadata": {},
     "output_type": "display_data"
    }
   ],
   "source": [
    "histogram_boxplot(titanic_df,\"Fare\", kde=True)"
   ]
  },
  {
   "cell_type": "markdown",
   "metadata": {},
   "source": [
    "## Analyzing the Age Column"
   ]
  },
  {
   "cell_type": "code",
   "execution_count": 31,
   "metadata": {},
   "outputs": [
    {
     "data": {
      "image/png": "[encoded data removed]",
      "text/plain": [
       "<Figure size 1200x700 with 2 Axes>"
      ]
     },
     "metadata": {},
     "output_type": "display_data"
    }
   ],
   "source": [
    "histogram_boxplot(titanic_df,\"Age\", kde=True)"
   ]
  },
  {
   "cell_type": "markdown",
   "metadata": {},
   "source": [
    "## Definition of the function that allows me to generate bar charts with labels"
   ]
  },
  {
   "cell_type": "code",
   "execution_count": 32,
   "metadata": {},
   "outputs": [],
   "source": [
    "def labeled_barplot(data, feature, perc=False, n=None):\n",
    "    \"\"\"\n",
    "    Barplot with percentage at the top\n",
    "\n",
    "    data: dataframe\n",
    "    feature: dataframe column\n",
    "    perc: whether to display percentages instead of count (default is False)\n",
    "    n: displays the top n category levels (default is None, i.e., display all levels)\n",
    "    \"\"\"\n",
    "\n",
    "    total = len(data[feature])  # length of the column\n",
    "    count = data[feature].nunique()\n",
    "    if n is None:\n",
    "        plt.figure(figsize=(count + 1, 5))\n",
    "    else:\n",
    "        plt.figure(figsize=(n + 1, 5))\n",
    "\n",
    "    plt.xticks(rotation=90, fontsize=15)\n",
    "    ax = sns.countplot(\n",
    "        data=data,\n",
    "        x=feature,\n",
    "        palette=\"Paired\",\n",
    "        order=data[feature].value_counts().index[:n].sort_values(),\n",
    "    )\n",
    "\n",
    "    for p in ax.patches:\n",
    "        if perc == True:\n",
    "            label = \"{:.1f}%\".format(\n",
    "                100 * p.get_height() / total\n",
    "            )  # percentage of each class of the category\n",
    "        else:\n",
    "            label = p.get_height()  # count of each level of the category\n",
    "\n",
    "        x = p.get_x() + p.get_width() / 2  # width of the plot\n",
    "        y = p.get_height()  # height of the plot\n",
    "\n",
    "        ax.annotate(\n",
    "            label,\n",
    "            (x, y),\n",
    "            ha=\"center\",\n",
    "            va=\"center\",\n",
    "            size=12,\n",
    "            xytext=(0, 5),\n",
    "            textcoords=\"offset points\",\n",
    "        )  # annotate the percentage\n",
    "\n",
    "    plt.show()  # show the plot"
   ]
  },
  {
   "cell_type": "code",
   "execution_count": 33,
   "metadata": {},
   "outputs": [
    {
     "name": "stderr",
     "output_type": "stream",
     "text": [
      "C:\\Users\\NICOSCORMI\\AppData\\Local\\Temp\\ipykernel_1484\\1758563097.py:19: FutureWarning: \n",
      "\n",
      "Passing `palette` without assigning `hue` is deprecated and will be removed in v0.14.0. Assign the `x` variable to `hue` and set `legend=False` for the same effect.\n",
      "\n",
      "  ax = sns.countplot(\n"
     ]
    },
    {
     "data": {
      "image/png": "[encoded data removed]",
      "text/plain": [
       "<Figure size 300x500 with 1 Axes>"
      ]
     },
     "metadata": {},
     "output_type": "display_data"
    }
   ],
   "source": [
    "labeled_barplot(titanic_df,\"Survived\", perc=True)"
   ]
  },
  {
   "cell_type": "code",
   "execution_count": 34,
   "metadata": {},
   "outputs": [
    {
     "name": "stderr",
     "output_type": "stream",
     "text": [
      "C:\\Users\\NICOSCORMI\\AppData\\Local\\Temp\\ipykernel_1484\\1758563097.py:19: FutureWarning: \n",
      "\n",
      "Passing `palette` without assigning `hue` is deprecated and will be removed in v0.14.0. Assign the `x` variable to `hue` and set `legend=False` for the same effect.\n",
      "\n",
      "  ax = sns.countplot(\n"
     ]
    },
    {
     "data": {
      "image/png": "[encoded data removed]",
      "text/plain": [
       "<Figure size 400x500 with 1 Axes>"
      ]
     },
     "metadata": {},
     "output_type": "display_data"
    }
   ],
   "source": [
    "labeled_barplot(titanic_df,\"Pclass\", perc=True)"
   ]
  },
  {
   "cell_type": "code",
   "execution_count": 35,
   "metadata": {},
   "outputs": [
    {
     "name": "stderr",
     "output_type": "stream",
     "text": [
      "C:\\Users\\NICOSCORMI\\AppData\\Local\\Temp\\ipykernel_1484\\1758563097.py:19: FutureWarning: \n",
      "\n",
      "Passing `palette` without assigning `hue` is deprecated and will be removed in v0.14.0. Assign the `x` variable to `hue` and set `legend=False` for the same effect.\n",
      "\n",
      "  ax = sns.countplot(\n"
     ]
    },
    {
     "data": {
      "image/png": "[encoded data removed]",
      "text/plain": [
       "<Figure size 300x500 with 1 Axes>"
      ]
     },
     "metadata": {},
     "output_type": "display_data"
    }
   ],
   "source": [
    "labeled_barplot(titanic_df,\"Sex\", perc=True)"
   ]
  },
  {
   "cell_type": "markdown",
   "metadata": {},
   "source": [
    "# **Phase 3. Data Preprocessing: 40% - 4 points**"
   ]
  },
  {
   "cell_type": "code",
   "execution_count": 36,
   "metadata": {},
   "outputs": [],
   "source": [
    "titanic_df['Age'] = titanic_df['Age'].fillna(titanic_df['Age'].median())\n",
    "titanic_df['Embarked'] = titanic_df['Embarked'].fillna('S')"
   ]
  },
  {
   "cell_type": "code",
   "execution_count": 37,
   "metadata": {},
   "outputs": [
    {
     "data": {
      "application/vnd.microsoft.datawrangler.viewer.v0+json": {
       "columns": [
        {
         "name": "index",
         "rawType": "object",
         "type": "string"
        },
        {
         "name": "count",
         "rawType": "float64",
         "type": "float"
        },
        {
         "name": "mean",
         "rawType": "float64",
         "type": "float"
        },
        {
         "name": "std",
         "rawType": "float64",
         "type": "float"
        },
        {
         "name": "min",
         "rawType": "float64",
         "type": "float"
        },
        {
         "name": "25%",
         "rawType": "float64",
         "type": "float"
        },
        {
         "name": "50%",
         "rawType": "float64",
         "type": "float"
        },
        {
         "name": "75%",
         "rawType": "float64",
         "type": "float"
        },
        {
         "name": "max",
         "rawType": "float64",
         "type": "float"
        }
       ],
       "ref": "703e5040-b716-4d8a-a48f-684be181612e",
       "rows": [
        [
         "PassengerId",
         "891.0",
         "446.0",
         "257.3538420152301",
         "1.0",
         "223.5",
         "446.0",
         "668.5",
         "891.0"
        ],
        [
         "Survived",
         "891.0",
         "0.3838383838383838",
         "0.4865924542648575",
         "0.0",
         "0.0",
         "0.0",
         "1.0",
         "1.0"
        ],
        [
         "Pclass",
         "891.0",
         "2.308641975308642",
         "0.836071240977049",
         "1.0",
         "2.0",
         "3.0",
         "3.0",
         "3.0"
        ],
        [
         "Age",
         "891.0",
         "29.36158249158249",
         "13.019696550973201",
         "0.42",
         "22.0",
         "28.0",
         "35.0",
         "80.0"
        ],
        [
         "SibSp",
         "891.0",
         "0.5230078563411896",
         "1.1027434322934317",
         "0.0",
         "0.0",
         "0.0",
         "1.0",
         "8.0"
        ],
        [
         "Parch",
         "891.0",
         "0.38159371492704824",
         "0.8060572211299483",
         "0.0",
         "0.0",
         "0.0",
         "0.0",
         "6.0"
        ],
        [
         "Fare",
         "891.0",
         "32.204207968574636",
         "49.6934285971809",
         "0.0",
         "7.9104",
         "14.4542",
         "31.0",
         "512.3292"
        ]
       ],
       "shape": {
        "columns": 8,
        "rows": 7
       }
      },
      "text/html": [
       "<div>\n",
       "<style scoped>\n",
       "    .dataframe tbody tr th:only-of-type {\n",
       "        vertical-align: middle;\n",
       "    }\n",
       "\n",
       "    .dataframe tbody tr th {\n",
       "        vertical-align: top;\n",
       "    }\n",
       "\n",
       "    .dataframe thead th {\n",
       "        text-align: right;\n",
       "    }\n",
       "</style>\n",
       "<table border=\"1\" class=\"dataframe\">\n",
       "  <thead>\n",
       "    <tr style=\"text-align: right;\">\n",
       "      <th></th>\n",
       "      <th>count</th>\n",
       "      <th>mean</th>\n",
       "      <th>std</th>\n",
       "      <th>min</th>\n",
       "      <th>25%</th>\n",
       "      <th>50%</th>\n",
       "      <th>75%</th>\n",
       "      <th>max</th>\n",
       "    </tr>\n",
       "  </thead>\n",
       "  <tbody>\n",
       "    <tr>\n",
       "      <th>PassengerId</th>\n",
       "      <td>891.00</td>\n",
       "      <td>446.00</td>\n",
       "      <td>257.35</td>\n",
       "      <td>1.00</td>\n",
       "      <td>223.50</td>\n",
       "      <td>446.00</td>\n",
       "      <td>668.50</td>\n",
       "      <td>891.00</td>\n",
       "    </tr>\n",
       "    <tr>\n",
       "      <th>Survived</th>\n",
       "      <td>891.00</td>\n",
       "      <td>0.38</td>\n",
       "      <td>0.49</td>\n",
       "      <td>0.00</td>\n",
       "      <td>0.00</td>\n",
       "      <td>0.00</td>\n",
       "      <td>1.00</td>\n",
       "      <td>1.00</td>\n",
       "    </tr>\n",
       "    <tr>\n",
       "      <th>Pclass</th>\n",
       "      <td>891.00</td>\n",
       "      <td>2.31</td>\n",
       "      <td>0.84</td>\n",
       "      <td>1.00</td>\n",
       "      <td>2.00</td>\n",
       "      <td>3.00</td>\n",
       "      <td>3.00</td>\n",
       "      <td>3.00</td>\n",
       "    </tr>\n",
       "    <tr>\n",
       "      <th>Age</th>\n",
       "      <td>891.00</td>\n",
       "      <td>29.36</td>\n",
       "      <td>13.02</td>\n",
       "      <td>0.42</td>\n",
       "      <td>22.00</td>\n",
       "      <td>28.00</td>\n",
       "      <td>35.00</td>\n",
       "      <td>80.00</td>\n",
       "    </tr>\n",
       "    <tr>\n",
       "      <th>SibSp</th>\n",
       "      <td>891.00</td>\n",
       "      <td>0.52</td>\n",
       "      <td>1.10</td>\n",
       "      <td>0.00</td>\n",
       "      <td>0.00</td>\n",
       "      <td>0.00</td>\n",
       "      <td>1.00</td>\n",
       "      <td>8.00</td>\n",
       "    </tr>\n",
       "    <tr>\n",
       "      <th>Parch</th>\n",
       "      <td>891.00</td>\n",
       "      <td>0.38</td>\n",
       "      <td>0.81</td>\n",
       "      <td>0.00</td>\n",
       "      <td>0.00</td>\n",
       "      <td>0.00</td>\n",
       "      <td>0.00</td>\n",
       "      <td>6.00</td>\n",
       "    </tr>\n",
       "    <tr>\n",
       "      <th>Fare</th>\n",
       "      <td>891.00</td>\n",
       "      <td>32.20</td>\n",
       "      <td>49.69</td>\n",
       "      <td>0.00</td>\n",
       "      <td>7.91</td>\n",
       "      <td>14.45</td>\n",
       "      <td>31.00</td>\n",
       "      <td>512.33</td>\n",
       "    </tr>\n",
       "  </tbody>\n",
       "</table>\n",
       "</div>"
      ],
      "text/plain": [
       "             count   mean    std  min    25%    50%    75%    max\n",
       "PassengerId 891.00 446.00 257.35 1.00 223.50 446.00 668.50 891.00\n",
       "Survived    891.00   0.38   0.49 0.00   0.00   0.00   1.00   1.00\n",
       "Pclass      891.00   2.31   0.84 1.00   2.00   3.00   3.00   3.00\n",
       "Age         891.00  29.36  13.02 0.42  22.00  28.00  35.00  80.00\n",
       "SibSp       891.00   0.52   1.10 0.00   0.00   0.00   1.00   8.00\n",
       "Parch       891.00   0.38   0.81 0.00   0.00   0.00   0.00   6.00\n",
       "Fare        891.00  32.20  49.69 0.00   7.91  14.45  31.00 512.33"
      ]
     },
     "execution_count": 37,
     "metadata": {},
     "output_type": "execute_result"
    }
   ],
   "source": [
    "# Descripcion de columnas numericas\n",
    "titanic_df.describe().T"
   ]
  },
  {
   "cell_type": "code",
   "execution_count": 38,
   "metadata": {},
   "outputs": [
    {
     "data": {
      "application/vnd.microsoft.datawrangler.viewer.v0+json": {
       "columns": [
        {
         "name": "index",
         "rawType": "object",
         "type": "string"
        },
        {
         "name": "count",
         "rawType": "object",
         "type": "unknown"
        },
        {
         "name": "unique",
         "rawType": "object",
         "type": "unknown"
        },
        {
         "name": "top",
         "rawType": "object",
         "type": "unknown"
        },
        {
         "name": "freq",
         "rawType": "object",
         "type": "unknown"
        },
        {
         "name": "mean",
         "rawType": "object",
         "type": "unknown"
        },
        {
         "name": "std",
         "rawType": "object",
         "type": "unknown"
        },
        {
         "name": "min",
         "rawType": "object",
         "type": "unknown"
        },
        {
         "name": "25%",
         "rawType": "object",
         "type": "unknown"
        },
        {
         "name": "50%",
         "rawType": "object",
         "type": "unknown"
        },
        {
         "name": "75%",
         "rawType": "object",
         "type": "unknown"
        },
        {
         "name": "max",
         "rawType": "object",
         "type": "unknown"
        }
       ],
       "ref": "eeea3c20-604a-4d8a-a02e-b18403278cce",
       "rows": [
        [
         "PassengerId",
         "891.0",
         null,
         null,
         null,
         "446.0",
         "257.3538420152301",
         "1.0",
         "223.5",
         "446.0",
         "668.5",
         "891.0"
        ],
        [
         "Survived",
         "891.0",
         null,
         null,
         null,
         "0.3838383838383838",
         "0.4865924542648575",
         "0.0",
         "0.0",
         "0.0",
         "1.0",
         "1.0"
        ],
        [
         "Pclass",
         "891.0",
         null,
         null,
         null,
         "2.308641975308642",
         "0.836071240977049",
         "1.0",
         "2.0",
         "3.0",
         "3.0",
         "3.0"
        ],
        [
         "Name",
         "891",
         "891",
         "Dooley, Mr. Patrick",
         "1",
         null,
         null,
         null,
         null,
         null,
         null,
         null
        ],
        [
         "Sex",
         "891",
         "2",
         "male",
         "577",
         null,
         null,
         null,
         null,
         null,
         null,
         null
        ],
        [
         "Age",
         "891.0",
         null,
         null,
         null,
         "29.36158249158249",
         "13.019696550973201",
         "0.42",
         "22.0",
         "28.0",
         "35.0",
         "80.0"
        ],
        [
         "SibSp",
         "891.0",
         null,
         null,
         null,
         "0.5230078563411896",
         "1.1027434322934317",
         "0.0",
         "0.0",
         "0.0",
         "1.0",
         "8.0"
        ],
        [
         "Parch",
         "891.0",
         null,
         null,
         null,
         "0.38159371492704824",
         "0.8060572211299483",
         "0.0",
         "0.0",
         "0.0",
         "0.0",
         "6.0"
        ],
        [
         "Ticket",
         "891",
         "681",
         "347082",
         "7",
         null,
         null,
         null,
         null,
         null,
         null,
         null
        ],
        [
         "Fare",
         "891.0",
         null,
         null,
         null,
         "32.204207968574636",
         "49.6934285971809",
         "0.0",
         "7.9104",
         "14.4542",
         "31.0",
         "512.3292"
        ],
        [
         "Cabin",
         "204",
         "147",
         "G6",
         "4",
         null,
         null,
         null,
         null,
         null,
         null,
         null
        ],
        [
         "Embarked",
         "891",
         "3",
         "S",
         "646",
         null,
         null,
         null,
         null,
         null,
         null,
         null
        ]
       ],
       "shape": {
        "columns": 11,
        "rows": 12
       }
      },
      "text/html": [
       "<div>\n",
       "<style scoped>\n",
       "    .dataframe tbody tr th:only-of-type {\n",
       "        vertical-align: middle;\n",
       "    }\n",
       "\n",
       "    .dataframe tbody tr th {\n",
       "        vertical-align: top;\n",
       "    }\n",
       "\n",
       "    .dataframe thead th {\n",
       "        text-align: right;\n",
       "    }\n",
       "</style>\n",
       "<table border=\"1\" class=\"dataframe\">\n",
       "  <thead>\n",
       "    <tr style=\"text-align: right;\">\n",
       "      <th></th>\n",
       "      <th>count</th>\n",
       "      <th>unique</th>\n",
       "      <th>top</th>\n",
       "      <th>freq</th>\n",
       "      <th>mean</th>\n",
       "      <th>std</th>\n",
       "      <th>min</th>\n",
       "      <th>25%</th>\n",
       "      <th>50%</th>\n",
       "      <th>75%</th>\n",
       "      <th>max</th>\n",
       "    </tr>\n",
       "  </thead>\n",
       "  <tbody>\n",
       "    <tr>\n",
       "      <th>PassengerId</th>\n",
       "      <td>891.00</td>\n",
       "      <td>NaN</td>\n",
       "      <td>NaN</td>\n",
       "      <td>NaN</td>\n",
       "      <td>446.00</td>\n",
       "      <td>257.35</td>\n",
       "      <td>1.00</td>\n",
       "      <td>223.50</td>\n",
       "      <td>446.00</td>\n",
       "      <td>668.50</td>\n",
       "      <td>891.00</td>\n",
       "    </tr>\n",
       "    <tr>\n",
       "      <th>Survived</th>\n",
       "      <td>891.00</td>\n",
       "      <td>NaN</td>\n",
       "      <td>NaN</td>\n",
       "      <td>NaN</td>\n",
       "      <td>0.38</td>\n",
       "      <td>0.49</td>\n",
       "      <td>0.00</td>\n",
       "      <td>0.00</td>\n",
       "      <td>0.00</td>\n",
       "      <td>1.00</td>\n",
       "      <td>1.00</td>\n",
       "    </tr>\n",
       "    <tr>\n",
       "      <th>Pclass</th>\n",
       "      <td>891.00</td>\n",
       "      <td>NaN</td>\n",
       "      <td>NaN</td>\n",
       "      <td>NaN</td>\n",
       "      <td>2.31</td>\n",
       "      <td>0.84</td>\n",
       "      <td>1.00</td>\n",
       "      <td>2.00</td>\n",
       "      <td>3.00</td>\n",
       "      <td>3.00</td>\n",
       "      <td>3.00</td>\n",
       "    </tr>\n",
       "    <tr>\n",
       "      <th>Name</th>\n",
       "      <td>891</td>\n",
       "      <td>891</td>\n",
       "      <td>Dooley, Mr. Patrick</td>\n",
       "      <td>1</td>\n",
       "      <td>NaN</td>\n",
       "      <td>NaN</td>\n",
       "      <td>NaN</td>\n",
       "      <td>NaN</td>\n",
       "      <td>NaN</td>\n",
       "      <td>NaN</td>\n",
       "      <td>NaN</td>\n",
       "    </tr>\n",
       "    <tr>\n",
       "      <th>Sex</th>\n",
       "      <td>891</td>\n",
       "      <td>2</td>\n",
       "      <td>male</td>\n",
       "      <td>577</td>\n",
       "      <td>NaN</td>\n",
       "      <td>NaN</td>\n",
       "      <td>NaN</td>\n",
       "      <td>NaN</td>\n",
       "      <td>NaN</td>\n",
       "      <td>NaN</td>\n",
       "      <td>NaN</td>\n",
       "    </tr>\n",
       "    <tr>\n",
       "      <th>Age</th>\n",
       "      <td>891.00</td>\n",
       "      <td>NaN</td>\n",
       "      <td>NaN</td>\n",
       "      <td>NaN</td>\n",
       "      <td>29.36</td>\n",
       "      <td>13.02</td>\n",
       "      <td>0.42</td>\n",
       "      <td>22.00</td>\n",
       "      <td>28.00</td>\n",
       "      <td>35.00</td>\n",
       "      <td>80.00</td>\n",
       "    </tr>\n",
       "    <tr>\n",
       "      <th>SibSp</th>\n",
       "      <td>891.00</td>\n",
       "      <td>NaN</td>\n",
       "      <td>NaN</td>\n",
       "      <td>NaN</td>\n",
       "      <td>0.52</td>\n",
       "      <td>1.10</td>\n",
       "      <td>0.00</td>\n",
       "      <td>0.00</td>\n",
       "      <td>0.00</td>\n",
       "      <td>1.00</td>\n",
       "      <td>8.00</td>\n",
       "    </tr>\n",
       "    <tr>\n",
       "      <th>Parch</th>\n",
       "      <td>891.00</td>\n",
       "      <td>NaN</td>\n",
       "      <td>NaN</td>\n",
       "      <td>NaN</td>\n",
       "      <td>0.38</td>\n",
       "      <td>0.81</td>\n",
       "      <td>0.00</td>\n",
       "      <td>0.00</td>\n",
       "      <td>0.00</td>\n",
       "      <td>0.00</td>\n",
       "      <td>6.00</td>\n",
       "    </tr>\n",
       "    <tr>\n",
       "      <th>Ticket</th>\n",
       "      <td>891</td>\n",
       "      <td>681</td>\n",
       "      <td>347082</td>\n",
       "      <td>7</td>\n",
       "      <td>NaN</td>\n",
       "      <td>NaN</td>\n",
       "      <td>NaN</td>\n",
       "      <td>NaN</td>\n",
       "      <td>NaN</td>\n",
       "      <td>NaN</td>\n",
       "      <td>NaN</td>\n",
       "    </tr>\n",
       "    <tr>\n",
       "      <th>Fare</th>\n",
       "      <td>891.00</td>\n",
       "      <td>NaN</td>\n",
       "      <td>NaN</td>\n",
       "      <td>NaN</td>\n",
       "      <td>32.20</td>\n",
       "      <td>49.69</td>\n",
       "      <td>0.00</td>\n",
       "      <td>7.91</td>\n",
       "      <td>14.45</td>\n",
       "      <td>31.00</td>\n",
       "      <td>512.33</td>\n",
       "    </tr>\n",
       "    <tr>\n",
       "      <th>Cabin</th>\n",
       "      <td>204</td>\n",
       "      <td>147</td>\n",
       "      <td>G6</td>\n",
       "      <td>4</td>\n",
       "      <td>NaN</td>\n",
       "      <td>NaN</td>\n",
       "      <td>NaN</td>\n",
       "      <td>NaN</td>\n",
       "      <td>NaN</td>\n",
       "      <td>NaN</td>\n",
       "      <td>NaN</td>\n",
       "    </tr>\n",
       "    <tr>\n",
       "      <th>Embarked</th>\n",
       "      <td>891</td>\n",
       "      <td>3</td>\n",
       "      <td>S</td>\n",
       "      <td>646</td>\n",
       "      <td>NaN</td>\n",
       "      <td>NaN</td>\n",
       "      <td>NaN</td>\n",
       "      <td>NaN</td>\n",
       "      <td>NaN</td>\n",
       "      <td>NaN</td>\n",
       "      <td>NaN</td>\n",
       "    </tr>\n",
       "  </tbody>\n",
       "</table>\n",
       "</div>"
      ],
      "text/plain": [
       "             count unique                  top freq   mean    std  min    25%  \\\n",
       "PassengerId 891.00    NaN                  NaN  NaN 446.00 257.35 1.00 223.50   \n",
       "Survived    891.00    NaN                  NaN  NaN   0.38   0.49 0.00   0.00   \n",
       "Pclass      891.00    NaN                  NaN  NaN   2.31   0.84 1.00   2.00   \n",
       "Name           891    891  Dooley, Mr. Patrick    1    NaN    NaN  NaN    NaN   \n",
       "Sex            891      2                 male  577    NaN    NaN  NaN    NaN   \n",
       "Age         891.00    NaN                  NaN  NaN  29.36  13.02 0.42  22.00   \n",
       "SibSp       891.00    NaN                  NaN  NaN   0.52   1.10 0.00   0.00   \n",
       "Parch       891.00    NaN                  NaN  NaN   0.38   0.81 0.00   0.00   \n",
       "Ticket         891    681               347082    7    NaN    NaN  NaN    NaN   \n",
       "Fare        891.00    NaN                  NaN  NaN  32.20  49.69 0.00   7.91   \n",
       "Cabin          204    147                   G6    4    NaN    NaN  NaN    NaN   \n",
       "Embarked       891      3                    S  646    NaN    NaN  NaN    NaN   \n",
       "\n",
       "               50%    75%    max  \n",
       "PassengerId 446.00 668.50 891.00  \n",
       "Survived      0.00   1.00   1.00  \n",
       "Pclass        3.00   3.00   3.00  \n",
       "Name           NaN    NaN    NaN  \n",
       "Sex            NaN    NaN    NaN  \n",
       "Age          28.00  35.00  80.00  \n",
       "SibSp         0.00   1.00   8.00  \n",
       "Parch         0.00   0.00   6.00  \n",
       "Ticket         NaN    NaN    NaN  \n",
       "Fare         14.45  31.00 512.33  \n",
       "Cabin          NaN    NaN    NaN  \n",
       "Embarked       NaN    NaN    NaN  "
      ]
     },
     "execution_count": 38,
     "metadata": {},
     "output_type": "execute_result"
    }
   ],
   "source": [
    "# Analisis desciptivo de todas las columnas del dataset\n",
    "titanic_df.describe(include='all').T"
   ]
  },
  {
   "cell_type": "code",
   "execution_count": 39,
   "metadata": {},
   "outputs": [
    {
     "data": {
      "application/vnd.microsoft.datawrangler.viewer.v0+json": {
       "columns": [
        {
         "name": "index",
         "rawType": "int64",
         "type": "integer"
        },
        {
         "name": "PassengerId",
         "rawType": "int64",
         "type": "integer"
        },
        {
         "name": "Survived",
         "rawType": "int64",
         "type": "integer"
        },
        {
         "name": "Pclass",
         "rawType": "int64",
         "type": "integer"
        },
        {
         "name": "Name",
         "rawType": "object",
         "type": "string"
        },
        {
         "name": "Sex",
         "rawType": "object",
         "type": "string"
        },
        {
         "name": "Age",
         "rawType": "float64",
         "type": "float"
        },
        {
         "name": "SibSp",
         "rawType": "int64",
         "type": "integer"
        },
        {
         "name": "Parch",
         "rawType": "int64",
         "type": "integer"
        },
        {
         "name": "Ticket",
         "rawType": "object",
         "type": "string"
        },
        {
         "name": "Fare",
         "rawType": "float64",
         "type": "float"
        },
        {
         "name": "Cabin",
         "rawType": "object",
         "type": "unknown"
        },
        {
         "name": "Embarked",
         "rawType": "object",
         "type": "string"
        }
       ],
       "ref": "c6d4354a-6536-4ee6-bc09-78e9dc5332f3",
       "rows": [
        [
         "0",
         "1",
         "0",
         "3",
         "Braund, Mr. Owen Harris",
         "male",
         "22.0",
         "1",
         "0",
         "A/5 21171",
         "7.25",
         null,
         "S"
        ],
        [
         "1",
         "2",
         "1",
         "1",
         "Cumings, Mrs. John Bradley (Florence Briggs Thayer)",
         "female",
         "38.0",
         "1",
         "0",
         "PC 17599",
         "71.2833",
         "C85",
         "C"
        ],
        [
         "2",
         "3",
         "1",
         "3",
         "Heikkinen, Miss. Laina",
         "female",
         "26.0",
         "0",
         "0",
         "STON/O2. 3101282",
         "7.925",
         null,
         "S"
        ],
        [
         "3",
         "4",
         "1",
         "1",
         "Futrelle, Mrs. Jacques Heath (Lily May Peel)",
         "female",
         "35.0",
         "1",
         "0",
         "113803",
         "53.1",
         "C123",
         "S"
        ],
        [
         "4",
         "5",
         "0",
         "3",
         "Allen, Mr. William Henry",
         "male",
         "35.0",
         "0",
         "0",
         "373450",
         "8.05",
         null,
         "S"
        ]
       ],
       "shape": {
        "columns": 12,
        "rows": 5
       }
      },
      "text/html": [
       "<div>\n",
       "<style scoped>\n",
       "    .dataframe tbody tr th:only-of-type {\n",
       "        vertical-align: middle;\n",
       "    }\n",
       "\n",
       "    .dataframe tbody tr th {\n",
       "        vertical-align: top;\n",
       "    }\n",
       "\n",
       "    .dataframe thead th {\n",
       "        text-align: right;\n",
       "    }\n",
       "</style>\n",
       "<table border=\"1\" class=\"dataframe\">\n",
       "  <thead>\n",
       "    <tr style=\"text-align: right;\">\n",
       "      <th></th>\n",
       "      <th>PassengerId</th>\n",
       "      <th>Survived</th>\n",
       "      <th>Pclass</th>\n",
       "      <th>Name</th>\n",
       "      <th>Sex</th>\n",
       "      <th>Age</th>\n",
       "      <th>SibSp</th>\n",
       "      <th>Parch</th>\n",
       "      <th>Ticket</th>\n",
       "      <th>Fare</th>\n",
       "      <th>Cabin</th>\n",
       "      <th>Embarked</th>\n",
       "    </tr>\n",
       "  </thead>\n",
       "  <tbody>\n",
       "    <tr>\n",
       "      <th>0</th>\n",
       "      <td>1</td>\n",
       "      <td>0</td>\n",
       "      <td>3</td>\n",
       "      <td>Braund, Mr. Owen Harris</td>\n",
       "      <td>male</td>\n",
       "      <td>22.00</td>\n",
       "      <td>1</td>\n",
       "      <td>0</td>\n",
       "      <td>A/5 21171</td>\n",
       "      <td>7.25</td>\n",
       "      <td>NaN</td>\n",
       "      <td>S</td>\n",
       "    </tr>\n",
       "    <tr>\n",
       "      <th>1</th>\n",
       "      <td>2</td>\n",
       "      <td>1</td>\n",
       "      <td>1</td>\n",
       "      <td>Cumings, Mrs. John Bradley (Florence Briggs Th...</td>\n",
       "      <td>female</td>\n",
       "      <td>38.00</td>\n",
       "      <td>1</td>\n",
       "      <td>0</td>\n",
       "      <td>PC 17599</td>\n",
       "      <td>71.28</td>\n",
       "      <td>C85</td>\n",
       "      <td>C</td>\n",
       "    </tr>\n",
       "    <tr>\n",
       "      <th>2</th>\n",
       "      <td>3</td>\n",
       "      <td>1</td>\n",
       "      <td>3</td>\n",
       "      <td>Heikkinen, Miss. Laina</td>\n",
       "      <td>female</td>\n",
       "      <td>26.00</td>\n",
       "      <td>0</td>\n",
       "      <td>0</td>\n",
       "      <td>STON/O2. 3101282</td>\n",
       "      <td>7.92</td>\n",
       "      <td>NaN</td>\n",
       "      <td>S</td>\n",
       "    </tr>\n",
       "    <tr>\n",
       "      <th>3</th>\n",
       "      <td>4</td>\n",
       "      <td>1</td>\n",
       "      <td>1</td>\n",
       "      <td>Futrelle, Mrs. Jacques Heath (Lily May Peel)</td>\n",
       "      <td>female</td>\n",
       "      <td>35.00</td>\n",
       "      <td>1</td>\n",
       "      <td>0</td>\n",
       "      <td>113803</td>\n",
       "      <td>53.10</td>\n",
       "      <td>C123</td>\n",
       "      <td>S</td>\n",
       "    </tr>\n",
       "    <tr>\n",
       "      <th>4</th>\n",
       "      <td>5</td>\n",
       "      <td>0</td>\n",
       "      <td>3</td>\n",
       "      <td>Allen, Mr. William Henry</td>\n",
       "      <td>male</td>\n",
       "      <td>35.00</td>\n",
       "      <td>0</td>\n",
       "      <td>0</td>\n",
       "      <td>373450</td>\n",
       "      <td>8.05</td>\n",
       "      <td>NaN</td>\n",
       "      <td>S</td>\n",
       "    </tr>\n",
       "  </tbody>\n",
       "</table>\n",
       "</div>"
      ],
      "text/plain": [
       "   PassengerId  Survived  Pclass  \\\n",
       "0            1         0       3   \n",
       "1            2         1       1   \n",
       "2            3         1       3   \n",
       "3            4         1       1   \n",
       "4            5         0       3   \n",
       "\n",
       "                                                Name     Sex   Age  SibSp  \\\n",
       "0                            Braund, Mr. Owen Harris    male 22.00      1   \n",
       "1  Cumings, Mrs. John Bradley (Florence Briggs Th...  female 38.00      1   \n",
       "2                             Heikkinen, Miss. Laina  female 26.00      0   \n",
       "3       Futrelle, Mrs. Jacques Heath (Lily May Peel)  female 35.00      1   \n",
       "4                           Allen, Mr. William Henry    male 35.00      0   \n",
       "\n",
       "   Parch            Ticket  Fare Cabin Embarked  \n",
       "0      0         A/5 21171  7.25   NaN        S  \n",
       "1      0          PC 17599 71.28   C85        C  \n",
       "2      0  STON/O2. 3101282  7.92   NaN        S  \n",
       "3      0            113803 53.10  C123        S  \n",
       "4      0            373450  8.05   NaN        S  "
      ]
     },
     "execution_count": 39,
     "metadata": {},
     "output_type": "execute_result"
    }
   ],
   "source": [
    "# Analisis desciptivo de todas las columnas del dataset\n",
    "titanic_df.head()"
   ]
  },
  {
   "cell_type": "code",
   "execution_count": 40,
   "metadata": {},
   "outputs": [],
   "source": [
    "titanic_df = pd.get_dummies(titanic_df, columns=['Sex', 'Embarked'], drop_first=True)"
   ]
  },
  {
   "cell_type": "code",
   "execution_count": 41,
   "metadata": {},
   "outputs": [
    {
     "data": {
      "application/vnd.microsoft.datawrangler.viewer.v0+json": {
       "columns": [
        {
         "name": "index",
         "rawType": "int64",
         "type": "integer"
        },
        {
         "name": "PassengerId",
         "rawType": "int64",
         "type": "integer"
        },
        {
         "name": "Survived",
         "rawType": "int64",
         "type": "integer"
        },
        {
         "name": "Pclass",
         "rawType": "int64",
         "type": "integer"
        },
        {
         "name": "Name",
         "rawType": "object",
         "type": "string"
        },
        {
         "name": "Age",
         "rawType": "float64",
         "type": "float"
        },
        {
         "name": "SibSp",
         "rawType": "int64",
         "type": "integer"
        },
        {
         "name": "Parch",
         "rawType": "int64",
         "type": "integer"
        },
        {
         "name": "Ticket",
         "rawType": "object",
         "type": "string"
        },
        {
         "name": "Fare",
         "rawType": "float64",
         "type": "float"
        },
        {
         "name": "Cabin",
         "rawType": "object",
         "type": "unknown"
        },
        {
         "name": "Sex_male",
         "rawType": "bool",
         "type": "boolean"
        },
        {
         "name": "Embarked_Q",
         "rawType": "bool",
         "type": "boolean"
        },
        {
         "name": "Embarked_S",
         "rawType": "bool",
         "type": "boolean"
        }
       ],
       "ref": "0edd86c8-b3ee-49d1-904f-392e155fe34d",
       "rows": [
        [
         "0",
         "1",
         "0",
         "3",
         "Braund, Mr. Owen Harris",
         "22.0",
         "1",
         "0",
         "A/5 21171",
         "7.25",
         null,
         "True",
         "False",
         "True"
        ],
        [
         "1",
         "2",
         "1",
         "1",
         "Cumings, Mrs. John Bradley (Florence Briggs Thayer)",
         "38.0",
         "1",
         "0",
         "PC 17599",
         "71.2833",
         "C85",
         "False",
         "False",
         "False"
        ],
        [
         "2",
         "3",
         "1",
         "3",
         "Heikkinen, Miss. Laina",
         "26.0",
         "0",
         "0",
         "STON/O2. 3101282",
         "7.925",
         null,
         "False",
         "False",
         "True"
        ],
        [
         "3",
         "4",
         "1",
         "1",
         "Futrelle, Mrs. Jacques Heath (Lily May Peel)",
         "35.0",
         "1",
         "0",
         "113803",
         "53.1",
         "C123",
         "False",
         "False",
         "True"
        ],
        [
         "4",
         "5",
         "0",
         "3",
         "Allen, Mr. William Henry",
         "35.0",
         "0",
         "0",
         "373450",
         "8.05",
         null,
         "True",
         "False",
         "True"
        ]
       ],
       "shape": {
        "columns": 13,
        "rows": 5
       }
      },
      "text/html": [
       "<div>\n",
       "<style scoped>\n",
       "    .dataframe tbody tr th:only-of-type {\n",
       "        vertical-align: middle;\n",
       "    }\n",
       "\n",
       "    .dataframe tbody tr th {\n",
       "        vertical-align: top;\n",
       "    }\n",
       "\n",
       "    .dataframe thead th {\n",
       "        text-align: right;\n",
       "    }\n",
       "</style>\n",
       "<table border=\"1\" class=\"dataframe\">\n",
       "  <thead>\n",
       "    <tr style=\"text-align: right;\">\n",
       "      <th></th>\n",
       "      <th>PassengerId</th>\n",
       "      <th>Survived</th>\n",
       "      <th>Pclass</th>\n",
       "      <th>Name</th>\n",
       "      <th>Age</th>\n",
       "      <th>SibSp</th>\n",
       "      <th>Parch</th>\n",
       "      <th>Ticket</th>\n",
       "      <th>Fare</th>\n",
       "      <th>Cabin</th>\n",
       "      <th>Sex_male</th>\n",
       "      <th>Embarked_Q</th>\n",
       "      <th>Embarked_S</th>\n",
       "    </tr>\n",
       "  </thead>\n",
       "  <tbody>\n",
       "    <tr>\n",
       "      <th>0</th>\n",
       "      <td>1</td>\n",
       "      <td>0</td>\n",
       "      <td>3</td>\n",
       "      <td>Braund, Mr. Owen Harris</td>\n",
       "      <td>22.00</td>\n",
       "      <td>1</td>\n",
       "      <td>0</td>\n",
       "      <td>A/5 21171</td>\n",
       "      <td>7.25</td>\n",
       "      <td>NaN</td>\n",
       "      <td>True</td>\n",
       "      <td>False</td>\n",
       "      <td>True</td>\n",
       "    </tr>\n",
       "    <tr>\n",
       "      <th>1</th>\n",
       "      <td>2</td>\n",
       "      <td>1</td>\n",
       "      <td>1</td>\n",
       "      <td>Cumings, Mrs. John Bradley (Florence Briggs Th...</td>\n",
       "      <td>38.00</td>\n",
       "      <td>1</td>\n",
       "      <td>0</td>\n",
       "      <td>PC 17599</td>\n",
       "      <td>71.28</td>\n",
       "      <td>C85</td>\n",
       "      <td>False</td>\n",
       "      <td>False</td>\n",
       "      <td>False</td>\n",
       "    </tr>\n",
       "    <tr>\n",
       "      <th>2</th>\n",
       "      <td>3</td>\n",
       "      <td>1</td>\n",
       "      <td>3</td>\n",
       "      <td>Heikkinen, Miss. Laina</td>\n",
       "      <td>26.00</td>\n",
       "      <td>0</td>\n",
       "      <td>0</td>\n",
       "      <td>STON/O2. 3101282</td>\n",
       "      <td>7.92</td>\n",
       "      <td>NaN</td>\n",
       "      <td>False</td>\n",
       "      <td>False</td>\n",
       "      <td>True</td>\n",
       "    </tr>\n",
       "    <tr>\n",
       "      <th>3</th>\n",
       "      <td>4</td>\n",
       "      <td>1</td>\n",
       "      <td>1</td>\n",
       "      <td>Futrelle, Mrs. Jacques Heath (Lily May Peel)</td>\n",
       "      <td>35.00</td>\n",
       "      <td>1</td>\n",
       "      <td>0</td>\n",
       "      <td>113803</td>\n",
       "      <td>53.10</td>\n",
       "      <td>C123</td>\n",
       "      <td>False</td>\n",
       "      <td>False</td>\n",
       "      <td>True</td>\n",
       "    </tr>\n",
       "    <tr>\n",
       "      <th>4</th>\n",
       "      <td>5</td>\n",
       "      <td>0</td>\n",
       "      <td>3</td>\n",
       "      <td>Allen, Mr. William Henry</td>\n",
       "      <td>35.00</td>\n",
       "      <td>0</td>\n",
       "      <td>0</td>\n",
       "      <td>373450</td>\n",
       "      <td>8.05</td>\n",
       "      <td>NaN</td>\n",
       "      <td>True</td>\n",
       "      <td>False</td>\n",
       "      <td>True</td>\n",
       "    </tr>\n",
       "  </tbody>\n",
       "</table>\n",
       "</div>"
      ],
      "text/plain": [
       "   PassengerId  Survived  Pclass  \\\n",
       "0            1         0       3   \n",
       "1            2         1       1   \n",
       "2            3         1       3   \n",
       "3            4         1       1   \n",
       "4            5         0       3   \n",
       "\n",
       "                                                Name   Age  SibSp  Parch  \\\n",
       "0                            Braund, Mr. Owen Harris 22.00      1      0   \n",
       "1  Cumings, Mrs. John Bradley (Florence Briggs Th... 38.00      1      0   \n",
       "2                             Heikkinen, Miss. Laina 26.00      0      0   \n",
       "3       Futrelle, Mrs. Jacques Heath (Lily May Peel) 35.00      1      0   \n",
       "4                           Allen, Mr. William Henry 35.00      0      0   \n",
       "\n",
       "             Ticket  Fare Cabin  Sex_male  Embarked_Q  Embarked_S  \n",
       "0         A/5 21171  7.25   NaN      True       False        True  \n",
       "1          PC 17599 71.28   C85     False       False       False  \n",
       "2  STON/O2. 3101282  7.92   NaN     False       False        True  \n",
       "3            113803 53.10  C123     False       False        True  \n",
       "4            373450  8.05   NaN      True       False        True  "
      ]
     },
     "execution_count": 41,
     "metadata": {},
     "output_type": "execute_result"
    }
   ],
   "source": [
    "titanic_df.head()"
   ]
  }
 ],
 "metadata": {
  "kernelspec": {
   "display_name": "ai-course-env",
   "language": "python",
   "name": "python3"
  },
  "language_info": {
   "codemirror_mode": {
    "name": "ipython",
    "version": 3
   },
   "file_extension": ".py",
   "mimetype": "text/x-python",
   "name": "python",
   "nbconvert_exporter": "python",
   "pygments_lexer": "ipython3",
   "version": "3.12.10"
  }
 },
 "nbformat": 4,
 "nbformat_minor": 4
}
