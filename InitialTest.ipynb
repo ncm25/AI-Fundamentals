{
 "cells": [
  {
   "cell_type": "markdown",
   "id": "f17ce2b8-5b23-4abc-acbe-fedb5e415e77",
   "metadata": {},
   "source": [
    "## Import Libraries"
   ]
  },
  {
   "cell_type": "code",
   "execution_count": 1,
   "id": "84331962-ad52-49a1-9618-524b926f185b",
   "metadata": {},
   "outputs": [
    {
     "name": "stderr",
     "output_type": "stream",
     "text": [
      "2025-06-20 20:53:47.045151: E external/local_xla/xla/stream_executor/cuda/cuda_fft.cc:467] Unable to register cuFFT factory: Attempting to register factory for plugin cuFFT when one has already been registered\n",
      "WARNING: All log messages before absl::InitializeLog() is called are written to STDERR\n",
      "E0000 00:00:1750452827.156261   30566 cuda_dnn.cc:8579] Unable to register cuDNN factory: Attempting to register factory for plugin cuDNN when one has already been registered\n",
      "E0000 00:00:1750452827.186400   30566 cuda_blas.cc:1407] Unable to register cuBLAS factory: Attempting to register factory for plugin cuBLAS when one has already been registered\n",
      "W0000 00:00:1750452827.404776   30566 computation_placer.cc:177] computation placer already registered. Please check linkage and avoid linking the same target more than once.\n",
      "W0000 00:00:1750452827.404814   30566 computation_placer.cc:177] computation placer already registered. Please check linkage and avoid linking the same target more than once.\n",
      "W0000 00:00:1750452827.404817   30566 computation_placer.cc:177] computation placer already registered. Please check linkage and avoid linking the same target more than once.\n",
      "W0000 00:00:1750452827.404836   30566 computation_placer.cc:177] computation placer already registered. Please check linkage and avoid linking the same target more than once.\n",
      "2025-06-20 20:53:47.423148: I tensorflow/core/platform/cpu_feature_guard.cc:210] This TensorFlow binary is optimized to use available CPU instructions in performance-critical operations.\n",
      "To enable the following instructions: AVX2 FMA, in other operations, rebuild TensorFlow with the appropriate compiler flags.\n"
     ]
    }
   ],
   "source": [
    "# Import the pandas library\n",
    "import pandas as pd\n",
    "\n",
    "# Import the numpy library\n",
    "import numpy as np\n",
    "\n",
    "# Import only the matplotlib library\n",
    "import matplotlib as mpl\n",
    "\n",
    "# TensorFlow is imported for potential use in the future\n",
    "import tensorflow as tf\n"
   ]
  },
  {
   "cell_type": "markdown",
   "id": "58d985d2-2a67-4062-affc-f16141e065a2",
   "metadata": {},
   "source": [
    "## Print library versions\n",
    "\n",
    "Let's view the version of the virtual environment installed on the notebook."
   ]
  },
  {
   "cell_type": "code",
   "execution_count": 2,
   "id": "2fcf08aa-0ffd-46cf-a889-c7c43de0fdf2",
   "metadata": {},
   "outputs": [
    {
     "name": "stdout",
     "output_type": "stream",
     "text": [
      "Pandas version: 2.3.0\n"
     ]
    }
   ],
   "source": [
    "# Pandas version\n",
    "print(\"Pandas version:\", pd.__version__)"
   ]
  },
  {
   "cell_type": "code",
   "execution_count": 3,
   "id": "a54f5cee-2131-425e-aced-bb0b0d13e2ff",
   "metadata": {},
   "outputs": [
    {
     "name": "stdout",
     "output_type": "stream",
     "text": [
      "numpy version: 2.1.3\n"
     ]
    }
   ],
   "source": [
    "# numpy version\n",
    "print(\"numpy version:\", np.__version__)"
   ]
  },
  {
   "cell_type": "code",
   "execution_count": 4,
   "id": "be231fb2-6f66-4a22-bc74-eb8d6372f3c2",
   "metadata": {},
   "outputs": [
    {
     "name": "stdout",
     "output_type": "stream",
     "text": [
      "Matplotlib vresion: 3.10.3\n"
     ]
    }
   ],
   "source": [
    "# matplotlib version\n",
    "print(\"Matplotlib vresion:\", mpl.__version__)"
   ]
  },
  {
   "cell_type": "code",
   "execution_count": 5,
   "id": "63b988d8",
   "metadata": {},
   "outputs": [
    {
     "name": "stdout",
     "output_type": "stream",
     "text": [
      "Tensorflow vresion: 2.19.0\n"
     ]
    }
   ],
   "source": [
    "# tensorflow version\n",
    "print(\"Tensorflow vresion:\", tf.__version__)"
   ]
  },
  {
   "cell_type": "code",
   "execution_count": null,
   "id": "580e32bc-c278-4074-ab45-aab8ceeede51",
   "metadata": {},
   "outputs": [],
   "source": []
  }
 ],
 "metadata": {
  "kernelspec": {
   "display_name": "Python (AI Fundamentals Course)",
   "language": "python",
   "name": "ai-fundamentals"
  },
  "language_info": {
   "codemirror_mode": {
    "name": "ipython",
    "version": 3
   },
   "file_extension": ".py",
   "mimetype": "text/x-python",
   "name": "python",
   "nbconvert_exporter": "python",
   "pygments_lexer": "ipython3",
   "version": "3.12.9"
  }
 },
 "nbformat": 4,
 "nbformat_minor": 5
}
