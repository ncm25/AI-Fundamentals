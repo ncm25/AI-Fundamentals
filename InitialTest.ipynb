{
 "cells": [
  {
   "cell_type": "markdown",
   "id": "f17ce2b8-5b23-4abc-acbe-fedb5e415e77",
   "metadata": {},
   "source": [
    "## Import Libraries"
   ]
  },
  {
   "cell_type": "code",
   "execution_count": 1,
   "id": "84331962-ad52-49a1-9618-524b926f185b",
   "metadata": {},
   "outputs": [],
   "source": [
    "# Import the pandas library\n",
    "import pandas as pd\n",
    "\n",
    "# Import the numpy library\n",
    "import numpy as np\n",
    "\n",
    "# Import only the matplotlib library\n",
    "import matplotlib as mpl\n",
    "\n",
    "# TensorFlow is imported for potential use in the future\n",
    "import tensorflow as tf\n"
   ]
  },
  {
   "cell_type": "markdown",
   "id": "58d985d2-2a67-4062-affc-f16141e065a2",
   "metadata": {},
   "source": [
    "## Print library versions\n",
    "\n",
    "Let's view the version of the virtual environment installed on the notebook."
   ]
  },
  {
   "cell_type": "code",
   "execution_count": 2,
   "id": "2fcf08aa-0ffd-46cf-a889-c7c43de0fdf2",
   "metadata": {},
   "outputs": [
    {
     "name": "stdout",
     "output_type": "stream",
     "text": [
      "Pandas version: 2.3.0\n"
     ]
    }
   ],
   "source": [
    "# Pandas version\n",
    "print(\"Pandas version:\", pd.__version__)"
   ]
  },
  {
   "cell_type": "code",
   "execution_count": 3,
   "id": "a54f5cee-2131-425e-aced-bb0b0d13e2ff",
   "metadata": {},
   "outputs": [
    {
     "name": "stdout",
     "output_type": "stream",
     "text": [
      "numpy version: 2.1.3\n"
     ]
    }
   ],
   "source": [
    "# numpy version\n",
    "print(\"numpy version:\", np.__version__)"
   ]
  },
  {
   "cell_type": "code",
   "execution_count": 4,
   "id": "be231fb2-6f66-4a22-bc74-eb8d6372f3c2",
   "metadata": {},
   "outputs": [
    {
     "name": "stdout",
     "output_type": "stream",
     "text": [
      "Matplotlib vresion: 3.10.3\n"
     ]
    }
   ],
   "source": [
    "# matplotlib version\n",
    "print(\"Matplotlib vresion:\", mpl.__version__)"
   ]
  },
  {
   "cell_type": "code",
   "execution_count": 5,
   "id": "63b988d8",
   "metadata": {},
   "outputs": [
    {
     "name": "stdout",
     "output_type": "stream",
     "text": [
      "Tensorflow vresion: 2.19.0\n"
     ]
    }
   ],
   "source": [
    "# tensorflow version\n",
    "print(\"Tensorflow vresion:\", tf.__version__)"
   ]
  },
  {
   "cell_type": "code",
   "execution_count": null,
   "id": "580e32bc-c278-4074-ab45-aab8ceeede51",
   "metadata": {},
   "outputs": [],
   "source": []
  }
 ],
 "metadata": {
  "kernelspec": {
   "display_name": "ai-course-env",
   "language": "python",
   "name": "python3"
  },
  "language_info": {
   "codemirror_mode": {
    "name": "ipython",
    "version": 3
   },
   "file_extension": ".py",
   "mimetype": "text/x-python",
   "name": "python",
   "nbconvert_exporter": "python",
   "pygments_lexer": "ipython3",
   "version": "3.12.10"
  }
 },
 "nbformat": 4,
 "nbformat_minor": 5
}
