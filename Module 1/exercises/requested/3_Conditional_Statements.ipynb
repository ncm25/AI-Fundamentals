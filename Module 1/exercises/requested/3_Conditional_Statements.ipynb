{
 "cells": [
  {
   "cell_type": "markdown",
   "metadata": {},
   "source": [
    "## Taken from the Prework course of the PGP AIML at The University of Texas"
   ]
  },
  {
   "cell_type": "markdown",
   "metadata": {},
   "source": [
    "# CONDITIONAL STATEMENTS EXERCISE"
   ]
  },
  {
   "cell_type": "markdown",
   "metadata": {},
   "source": [
    "---------------"
   ]
  },
  {
   "cell_type": "markdown",
   "metadata": {},
   "source": [
    "### 1. Check if a is equal to 10, If yes, print \"Hello\", else print \"Good Bye\"\n",
    "a = 56"
   ]
  },
  {
   "cell_type": "code",
   "execution_count": 2,
   "metadata": {},
   "outputs": [
    {
     "name": "stdout",
     "output_type": "stream",
     "text": [
      "Good Bye\n"
     ]
    }
   ],
   "source": [
    "a = 56\n",
    "if a == 10:\n",
    "    print(\"Hello\")\n",
    "else:\n",
    "    print(\"Good Bye\")"
   ]
  },
  {
   "cell_type": "markdown",
   "metadata": {},
   "source": [
    "### 2. Check whether a number is even or odd\n",
    "a = 2020"
   ]
  },
  {
   "cell_type": "code",
   "execution_count": 4,
   "metadata": {},
   "outputs": [
    {
     "name": "stdout",
     "output_type": "stream",
     "text": [
      "El numero 2020 es par.\n"
     ]
    }
   ],
   "source": [
    "a = 2020\n",
    "if a % 2 == 0:\n",
    "    print(f\"El numero {a} es par.\")\n",
    "else:\n",
    "    print(\"El numero {a} es impar.\")"
   ]
  },
  {
   "cell_type": "markdown",
   "metadata": {},
   "source": [
    "### 3.  Check whether the area of the rectangle is greater than the perimeter of the rectangle\n",
    "length = 5\n",
    "breadth = 10\n",
    "\n",
    "Hint: Area of rectangle = length * breadth \n",
    "\n",
    "Hint: Perimeter of rectangle = 2 * (length + breadth)"
   ]
  },
  {
   "cell_type": "code",
   "execution_count": 6,
   "metadata": {},
   "outputs": [
    {
     "name": "stdout",
     "output_type": "stream",
     "text": [
      "Area is greater than Perimeter\n"
     ]
    }
   ],
   "source": [
    "length = 5\n",
    "breadth = 10\n",
    "\n",
    "Area_of_rectangle = length * breadth \n",
    "Perimeter_of_rectangle = 2 * (length + breadth)\n",
    "\n",
    "if Area_of_rectangle > Perimeter_of_rectangle:\n",
    "    print(\"Area is greater than Perimeter\")\n",
    "else:\n",
    "    print(\"Perimeter is greater than Area\")"
   ]
  },
  {
   "cell_type": "markdown",
   "metadata": {},
   "source": [
    "### 4.Calculate the average marks of a student in 5 subjects and give grades accordingly:\n",
    "If average>90 then Grade = A\n",
    "\n",
    "If average>80 then Grade = B\n",
    "\n",
    "If average>70 then Grade = C\n",
    "\n",
    "If average>60 then Grade = D\n",
    "\n",
    "If average>50 then Grade = E\n",
    "\n",
    "else Fail\n",
    "\n",
    "Marks in subject 1= 72\n",
    "\n",
    "Marks in subject 2= 85\n",
    "\n",
    "Marks in subject 3= 96\n",
    "\n",
    "Marks in subject 4= 42\n",
    "\n",
    "Marks in subject 5= 95"
   ]
  },
  {
   "cell_type": "code",
   "execution_count": 8,
   "metadata": {},
   "outputs": [
    {
     "name": "stdout",
     "output_type": "stream",
     "text": [
      "Average mark: 78.0\n",
      "C\n"
     ]
    }
   ],
   "source": [
    "mark_in_subject = [72, 85, 96, 42, 95]\n",
    "\n",
    "average = sum(mark_in_subject) / len(mark_in_subject)\n",
    "print(f\"Average mark: {average}\")\n",
    "\n",
    "if average >= 90:\n",
    "    print(\"A\")\n",
    "elif average >= 80:\n",
    "    print(\"B\")\n",
    "elif average >= 70:\n",
    "    print(\"C\")\n",
    "elif average >= 60:\n",
    "    print(\"D\")\n",
    "elif average >= 50:\n",
    "    print(\"E\")\n",
    "else:\n",
    "    print(\"Fail\")"
   ]
  },
  {
   "cell_type": "markdown",
   "metadata": {},
   "source": [
    "###  5.check if a triangle is equilateral, isosceles or scalene.\n",
    "\n",
    "Hint :\n",
    "1. An equilateral triangle is a triangle in which all three sides are equal.\n",
    "\n",
    "2. A scalene triangle is a triangle that has three unequal sides.\n",
    "\n",
    "3. An isosceles triangle is a triangle with (at least) two equal sides.\n",
    "\n",
    "Dimensions of triangle:\n",
    "\n",
    "side 1 = 6 \n",
    "\n",
    "side 2 = 8 \n",
    "\n",
    "side 3 = 12"
   ]
  },
  {
   "cell_type": "code",
   "execution_count": 9,
   "metadata": {},
   "outputs": [
    {
     "name": "stdout",
     "output_type": "stream",
     "text": [
      "Scalene Triangle\n"
     ]
    }
   ],
   "source": [
    "side1 = 6\n",
    "side2 = 8\n",
    "side3 = 12\n",
    "\n",
    "if side1 == side2 and side2 == side3:\n",
    "    print(\"Equilateral Triangle\")\n",
    "elif side1 == side2 or side2 == side3 or side1 == side3:\n",
    "    print(\"Isosceles Triangle\")\n",
    "else:\n",
    "    print(\"Scalene Triangle\")"
   ]
  },
  {
   "cell_type": "markdown",
   "metadata": {},
   "source": [
    "### 6. Check if the word \"Data\" is present in the sentence \"I am a Data Scientist\". If found print \"It is present\" else print FALSE"
   ]
  },
  {
   "cell_type": "code",
   "execution_count": 12,
   "metadata": {},
   "outputs": [
    {
     "name": "stdout",
     "output_type": "stream",
     "text": [
      "The word 'Data' is present in the sentence.\n"
     ]
    }
   ],
   "source": [
    "sentences = \"I am a Data Scientist\"\n",
    "word = \"Data\"\n",
    "\n",
    "if word in sentences:\n",
    "    print(f\"The word '{word}' is present in the sentence.\")\n",
    "else:\n",
    "    print(f\"The word '{word}' is not present in the sentence.\")"
   ]
  },
  {
   "cell_type": "markdown",
   "metadata": {},
   "source": [
    "### 7. Write python code to check if a number is positive or negative."
   ]
  },
  {
   "cell_type": "code",
   "execution_count": 15,
   "metadata": {},
   "outputs": [
    {
     "name": "stdout",
     "output_type": "stream",
     "text": [
      "Lista de numeros aleatorios: [-58, -23, -34, 2, -48, 57, -25, 36, 50, 71]\n",
      "-58 es negativo\n",
      "-23 es negativo\n",
      "-34 es negativo\n",
      "2 es positivo\n",
      "-48 es negativo\n",
      "57 es positivo\n",
      "-25 es negativo\n",
      "36 es positivo\n",
      "50 es positivo\n",
      "71 es positivo\n"
     ]
    }
   ],
   "source": [
    "import random\n",
    "\n",
    "lista = [random.randint(-100, 100) for _ in range(10)]\n",
    "print(\"Lista de numeros aleatorios:\", lista)\n",
    "\n",
    "for i in lista:\n",
    "    if i < 0:\n",
    "        print(f\"{i} es negativo\")\n",
    "    elif i > 0:\n",
    "        print(f\"{i} es positivo\")\n",
    "    else:\n",
    "        print(\"El numero es cero\")"
   ]
  },
  {
   "cell_type": "markdown",
   "metadata": {},
   "source": [
    "### 8. x = 20 and y = 30. Write a python code to check if x is less than y."
   ]
  },
  {
   "cell_type": "code",
   "execution_count": 16,
   "metadata": {},
   "outputs": [
    {
     "name": "stdout",
     "output_type": "stream",
     "text": [
      "20 es menor que 30\n"
     ]
    }
   ],
   "source": [
    "x = 20\n",
    "y = 30\n",
    "\n",
    "if x < y:\n",
    "    print(f\"{x} es menor que {y}\")\n",
    "else:\n",
    "    print(f\"{x} no es menor que {y}\")"
   ]
  },
  {
   "cell_type": "markdown",
   "metadata": {},
   "source": [
    "### 9. Based on the users age, divide them into three groups \n",
    "    Group 1 : Age <18 , Minors who are not eligible to work\n",
    "    Group 2 : 18 < Age < 60 , Eligible to work\n",
    "    Group 3 : Age > 60, Too old to work as per govt. regulations. \n",
    "\n",
    "### Write a python code for the same"
   ]
  },
  {
   "cell_type": "code",
   "execution_count": 21,
   "metadata": {},
   "outputs": [
    {
     "name": "stdout",
     "output_type": "stream",
     "text": [
      "Lista de edades aleatorias: [90, 38, 15, 44, 73, 46, 27, 33, 73, 71]\n",
      "Edad: 90 Group 3: Too old to work as per govt. regulations\n",
      "Edad: 38 Group 2: Eligible to work\n",
      "Edad: 15 Group 1: Minors who are not eligible to work\n",
      "Edad: 44 Group 2: Eligible to work\n",
      "Edad: 73 Group 3: Too old to work as per govt. regulations\n",
      "Edad: 46 Group 2: Eligible to work\n",
      "Edad: 27 Group 2: Eligible to work\n",
      "Edad: 33 Group 2: Eligible to work\n",
      "Edad: 73 Group 3: Too old to work as per govt. regulations\n",
      "Edad: 71 Group 3: Too old to work as per govt. regulations\n"
     ]
    }
   ],
   "source": [
    "import random\n",
    "\n",
    "edades = [random.randint(1, 90) for _ in range(10)]\n",
    "print(\"Lista de edades aleatorias:\", edades)\n",
    "\n",
    "for edad in edades:\n",
    "    if edad <= 18:\n",
    "        print(f\"Edad: {edad} Group 1: Minors who are not eligible to work\")\n",
    "    elif 18 < edad < 60:\n",
    "        print(f\"Edad: {edad} Group 2: Eligible to work\")\n",
    "    else:\n",
    "        print(f\"Edad: {edad} Group 3: Too old to work as per govt. regulations\")"
   ]
  },
  {
   "cell_type": "markdown",
   "metadata": {},
   "source": [
    "### 10. From the age of 3 people determine the oldest person among them.\n",
    "Age of first person = 25\n",
    "\n",
    "Age of second person = 34\n",
    "\n",
    "Age of third person = 45"
   ]
  },
  {
   "cell_type": "code",
   "execution_count": 23,
   "metadata": {},
   "outputs": [
    {
     "name": "stdout",
     "output_type": "stream",
     "text": [
      "Person 3 is the oldest.\n"
     ]
    }
   ],
   "source": [
    "age_person_1 = 25\n",
    "age_person_2 = 34\n",
    "age_person_3 = 45\n",
    "\n",
    "if age_person_1 > age_person_2 and age_person_1 > age_person_3:\n",
    "    print(\"Person 1 is the oldest.\")\n",
    "elif age_person_2 > age_person_1 and age_person_2 > age_person_3:\n",
    "    print(\"Person 2 is the oldest.\")\n",
    "elif age_person_3 > age_person_1 and age_person_3 > age_person_2:\n",
    "    print(\"Person 3 is the oldest.\")\n",
    "else:\n",
    "    print(\"There is a tie for the oldest person.\")"
   ]
  }
 ],
 "metadata": {
  "kernelspec": {
   "display_name": "ai-course-env",
   "language": "python",
   "name": "python3"
  },
  "language_info": {
   "codemirror_mode": {
    "name": "ipython",
    "version": 3
   },
   "file_extension": ".py",
   "mimetype": "text/x-python",
   "name": "python",
   "nbconvert_exporter": "python",
   "pygments_lexer": "ipython3",
   "version": "3.12.10"
  }
 },
 "nbformat": 4,
 "nbformat_minor": 4
}
