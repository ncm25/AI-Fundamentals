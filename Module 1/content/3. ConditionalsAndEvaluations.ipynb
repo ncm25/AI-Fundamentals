{
 "cells": [
  {
   "cell_type": "markdown",
   "metadata": {},
   "source": [
    "# Conditionals and Evaluations\n",
    "\n",
    "To work with logic in Python, you must first understand `if`, `else`, and `elif`. However, there are other conditional statements in Python. This notebook will introduce you to the basic conditional statements that will allow you to accomplish most of your logical work.\n",
    "\n",
    "Evaluations go hand in hand with conditional statements because they are how Python decides whether to move on to the following statement or skip it."
   ]
  },
  {
   "cell_type": "markdown",
   "metadata": {},
   "source": [
    "## Conditionals and Evaluations `if`"
   ]
  },
  {
   "cell_type": "code",
   "execution_count": null,
   "metadata": {},
   "outputs": [],
   "source": [
    "# All conditionals evaluate the result of the condition (expression)\n",
    "condition = True \n",
    "if condition:\n",
    "    print(\"The condition was met\")\n"
   ]
  },
  {
   "cell_type": "code",
   "execution_count": null,
   "metadata": {},
   "outputs": [],
   "source": [
    "# If the condition changes to false, it is skipped.\n",
    "condition = False\n",
    "if condition:\n",
    "    print(\"Was the condition met?\")\n"
   ]
  },
  {
   "cell_type": "code",
   "execution_count": null,
   "metadata": {},
   "outputs": [],
   "source": [
    "# Some data structures are true: false when empty, but true when they contain elements.\n",
    "groceries = []\n",
    "if groceries:\n",
    "    print(\"we have some groceries!\")\n",
    "\n",
    "invites = [\"John\", \"George\"]\n",
    "if invites:\n",
    "    print(\"we have some invites!\")\n",
    "    print(\"\\t Numbers of invites : \", len(invites))"
   ]
  },
  {
   "cell_type": "code",
   "execution_count": null,
   "metadata": {},
   "outputs": [],
   "source": [
    "# Other types, such as integers (0 and any positive integer), are true.\n",
    "properties = 0\n",
    "if properties:\n",
    "    print(\"We have properties!\")\n",
    "\n",
    "parents = 2\n",
    "if parents:\n",
    "    print(\"we have parents!\")"
   ]
  },
  {
   "cell_type": "code",
   "execution_count": null,
   "metadata": {},
   "outputs": [],
   "source": [
    "# operators are supported\n",
    "properties = 0\n",
    "if properties == 0:\n",
    "     print(\"no properties!\")\n",
    "\n",
    "print(\"-\" * 30) \n",
    "parents = 2\n",
    "if parents > 1:\n",
    "    print(\"there is more than 1 parent\")\n",
    "    print('\\tNum of parents:', parents)"
   ]
  },
  {
   "cell_type": "markdown",
   "metadata": {},
   "source": [
    "## Condition `else`\n",
    "When an `if` condition isn't met, you can use an `else` condition (in that order!). General rule: Don't try to combine multiple `if` and `else` conditions and keep them to a minimum, otherwise the code becomes harder to read."
   ]
  },
  {
   "cell_type": "code",
   "execution_count": null,
   "metadata": {},
   "outputs": [],
   "source": [
    "properties = 0\n",
    "# properties = 1\n",
    "\n",
    "if properties:\n",
    "    print(\"We have properties\")\n",
    "else:\n",
    "    print(\"We don't have any properties\")"
   ]
  },
  {
   "cell_type": "markdown",
   "metadata": {},
   "source": [
    "## Condition `elif`\n",
    "This is useful when we want to add an `else` statement that also needs to be assigned to a condition."
   ]
  },
  {
   "cell_type": "code",
   "execution_count": null,
   "metadata": {},
   "outputs": [],
   "source": [
    "properties = 0\n",
    "parents = 2\n",
    "\n",
    "if properties:\n",
    "    print(\"We have properties\")\n",
    "# Evaluate if the variable parents is valid\n",
    "elif parents:\n",
    "    print(\"We don't have any properties, but we have parents\")"
   ]
  },
  {
   "cell_type": "markdown",
   "metadata": {},
   "source": [
    "## Negative conditions\n",
    "By default, Python evaluates statements to \"True.\" To represent a negative statement, you must add the \"not\" keyword. Be careful with statements that use \"not,\" as they can be difficult to read!"
   ]
  },
  {
   "cell_type": "code",
   "execution_count": 6,
   "metadata": {},
   "outputs": [
    {
     "name": "stdout",
     "output_type": "stream",
     "text": [
      "Didn't get a name!\n"
     ]
    }
   ],
   "source": [
    "name = None\n",
    "#name = \"Thomas\"\n",
    "\n",
    "if not name:\n",
    "    print(\"Didn't get a name!\")"
   ]
  },
  {
   "cell_type": "code",
   "execution_count": 7,
   "metadata": {},
   "outputs": [
    {
     "name": "stdout",
     "output_type": "stream",
     "text": [
      "No name!\n"
     ]
    }
   ],
   "source": [
    "# The same is possible with elif conditions.\n",
    "name = None\n",
    "name = \"andres\"\n",
    "last_name = None\n",
    "\n",
    "if name:\n",
    "    print(\"No name!\")\n",
    "elif not last_name:\n",
    "    print(\"No last name either!\")"
   ]
  },
  {
   "cell_type": "markdown",
   "metadata": {},
   "source": [
    "## Compound Conditions with `and`\n",
    "\n",
    "When multiple conditions must be met, you can also use `and`."
   ]
  },
  {
   "cell_type": "code",
   "execution_count": 8,
   "metadata": {},
   "outputs": [
    {
     "name": "stdout",
     "output_type": "stream",
     "text": [
      "This person is married and has kids\n"
     ]
    }
   ],
   "source": [
    "has_kids = True\n",
    "married = True\n",
    "\n",
    "if has_kids and married:\n",
    "    print(\"This person is married and has kids\")"
   ]
  },
  {
   "cell_type": "code",
   "execution_count": 9,
   "metadata": {},
   "outputs": [
    {
     "name": "stdout",
     "output_type": "stream",
     "text": [
      "User not logged in!\n"
     ]
    }
   ],
   "source": [
    "# \"not\" can be used as well, but it can be harder to read.\n",
    "\n",
    "likes_books = False\n",
    "is_logged_in = False\n",
    "\n",
    "if not likes_books and not is_logged_in:\n",
    "    print(\"User not logged in!\")\n"
   ]
  },
  {
   "cell_type": "code",
   "execution_count": 10,
   "metadata": {},
   "outputs": [],
   "source": [
    "a = None"
   ]
  },
  {
   "cell_type": "code",
   "execution_count": 11,
   "metadata": {},
   "outputs": [
    {
     "name": "stdout",
     "output_type": "stream",
     "text": [
      "otra cosa\n"
     ]
    }
   ],
   "source": [
    "if a:\n",
    "    print(\"Algo\")\n",
    "else:\n",
    "    print(\"otra cosa\")"
   ]
  }
 ],
 "metadata": {
  "kernelspec": {
   "display_name": "ai-course-env",
   "language": "python",
   "name": "python3"
  },
  "language_info": {
   "codemirror_mode": {
    "name": "ipython",
    "version": 3
   },
   "file_extension": ".py",
   "mimetype": "text/x-python",
   "name": "python",
   "nbconvert_exporter": "python",
   "pygments_lexer": "ipython3",
   "version": "3.12.10"
  }
 },
 "nbformat": 4,
 "nbformat_minor": 2
}
