{
 "cells": [
  {
   "cell_type": "markdown",
   "id": "845438ab",
   "metadata": {},
   "source": [
    "## Taken from the Fundamentals course of the PGP AIML at The University of Texas"
   ]
  },
  {
   "cell_type": "markdown",
   "id": "c1a6329b",
   "metadata": {},
   "source": [
    "Python for Data Science\n",
    "\n",
    "<p><strong>Kindly go through these guidelines before you begin with the notebook:</strong></p>\n",
    "\n",
    "<p>1.<span>&nbsp;Before starting, please download the dataset from here - <a id=\"\" class=\"instructure_file_link \" title=\"Wine.csv\" href=\"https://olympus.mygreatlearning.com/courses/63286/files/4692112/download?verifier=cfzj0qdALKCFCZEmW0SZ5czAKkr0SSLZMgdTLte8&amp;wrap=1\" target=\"_blank\" data-api-endpoint=\"https://olympus.mygreatlearning.com/api/v1/courses/63286/files/4692112\" data-api-returntype=\"File\" download=\"download\">Wine.csv</a></span></p><p><span>2. This notebook will have both conceptual questions and hands-on questions.<span>&nbsp;</span><span>Hands-on based questions will require you to solve the problem in Python.<span>&nbsp;</span></span><span>Therefore, please keep the Jupyter Notebook open when you start the quiz.</span></span><br>3. Ensure there is a proper internet connection while solve the notebook.</p>"
   ]
  },
  {
   "cell_type": "code",
   "execution_count": null,
   "id": "0f35aae8",
   "metadata": {},
   "outputs": [],
   "source": [
    "import numpy as np\n",
    "import pandas as pd"
   ]
  },
  {
   "cell_type": "code",
   "execution_count": null,
   "id": "2ec59e7f",
   "metadata": {},
   "outputs": [],
   "source": [
    "# Question 1 - Which of the following will be the output of the code given below?\n",
    "demo_array = np.arange(10,21)\n",
    "print(demo_array)\n",
    "subset_demo_array = demo_array[0:7]\n",
    "print(subset_demo_array)\n",
    "subset_demo_array[:]= 101\n",
    "subset_demo_array\n",
    "\n",
    "#Answer: array ([101, 101, 101, 101, 101, 101, 101])"
   ]
  },
  {
   "cell_type": "code",
   "execution_count": null,
   "id": "489a585e",
   "metadata": {},
   "outputs": [],
   "source": [
    "# Question 2 - For the given matrix,\n",
    "# demo_matrix = np.array([[13,35,74,48], [23,37,37,38],[73,39,93,39]])\n",
    "# What will be the output of the following line of code?\n",
    "# demo_matrix[0:3, 1:3]\n",
    "\n",
    "demo_matrix = np.array([[13,35,74,48], [23,37,37,38],[73,39,93,39]])\n",
    "demo_matrix\n",
    "demo_matrix[0:3, 1:3]\n",
    "\n",
    "#Answer: array([[35, 74],[37, 37],[39, 93]])"
   ]
  },
  {
   "cell_type": "code",
   "execution_count": null,
   "id": "f15ed87d",
   "metadata": {},
   "outputs": [],
   "source": [
    "# Question 3 - For the below matrix,\n",
    "# test_array = np.array([1,2,3,4,5,6,7,8,9,10])\n",
    "# What will be the output of the code below?\n",
    "# bool = test_array > 5\n",
    "# bool\n",
    "\n",
    "test_array = np.array([1,2,3,4,5,6,7,8,9,10])\n",
    "test_array\n",
    "\n",
    "bool = test_array > 5\n",
    "bool\n",
    "\n",
    "#Answer: array([False, False, False, False, False, True, True, True, True, True])"
   ]
  },
  {
   "cell_type": "code",
   "execution_count": null,
   "id": "66d4cd9d",
   "metadata": {},
   "outputs": [],
   "source": [
    "# Question 4 - For the given numpy array,\n",
    "# array = np.array([0,1,2,3,4,5,6,7,8,9,10,11,12,13,14,15,16,17,18,19,20,21,22,23,24,25,26,27,28,29])\n",
    "# What will be the output of the following line of code?\n",
    "# array.reshape(10,3)\n",
    "\n",
    "array = np.array([0,1,2,3,4,5,6,7,8,9,10,11,12,13,14,15,16,17,18,19,20,21,22,23,24,25,26,27,28,29])\n",
    "array.reshape(10,3)\n",
    "\n",
    "#Answer: Reshape the array to 2D array of 10 rows and 3 columns"
   ]
  },
  {
   "cell_type": "code",
   "execution_count": null,
   "id": "e21c3939",
   "metadata": {},
   "outputs": [],
   "source": [
    "# Question 5 - How can we access multiple series/columns in a DataFrame (df)?\n",
    "df = pd.DataFrame(demo_matrix)\n",
    "df.rename(columns = {0:'column_1',1:'column_2',2:'column_3',3:'column_4'}, inplace = True)\n",
    "df[['column_1', 'column_2', 'column_3', 'column_4']]\n",
    "\n",
    "#Answer: df[['column_1', 'column_2', 'column_3', 'column_4']]"
   ]
  },
  {
   "cell_type": "code",
   "execution_count": null,
   "id": "33d91859",
   "metadata": {},
   "outputs": [],
   "source": [
    "# Question 6 - How can we merge two dataframes according to the column named 'A'?\n",
    "\n",
    "\n",
    "#Answer: pd.merge(df1, df2, how = 'outer', on = 'A')"
   ]
  },
  {
   "cell_type": "code",
   "execution_count": null,
   "id": "333bc0f3",
   "metadata": {},
   "outputs": [],
   "source": [
    "# Question 7 - How do you combine two data frames side by side?\n",
    "df1 = pd.DataFrame(demo_matrix)\n",
    "df2 = pd.DataFrame(demo_matrix)\n",
    "\n",
    "pd.concat([df1,df2])"
   ]
  },
  {
   "cell_type": "code",
   "execution_count": null,
   "id": "27709512",
   "metadata": {},
   "outputs": [],
   "source": [
    "# Question 8 - What will be the output of the following code for the below df?\n",
    "d8 = {'W':[1,15,24,28],'X':[2,12,35,62],'Y':[53,43,83,73],'Z':[34,78,99,22]}\n",
    "df8 = pd.DataFrame(data=d8,index=['A','B','C','D'])\n",
    "df8"
   ]
  },
  {
   "cell_type": "code",
   "execution_count": null,
   "id": "95869dad",
   "metadata": {},
   "outputs": [],
   "source": [
    "df8.loc[['A', 'B'], ['Y', 'Z']]"
   ]
  },
  {
   "cell_type": "code",
   "execution_count": null,
   "id": "af50e8ba",
   "metadata": {},
   "outputs": [],
   "source": [
    "# Question 9 - Read the given 'Wine.csv' data file into a dataframe object and call it df.\n",
    "# Which of the following codes will give the below output :\n",
    "#    magnesium   total_phenois\n",
    "# 2    101.0         2.80\n",
    "# 3    113.0         3.85\n",
    "\n",
    "path = \"Wine.csv\"\n",
    "df9 = pd.read_csv(path)\n",
    "df9"
   ]
  },
  {
   "cell_type": "code",
   "execution_count": null,
   "id": "24c6de61",
   "metadata": {},
   "outputs": [],
   "source": [
    "df9.loc[[2,3],['magnesium', 'total_phenols']]"
   ]
  },
  {
   "cell_type": "code",
   "execution_count": null,
   "id": "d8859eb2",
   "metadata": {},
   "outputs": [],
   "source": [
    "# Question 10 - Based on the given dataset (df9), which of the following code will \n",
    "# return the mean of the 'alcalinity_of_ash' column?\n",
    "\n",
    "df9['alcalinity_of_ash'].mean()"
   ]
  },
  {
   "cell_type": "code",
   "execution_count": null,
   "id": "f793ba02",
   "metadata": {},
   "outputs": [],
   "source": [
    "# Question 11 - For the dataframe df9, what will be the output of the below lines of code?\n",
    "\n",
    "def edit_col(col):\n",
    "    col = col*2 + 10\n",
    "    return col\n",
    "\n",
    "df9.malic_acid.apply(edit_col).head()\n",
    "\n",
    "#Answer: \n",
    "# 0    13.42\n",
    "# 1    13.56\n",
    "# 2    14.72\n",
    "# 3    13.90\n",
    "# 4    15.18"
   ]
  },
  {
   "cell_type": "code",
   "execution_count": null,
   "id": "1adff833",
   "metadata": {},
   "outputs": [],
   "source": [
    "# Question 12 - Based on the Wine dataset df9, which of the following code will return the below output?\n",
    "df12 = pd.read_csv(path)\n",
    "df12.sort_values(by = 'total_phenols')\n",
    "\n",
    "#Answer: No es muy clara la opciones dadas. \n",
    "# Revisar"
   ]
  },
  {
   "cell_type": "code",
   "execution_count": null,
   "id": "96e97c8a",
   "metadata": {},
   "outputs": [],
   "source": [
    "# Question 13 - Which of the following functions will display the quartiles, \n",
    "# mean, count, standard deviation, min, and max of the dataframe df?\n",
    "\n",
    "df12.describe()"
   ]
  },
  {
   "cell_type": "code",
   "execution_count": null,
   "id": "9ce7c583",
   "metadata": {},
   "outputs": [],
   "source": [
    "# Question 14 - Which of the following codes saves the dataframe 'df' to a '.csv' file with the index as the first column?\n",
    "\n",
    "df12.to_csv(\"df12.csv\", index = True)"
   ]
  }
 ],
 "metadata": {
  "kernelspec": {
   "display_name": "tssdev (3.12.7)",
   "language": "python",
   "name": "python3"
  },
  "language_info": {
   "codemirror_mode": {
    "name": "ipython",
    "version": 3
   },
   "file_extension": ".py",
   "mimetype": "text/x-python",
   "name": "python",
   "nbconvert_exporter": "python",
   "pygments_lexer": "ipython3",
   "version": "3.12.7"
  }
 },
 "nbformat": 4,
 "nbformat_minor": 5
}
