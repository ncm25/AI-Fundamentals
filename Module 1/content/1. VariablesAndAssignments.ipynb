{
 "cells": [
  {
   "cell_type": "markdown",
   "metadata": {},
   "source": [
    "# Variables and Assignments\n",
    "\n",
    "Variables and variable assignments are the foundation of working with Python. You can handle more complex tasks if you know how to assign values ​​to variables and interact with them.\n",
    "Variables can come from a direct assignment or from assigning a _result_ value to a variable. Always use meaningful variables. Avoid implying the variable type or using meaningless names.\n"
   ]
  },
  {
   "cell_type": "code",
   "execution_count": 1,
   "metadata": {},
   "outputs": [],
   "source": [
    "# variable assignment\n",
    "name = \"Thomas\"\n",
    "last_name = \"AWOUNFOUET\""
   ]
  },
  {
   "cell_type": "code",
   "execution_count": 2,
   "metadata": {},
   "outputs": [],
   "source": [
    "# No need to worry about the value type\n",
    "height = 10000\n",
    "distance = 1.33\n",
    "date = \"Tuesday\""
   ]
  },
  {
   "cell_type": "code",
   "execution_count": 3,
   "metadata": {},
   "outputs": [
    {
     "data": {
      "text/plain": [
       "'10000'"
      ]
     },
     "execution_count": 3,
     "metadata": {},
     "output_type": "execute_result"
    }
   ],
   "source": [
    "# Lack of type checking can complicate things\n",
    "height = \"10000\"\n",
    "height"
   ]
  },
  {
   "cell_type": "code",
   "execution_count": 4,
   "metadata": {},
   "outputs": [
    {
     "data": {
      "text/plain": [
       "'Tom'"
      ]
     },
     "execution_count": 4,
     "metadata": {},
     "output_type": "execute_result"
    }
   ],
   "source": [
    "# re-assigning variables\n",
    "name = \"Tom\"\n",
    "name"
   ]
  },
  {
   "cell_type": "code",
   "execution_count": 5,
   "metadata": {},
   "outputs": [
    {
     "name": "stdout",
     "output_type": "stream",
     "text": [
      "Tom AWOUNFOUET\n"
     ]
    }
   ],
   "source": [
    "# Using print() with variables\n",
    "print(name, last_name)"
   ]
  },
  {
   "cell_type": "code",
   "execution_count": 6,
   "metadata": {},
   "outputs": [
    {
     "data": {
      "text/plain": [
       "'Tom AWOUNFOUET'"
      ]
     },
     "execution_count": 6,
     "metadata": {},
     "output_type": "execute_result"
    }
   ],
   "source": [
    "# Create new variables from existing variables\n",
    "# Be careful with strings\n",
    "# full_name = name + last_name\n",
    "\n",
    "full_name = f\"{name} {last_name}\"\n",
    "full_name"
   ]
  },
  {
   "cell_type": "code",
   "execution_count": 7,
   "metadata": {},
   "outputs": [
    {
     "name": "stdout",
     "output_type": "stream",
     "text": [
      "Tom\n",
      "Tom\n",
      "Thomas\n"
     ]
    }
   ],
   "source": [
    "# Be careful when copying variables!\n",
    "new_name = name\n",
    "print(new_name)\n",
    "name = \"Thomas\"\n",
    "print(new_name)\n",
    "print(name)"
   ]
  },
  {
   "cell_type": "code",
   "execution_count": 8,
   "metadata": {},
   "outputs": [
    {
     "name": "stdout",
     "output_type": "stream",
     "text": [
      "Thomas AWOUNFOUET is your instructor today.\n"
     ]
    }
   ],
   "source": [
    "# The print() function helps display values\n",
    "# Adds separation when using commas\n",
    "print(name, last_name, \"is your instructor\", \"today.\")"
   ]
  },
  {
   "cell_type": "code",
   "execution_count": 9,
   "metadata": {},
   "outputs": [
    {
     "name": "stdout",
     "output_type": "stream",
     "text": [
      "Thomas AWOUNFOUET is your instructor today.\n"
     ]
    }
   ],
   "source": [
    "print(f\"{name} {last_name} is your instructor today.\")"
   ]
  }
 ],
 "metadata": {
  "kernelspec": {
   "display_name": "ai-course-env",
   "language": "python",
   "name": "python3"
  },
  "language_info": {
   "codemirror_mode": {
    "name": "ipython",
    "version": 3
   },
   "file_extension": ".py",
   "mimetype": "text/x-python",
   "name": "python",
   "nbconvert_exporter": "python",
   "pygments_lexer": "ipython3",
   "version": "3.12.10"
  },
  "orig_nbformat": 4
 },
 "nbformat": 4,
 "nbformat_minor": 2
}
