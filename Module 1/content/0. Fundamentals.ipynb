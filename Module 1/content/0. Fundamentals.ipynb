{
 "cells": [
  {
   "cell_type": "markdown",
   "id": "f76e55cc-866d-4c85-8085-15cabbf0c0d7",
   "metadata": {},
   "source": [
    "<ul>\n",
    "<li>Variables in Python don't need to be declared; they are simply defined when they are first used. They can be changed by redefining them.</li>\n",
    "<li>Python has the same basic data types as other languages: Integers, floats, strings, and Booleans.</li>\n",
    "</ul>\n",
    "\n",
    "- Lists are a predefined type in the language.\n",
    "- Tuples are lists that cannot be modified. They are read-only lists.\n",
    "- Loops and control structures (if, for, while)\n",
    "- Dictionaries: used to store data values ​​in key:value pairs\n",
    "- Functions\n",
    "\n",
    "* Hello World\n",
    "\n",
    "* Hello World *"
   ]
  },
  {
   "cell_type": "code",
   "execution_count": null,
   "id": "e95dfa8e-5251-4c90-9e44-34b3641c244c",
   "metadata": {},
   "outputs": [],
   "source": [
    "a = [45, 50, 55, 60, 75, 80, 90]"
   ]
  },
  {
   "cell_type": "code",
   "execution_count": null,
   "id": "e6784953-d207-4548-95ad-eabb56895e14",
   "metadata": {},
   "outputs": [],
   "source": [
    "type(a)"
   ]
  },
  {
   "cell_type": "code",
   "execution_count": null,
   "id": "4cd6ac70",
   "metadata": {},
   "outputs": [],
   "source": [
    "a"
   ]
  },
  {
   "cell_type": "code",
   "execution_count": null,
   "id": "334aedc4-46b6-4606-95f4-968ebc72d770",
   "metadata": {},
   "outputs": [],
   "source": [
    "print(\"The values ​​that are contained in the variable a are:\",a)"
   ]
  },
  {
   "cell_type": "code",
   "execution_count": null,
   "id": "2747590c",
   "metadata": {},
   "outputs": [],
   "source": [
    "a.append(9999)"
   ]
  },
  {
   "cell_type": "code",
   "execution_count": null,
   "id": "8f932dbd",
   "metadata": {},
   "outputs": [],
   "source": [
    "print(len(a))"
   ]
  },
  {
   "cell_type": "code",
   "execution_count": null,
   "id": "2ab48dcb",
   "metadata": {},
   "outputs": [],
   "source": [
    "print(a[2])"
   ]
  },
  {
   "cell_type": "code",
   "execution_count": null,
   "id": "907e95ae-22af-4480-937e-b9a9ce67cf26",
   "metadata": {},
   "outputs": [],
   "source": [
    "a=(1,2,57,4)"
   ]
  },
  {
   "cell_type": "code",
   "execution_count": null,
   "id": "1396c892-bcbb-4be0-bd06-dcda0307a96b",
   "metadata": {},
   "outputs": [],
   "source": [
    "type(a)"
   ]
  },
  {
   "cell_type": "code",
   "execution_count": null,
   "id": "7c2f8651-fffc-42a0-a432-02c6da6c07fb",
   "metadata": {},
   "outputs": [],
   "source": [
    "print(a)"
   ]
  },
  {
   "cell_type": "code",
   "execution_count": null,
   "id": "f2fbd419-f551-41f8-9f0c-26d2883b074d",
   "metadata": {},
   "outputs": [],
   "source": [
    "print(len(a))"
   ]
  },
  {
   "cell_type": "code",
   "execution_count": null,
   "id": "8b0f432e-df1d-4281-983a-8f80f6c0df27",
   "metadata": {},
   "outputs": [],
   "source": [
    "print(a[0])"
   ]
  },
  {
   "cell_type": "code",
   "execution_count": null,
   "id": "10811323-abfc-4811-a574-fa76e8b882df",
   "metadata": {},
   "outputs": [],
   "source": [
    "a.append(23)"
   ]
  },
  {
   "cell_type": "code",
   "execution_count": null,
   "id": "b2f6dc28",
   "metadata": {},
   "outputs": [],
   "source": [
    "if a[3] >= 1:\n",
    "    b = a[3]**4\n",
    "    print(\"This is the value raised to the power of 4: \", b)"
   ]
  },
  {
   "cell_type": "code",
   "execution_count": null,
   "id": "84709ece-7a5c-46ad-88b9-526a64fd8adb",
   "metadata": {},
   "outputs": [],
   "source": [
    "if a[2] >= 3:\n",
    "    print(\"ALGO\")\n",
    "else:\n",
    "    print(\"The number is less than 3\")"
   ]
  },
  {
   "cell_type": "code",
   "execution_count": null,
   "id": "4dcb4158",
   "metadata": {},
   "outputs": [],
   "source": [
    "a = (1,2,3,4,5,6,7,8,9)"
   ]
  },
  {
   "cell_type": "code",
   "execution_count": null,
   "id": "e6e492d6",
   "metadata": {},
   "outputs": [],
   "source": [
    "a = False"
   ]
  },
  {
   "cell_type": "code",
   "execution_count": null,
   "id": "4eef0914",
   "metadata": {},
   "outputs": [],
   "source": [
    "print(a)"
   ]
  },
  {
   "cell_type": "code",
   "execution_count": null,
   "id": "9acfbdbd",
   "metadata": {},
   "outputs": [],
   "source": [
    "type(a)"
   ]
  },
  {
   "cell_type": "code",
   "execution_count": null,
   "id": "1bd70226",
   "metadata": {},
   "outputs": [],
   "source": [
    "if type(a) == list:\n",
    "    print(\"It's a list\")\n",
    "elif type(a) == tuple:\n",
    "    print(\"It's a tuple\")\n",
    "else:\n",
    "    print(\"The data type of the variable is: \", type(a))"
   ]
  },
  {
   "cell_type": "code",
   "execution_count": null,
   "id": "ee699d1e-a7ee-424d-ae1e-274f81d962a6",
   "metadata": {},
   "outputs": [],
   "source": [
    "for index in a:\n",
    "    print(\"The current value of the list is: \", index)"
   ]
  },
  {
   "cell_type": "code",
   "execution_count": null,
   "id": "4b1a1d00-7951-46c9-9356-2b8308a5dce4",
   "metadata": {},
   "outputs": [],
   "source": [
    "dictionary = {\n",
    "  \"Brand\": \"Ford\",\n",
    "  \"Model\": \"Mustang\",\n",
    "  \"Year of Contruction\": 1964,\n",
    "  \"Color\": \"Dark blue\",\n",
    "  \"It's an old car?\": True\n",
    "}"
   ]
  },
  {
   "cell_type": "code",
   "execution_count": null,
   "id": "b27798ff",
   "metadata": {},
   "outputs": [],
   "source": [
    "type(dictionary)"
   ]
  },
  {
   "cell_type": "code",
   "execution_count": null,
   "id": "ca6a65f8-dd6c-4bca-b4b3-827ef547e11a",
   "metadata": {},
   "outputs": [],
   "source": [
    "print(dictionary[\"It's an old car?\"])"
   ]
  },
  {
   "cell_type": "code",
   "execution_count": null,
   "id": "26437e42",
   "metadata": {},
   "outputs": [],
   "source": [
    "print(len(dictionary))"
   ]
  },
  {
   "cell_type": "code",
   "execution_count": null,
   "id": "1ffebc6d",
   "metadata": {},
   "outputs": [],
   "source": [
    "for key, value in dictionary.items():\n",
    "    print(\"The current value in the key\", key, \" is: \", value)"
   ]
  },
  {
   "cell_type": "code",
   "execution_count": null,
   "id": "0ec7da1b",
   "metadata": {},
   "outputs": [],
   "source": [
    "for key, value in dictionary.items():\n",
    "    print(f\"The value of the key {key}, is {value}\")"
   ]
  },
  {
   "cell_type": "code",
   "execution_count": null,
   "id": "569f07c0",
   "metadata": {},
   "outputs": [],
   "source": [
    "for key in dictionary.keys():\n",
    "    print(f\"The key is: {key}\")"
   ]
  },
  {
   "cell_type": "code",
   "execution_count": null,
   "id": "7324e598",
   "metadata": {},
   "outputs": [],
   "source": [
    "for value in dictionary.values():\n",
    "    print(f\"The key is: {value}\")"
   ]
  },
  {
   "cell_type": "code",
   "execution_count": null,
   "id": "5962d612-1505-4e41-aa8d-4f23798d51ed",
   "metadata": {},
   "outputs": [],
   "source": [
    "def add_data(a, b=5,c=23):\n",
    "    print(a+b+c)"
   ]
  },
  {
   "cell_type": "code",
   "execution_count": null,
   "id": "f3f02c62-14f0-4d22-a972-3e7c7530b08e",
   "metadata": {},
   "outputs": [],
   "source": [
    "a = 34\n",
    "b = 23\n",
    "add_data(a, b)"
   ]
  },
  {
   "cell_type": "code",
   "execution_count": null,
   "id": "6010022d",
   "metadata": {},
   "outputs": [],
   "source": [
    "a = 4\n",
    "add_data(a)"
   ]
  },
  {
   "cell_type": "code",
   "execution_count": null,
   "id": "1400cc19",
   "metadata": {},
   "outputs": [],
   "source": [
    "a = [1,2,3,4,5,6,7,8,9, 23, 56, 12, 34, 78, 53.67]"
   ]
  },
  {
   "cell_type": "code",
   "execution_count": null,
   "id": "2abef20a-58c2-4c0e-b2e2-7383896874a9",
   "metadata": {},
   "outputs": [],
   "source": [
    "def add_alldata_items(lista):\n",
    "    add = 0\n",
    "    for index in lista:\n",
    "        #add = add + index\n",
    "        add += index\n",
    "    return add"
   ]
  },
  {
   "cell_type": "code",
   "execution_count": null,
   "id": "631b25f2",
   "metadata": {},
   "outputs": [],
   "source": [
    "print(add_alldata_items(a))"
   ]
  },
  {
   "cell_type": "code",
   "execution_count": null,
   "id": "0672aaf2-e32e-4e4d-89ba-2b85b81fe1e2",
   "metadata": {},
   "outputs": [],
   "source": [
    "returnvalue = add_alldata_items(a)"
   ]
  },
  {
   "cell_type": "code",
   "execution_count": null,
   "id": "5238f95e",
   "metadata": {},
   "outputs": [],
   "source": [
    "print(f\"The value of the sum of all the indexes in list 'a' is: {returnvalue}\")"
   ]
  },
  {
   "cell_type": "markdown",
   "id": "df5dd9b6-f7d6-42ed-bb4a-f33dc2987366",
   "metadata": {},
   "source": [
    "<h1>Hello World</h1>\n",
    "<h2>Hello World</h2>\n",
    "<h3>Hello World</h3>\n",
    "<h4>Hello World</h4>\n"
   ]
  },
  {
   "cell_type": "markdown",
   "id": "61185ece-2d1e-4bc1-b754-ac92069b02f2",
   "metadata": {},
   "source": [
    "# Hello World\n",
    "## Hello World\n",
    "### Hello World\n",
    "#### Hello World\n"
   ]
  },
  {
   "cell_type": "markdown",
   "id": "131c75a3-266f-48b9-aa18-c81f74d87775",
   "metadata": {},
   "source": [
    "# Header 1\n",
    "## Header 2\n",
    "Normal text with **bold** and *italic*.\n",
    "- List\n",
    "- of\n",
    "- Elements\n",
    "\n",
    "Formula: \\[ E = mc^2 \\]"
   ]
  },
  {
   "cell_type": "markdown",
   "id": "ab6bb581-9484-4cf9-9fa2-997af7bf1269",
   "metadata": {},
   "source": [
    "$$\n",
    "\\int_0^\\infty \\frac{x^3}{e^x-1}\\,dx = \\frac{\\pi^4}{15}\n",
    "$$"
   ]
  },
  {
   "cell_type": "markdown",
   "id": "00f1d8be-8ca0-4fc1-8914-07d146247088",
   "metadata": {},
   "source": [
    "\\begin{gather*}\n",
    "a_1=b_1+c_1\\\\\n",
    "a_2=b_2+c_2-d_2+e_2\n",
    "\\end{gather*}\n",
    "\n",
    "\\begin{align}\n",
    "a_{11}& =b_{11}&\n",
    "  a_{12}& =b_{12}\\\\\n",
    "a_{21}& =b_{21}&\n",
    "  a_{22}& =b_{22}+c_{22}\n",
    "\\end{align}"
   ]
  }
 ],
 "metadata": {
  "kernelspec": {
   "display_name": "Python (AI Fundamentals Course)",
   "language": "python",
   "name": "ai-fundamentals"
  },
  "language_info": {
   "codemirror_mode": {
    "name": "ipython",
    "version": 3
   },
   "file_extension": ".py",
   "mimetype": "text/x-python",
   "name": "python",
   "nbconvert_exporter": "python",
   "pygments_lexer": "ipython3",
   "version": "3.12.9"
  }
 },
 "nbformat": 4,
 "nbformat_minor": 5
}
