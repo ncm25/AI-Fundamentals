{
 "cells": [
  {
   "cell_type": "markdown",
   "metadata": {},
   "source": [
    "# Working with Types\n",
    "Python comes with different types that help us manage data. An integer, for example, will always be a whole number like `1`. If you need decimals, you'll need to use a different type like a float, for example: `1.74`.\n",
    "\n",
    "Different types have different attributes, and we'll cover some of them here, including strings, booleans, integers, floats, and `None`."
   ]
  },
  {
   "cell_type": "markdown",
   "metadata": {},
   "source": [
    "## Types\n",
    "\n",
    "Working with different types can be tricky. It's a good idea to find out what type a variable is or make sure you can combine certain types."
   ]
  },
  {
   "cell_type": "markdown",
   "metadata": {},
   "source": [
    "### Strings\n",
    "\n",
    "One of the most common types in Python is strings. Think of strings as a representation of text in a programming language. Strings have some properties worth highlighting."
   ]
  },
  {
   "cell_type": "code",
   "execution_count": null,
   "metadata": {},
   "outputs": [],
   "source": [
    "# Strings can be enclosed in single, double, and triple quotes.\n",
    "full_name = 'Thomas AWOUNFOUET'\n",
    "\n",
    "print(full_name)"
   ]
  },
  {
   "cell_type": "code",
   "execution_count": null,
   "metadata": {},
   "outputs": [],
   "source": [
    "full_name = \"Thomas AWOUNFOUET\"\n",
    "\n",
    "print(full_name)"
   ]
  },
  {
   "cell_type": "code",
   "execution_count": 1,
   "metadata": {},
   "outputs": [
    {
     "name": "stdout",
     "output_type": "stream",
     "text": [
      "when I want to put \"double quotes\" or 'single quotes' in my text\n"
     ]
    }
   ],
   "source": [
    "full_name = \"\"\"Thomas AWOUNFOUET\"\"\"\n",
    "\n",
    "unvalor = \"\"\"when I want to put \"double quotes\" or 'single quotes' in my text\"\"\"\n",
    "print(unvalor)"
   ]
  },
  {
   "cell_type": "code",
   "execution_count": null,
   "metadata": {},
   "outputs": [],
   "source": [
    "# Triple quotes are useful when there are quotes inside a string.\n",
    "summary = \"\"\"Triple quotes are useful when you have a ' or a \" within a string\"\"\"\n",
    "print(summary)"
   ]
  },
  {
   "cell_type": "code",
   "execution_count": null,
   "metadata": {},
   "outputs": [],
   "source": [
    "# Use single quotes when you have double quotes in a string\n",
    "summary = 'Use single quotes when there is a \" in your string'\n",
    "print(summary)\n",
    "print(\"And use double quotes when you have a ' in your string\")"
   ]
  },
  {
   "cell_type": "code",
   "execution_count": null,
   "metadata": {},
   "outputs": [],
   "source": [
    "# String support that appends to other strings to compose text\n",
    "name = \"Thomas\"\n",
    "result = \"this lesson is brought to you by \" + name\n",
    "print(result)"
   ]
  },
  {
   "cell_type": "code",
   "execution_count": null,
   "metadata": {},
   "outputs": [],
   "source": [
    "# Using f-strings to replace variables in a string\n",
    "result = f\"{name} is teaching f-strings!\"\n",
    "print(result)"
   ]
  },
  {
   "cell_type": "markdown",
   "metadata": {},
   "source": [
    "### Integers\n",
    "\n",
    "Integers are represented in Python as `int`. They are _always_ integers and support numeric representation."
   ]
  },
  {
   "cell_type": "code",
   "execution_count": null,
   "metadata": {},
   "outputs": [],
   "source": [
    "# use type() to find out what the type is if you don't know it\n",
    "type(15)"
   ]
  },
  {
   "cell_type": "code",
   "execution_count": null,
   "metadata": {},
   "outputs": [],
   "source": [
    "# Integers support mathematical operations.\n",
    "14 / 2"
   ]
  },
  {
   "cell_type": "code",
   "execution_count": null,
   "metadata": {},
   "outputs": [],
   "source": [
    "# Be careful with invalid mathematical operations\n",
    "7 / 0"
   ]
  },
  {
   "cell_type": "code",
   "execution_count": null,
   "metadata": {},
   "outputs": [],
   "source": [
    "# As with all other types, be careful when mixing incompatible types.\n",
    "7 + \"14\""
   ]
  },
  {
   "cell_type": "code",
   "execution_count": null,
   "metadata": {},
   "outputs": [],
   "source": [
    "# Types may change depending on operations.\n",
    "result = 3 / 2\n",
    "print(result)\n",
    "type(result)"
   ]
  },
  {
   "cell_type": "markdown",
   "metadata": {},
   "source": [
    "### Floats\n",
    "\n",
    "Floats are similar to integers and are represented in Python as \"floats.\" They also support mathematical operations."
   ]
  },
  {
   "cell_type": "code",
   "execution_count": null,
   "metadata": {},
   "outputs": [],
   "source": [
    "type(14.3)"
   ]
  },
  {
   "cell_type": "code",
   "execution_count": null,
   "metadata": {},
   "outputs": [],
   "source": [
    "311 / 99"
   ]
  },
  {
   "cell_type": "markdown",
   "metadata": {},
   "source": [
    "### Booleans\n",
    "\n",
    "Boolean values ​​(type `bool`) are natively represented in Python by `True` and `False`. Note that other types can represent true or false values ​​(often called _truthful_ values) such as 1 and 0. This is especially important to understand when working with conditionals."
   ]
  },
  {
   "cell_type": "code",
   "execution_count": null,
   "metadata": {},
   "outputs": [],
   "source": [
    "type(True)"
   ]
  },
  {
   "cell_type": "code",
   "execution_count": null,
   "metadata": {},
   "outputs": [],
   "source": [
    "# True values ​​can be converted to booleans with the `bool()` builtin\n",
    "first_result = bool(1)\n",
    "second_result = bool(0)\n",
    "\n",
    "valorverdadero = True\n",
    "valorfalse = False\n",
    "\n",
    "print(first_result, valorverdadero)\n",
    "print(second_result, valorfalse)"
   ]
  },
  {
   "cell_type": "markdown",
   "metadata": {},
   "source": [
    "### None\n",
    "`None` indicates a null value. Its type is `NoneType` and it can appear when running functions that don't return anything. However, you can still assign `None` to variables."
   ]
  },
  {
   "cell_type": "code",
   "execution_count": null,
   "metadata": {},
   "outputs": [],
   "source": [
    "type(None)"
   ]
  }
 ],
 "metadata": {
  "kernelspec": {
   "display_name": "ai-course-env",
   "language": "python",
   "name": "python3"
  },
  "language_info": {
   "codemirror_mode": {
    "name": "ipython",
    "version": 3
   },
   "file_extension": ".py",
   "mimetype": "text/x-python",
   "name": "python",
   "nbconvert_exporter": "python",
   "pygments_lexer": "ipython3",
   "version": "3.12.10"
  },
  "orig_nbformat": 4
 },
 "nbformat": 4,
 "nbformat_minor": 2
}
